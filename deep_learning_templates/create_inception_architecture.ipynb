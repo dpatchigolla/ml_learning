{
 "cells": [
  {
   "cell_type": "code",
   "execution_count": 2,
   "metadata": {},
   "outputs": [
    {
     "name": "stderr",
     "output_type": "stream",
     "text": [
      "Using TensorFlow backend.\n",
      "/Users/z003cbx/anaconda3/lib/python3.6/importlib/_bootstrap.py:219: RuntimeWarning: compiletime version 3.5 of module 'tensorflow.python.framework.fast_tensor_util' does not match runtime version 3.6\n",
      "  return f(*args, **kwds)\n"
     ]
    }
   ],
   "source": [
    "import keras\n",
    "from keras.models import Model\n",
    "from keras.layers import Dense, Input, MaxPool2D, Conv2D"
   ]
  },
  {
   "cell_type": "code",
   "execution_count": 3,
   "metadata": {},
   "outputs": [],
   "source": [
    "input_img = Input(shape=(256,256,3))"
   ]
  },
  {
   "cell_type": "code",
   "execution_count": 8,
   "metadata": {},
   "outputs": [],
   "source": [
    "tower1= Conv2D(64, (1,1), padding='same', activation='relu')(input_img)\n",
    "tower1= Conv2D(64, (3,3), padding='same', activation='relu')(tower1)\n",
    "\n",
    "tower2= Conv2D(64, (1,1), padding='same', activation='relu')(input_img)\n",
    "tower2= Conv2D(64, (5,5), padding='same', activation='relu')(tower2)\n",
    "\n",
    "tower3= MaxPool2D( (3,3), strides=(1,1), padding='same')(input_img)\n",
    "tower3= Conv2D(64, (1,1), padding='same', activation='relu')(tower3)"
   ]
  },
  {
   "cell_type": "code",
   "execution_count": 9,
   "metadata": {},
   "outputs": [],
   "source": [
    "output = keras.layers.concatenate([tower1, tower2, tower3], axis=1)"
   ]
  },
  {
   "cell_type": "code",
   "execution_count": 10,
   "metadata": {},
   "outputs": [
    {
     "data": {
      "text/plain": [
       "tensorflow.python.framework.ops.Tensor"
      ]
     },
     "execution_count": 10,
     "metadata": {},
     "output_type": "execute_result"
    }
   ],
   "source": [
    "type(output)"
   ]
  },
  {
   "cell_type": "code",
   "execution_count": 13,
   "metadata": {},
   "outputs": [],
   "source": [
    "model = Model(inputs=input_img, outputs = output)"
   ]
  },
  {
   "cell_type": "markdown",
   "metadata": {},
   "source": [
    "## Printing Inception module"
   ]
  },
  {
   "cell_type": "code",
   "execution_count": 15,
   "metadata": {},
   "outputs": [],
   "source": [
    "from IPython.display import SVG\n",
    "from keras.utils.vis_utils import model_to_dot"
   ]
  },
  {
   "cell_type": "code",
   "execution_count": 16,
   "metadata": {},
   "outputs": [
    {
     "data": {
      "image/svg+xml": [
       "<svg height=\"264pt\" viewBox=\"0.00 0.00 507.83 264.00\" width=\"508pt\" xmlns=\"http://www.w3.org/2000/svg\" xmlns:xlink=\"http://www.w3.org/1999/xlink\">\n",
       "<g class=\"graph\" id=\"graph0\" transform=\"scale(1 1) rotate(0) translate(4 260)\">\n",
       "<title>G</title>\n",
       "<polygon fill=\"#ffffff\" points=\"-4,4 -4,-260 503.8311,-260 503.8311,4 -4,4\" stroke=\"transparent\"/>\n",
       "<!-- 47607032128 -->\n",
       "<g class=\"node\" id=\"node1\">\n",
       "<title>47607032128</title>\n",
       "<polygon fill=\"none\" points=\"142.8447,-219.5 142.8447,-255.5 271.207,-255.5 271.207,-219.5 142.8447,-219.5\" stroke=\"#000000\"/>\n",
       "<text fill=\"#000000\" font-family=\"Times,serif\" font-size=\"14.00\" text-anchor=\"middle\" x=\"207.0259\" y=\"-233.3\">input_1: InputLayer</text>\n",
       "</g>\n",
       "<!-- 47609132984 -->\n",
       "<g class=\"node\" id=\"node2\">\n",
       "<title>47609132984</title>\n",
       "<polygon fill=\"none\" points=\"0,-146.5 0,-182.5 126.0518,-182.5 126.0518,-146.5 0,-146.5\" stroke=\"#000000\"/>\n",
       "<text fill=\"#000000\" font-family=\"Times,serif\" font-size=\"14.00\" text-anchor=\"middle\" x=\"63.0259\" y=\"-160.3\">conv2d_6: Conv2D</text>\n",
       "</g>\n",
       "<!-- 47607032128&#45;&gt;47609132984 -->\n",
       "<g class=\"edge\" id=\"edge1\">\n",
       "<title>47607032128-&gt;47609132984</title>\n",
       "<path d=\"M171.4304,-219.4551C152.2186,-209.7157 128.3141,-197.5975 107.8448,-187.2207\" fill=\"none\" stroke=\"#000000\"/>\n",
       "<polygon fill=\"#000000\" points=\"109.2129,-183.9903 98.711,-182.5904 106.0478,-190.2338 109.2129,-183.9903\" stroke=\"#000000\"/>\n",
       "</g>\n",
       "<!-- 47609040624 -->\n",
       "<g class=\"node\" id=\"node3\">\n",
       "<title>47609040624</title>\n",
       "<polygon fill=\"none\" points=\"144,-146.5 144,-182.5 270.0518,-182.5 270.0518,-146.5 144,-146.5\" stroke=\"#000000\"/>\n",
       "<text fill=\"#000000\" font-family=\"Times,serif\" font-size=\"14.00\" text-anchor=\"middle\" x=\"207.0259\" y=\"-160.3\">conv2d_8: Conv2D</text>\n",
       "</g>\n",
       "<!-- 47607032128&#45;&gt;47609040624 -->\n",
       "<g class=\"edge\" id=\"edge2\">\n",
       "<title>47607032128-&gt;47609040624</title>\n",
       "<path d=\"M207.0259,-219.4551C207.0259,-211.3828 207.0259,-201.6764 207.0259,-192.6817\" fill=\"none\" stroke=\"#000000\"/>\n",
       "<polygon fill=\"#000000\" points=\"210.526,-192.5903 207.0259,-182.5904 203.526,-192.5904 210.526,-192.5903\" stroke=\"#000000\"/>\n",
       "</g>\n",
       "<!-- 47609484064 -->\n",
       "<g class=\"node\" id=\"node4\">\n",
       "<title>47609484064</title>\n",
       "<polygon fill=\"none\" points=\"288.2207,-146.5 288.2207,-182.5 499.8311,-182.5 499.8311,-146.5 288.2207,-146.5\" stroke=\"#000000\"/>\n",
       "<text fill=\"#000000\" font-family=\"Times,serif\" font-size=\"14.00\" text-anchor=\"middle\" x=\"394.0259\" y=\"-160.3\">max_pooling2d_2: MaxPooling2D</text>\n",
       "</g>\n",
       "<!-- 47607032128&#45;&gt;47609484064 -->\n",
       "<g class=\"edge\" id=\"edge3\">\n",
       "<title>47607032128-&gt;47609484064</title>\n",
       "<path d=\"M253.2506,-219.4551C278.9859,-209.4087 311.2056,-196.8309 338.3243,-186.2445\" fill=\"none\" stroke=\"#000000\"/>\n",
       "<polygon fill=\"#000000\" points=\"339.6422,-189.4873 347.6848,-182.5904 337.0967,-182.9665 339.6422,-189.4873\" stroke=\"#000000\"/>\n",
       "</g>\n",
       "<!-- 47609132928 -->\n",
       "<g class=\"node\" id=\"node5\">\n",
       "<title>47609132928</title>\n",
       "<polygon fill=\"none\" points=\"0,-73.5 0,-109.5 126.0518,-109.5 126.0518,-73.5 0,-73.5\" stroke=\"#000000\"/>\n",
       "<text fill=\"#000000\" font-family=\"Times,serif\" font-size=\"14.00\" text-anchor=\"middle\" x=\"63.0259\" y=\"-87.3\">conv2d_7: Conv2D</text>\n",
       "</g>\n",
       "<!-- 47609132984&#45;&gt;47609132928 -->\n",
       "<g class=\"edge\" id=\"edge4\">\n",
       "<title>47609132984-&gt;47609132928</title>\n",
       "<path d=\"M63.0259,-146.4551C63.0259,-138.3828 63.0259,-128.6764 63.0259,-119.6817\" fill=\"none\" stroke=\"#000000\"/>\n",
       "<polygon fill=\"#000000\" points=\"66.526,-119.5903 63.0259,-109.5904 59.526,-119.5904 66.526,-119.5903\" stroke=\"#000000\"/>\n",
       "</g>\n",
       "<!-- 47609169232 -->\n",
       "<g class=\"node\" id=\"node6\">\n",
       "<title>47609169232</title>\n",
       "<polygon fill=\"none\" points=\"144,-73.5 144,-109.5 270.0518,-109.5 270.0518,-73.5 144,-73.5\" stroke=\"#000000\"/>\n",
       "<text fill=\"#000000\" font-family=\"Times,serif\" font-size=\"14.00\" text-anchor=\"middle\" x=\"207.0259\" y=\"-87.3\">conv2d_9: Conv2D</text>\n",
       "</g>\n",
       "<!-- 47609040624&#45;&gt;47609169232 -->\n",
       "<g class=\"edge\" id=\"edge5\">\n",
       "<title>47609040624-&gt;47609169232</title>\n",
       "<path d=\"M207.0259,-146.4551C207.0259,-138.3828 207.0259,-128.6764 207.0259,-119.6817\" fill=\"none\" stroke=\"#000000\"/>\n",
       "<polygon fill=\"#000000\" points=\"210.526,-119.5903 207.0259,-109.5904 203.526,-119.5904 210.526,-119.5903\" stroke=\"#000000\"/>\n",
       "</g>\n",
       "<!-- 47609260912 -->\n",
       "<g class=\"node\" id=\"node7\">\n",
       "<title>47609260912</title>\n",
       "<polygon fill=\"none\" points=\"307.5,-73.5 307.5,-109.5 440.5518,-109.5 440.5518,-73.5 307.5,-73.5\" stroke=\"#000000\"/>\n",
       "<text fill=\"#000000\" font-family=\"Times,serif\" font-size=\"14.00\" text-anchor=\"middle\" x=\"374.0259\" y=\"-87.3\">conv2d_10: Conv2D</text>\n",
       "</g>\n",
       "<!-- 47609484064&#45;&gt;47609260912 -->\n",
       "<g class=\"edge\" id=\"edge6\">\n",
       "<title>47609484064-&gt;47609260912</title>\n",
       "<path d=\"M389.0821,-146.4551C386.8465,-138.2951 384.1533,-128.4652 381.6666,-119.3887\" fill=\"none\" stroke=\"#000000\"/>\n",
       "<polygon fill=\"#000000\" points=\"385.0002,-118.3101 378.9821,-109.5904 378.249,-120.1598 385.0002,-118.3101\" stroke=\"#000000\"/>\n",
       "</g>\n",
       "<!-- 47609099488 -->\n",
       "<g class=\"node\" id=\"node8\">\n",
       "<title>47609099488</title>\n",
       "<polygon fill=\"none\" points=\"120.7065,-.5 120.7065,-36.5 293.3452,-36.5 293.3452,-.5 120.7065,-.5\" stroke=\"#000000\"/>\n",
       "<text fill=\"#000000\" font-family=\"Times,serif\" font-size=\"14.00\" text-anchor=\"middle\" x=\"207.0259\" y=\"-14.3\">concatenate_2: Concatenate</text>\n",
       "</g>\n",
       "<!-- 47609132928&#45;&gt;47609099488 -->\n",
       "<g class=\"edge\" id=\"edge7\">\n",
       "<title>47609132928-&gt;47609099488</title>\n",
       "<path d=\"M98.6214,-73.4551C117.8332,-63.7157 141.7377,-51.5975 162.2069,-41.2207\" fill=\"none\" stroke=\"#000000\"/>\n",
       "<polygon fill=\"#000000\" points=\"164.004,-44.2338 171.3408,-36.5904 160.8388,-37.9903 164.004,-44.2338\" stroke=\"#000000\"/>\n",
       "</g>\n",
       "<!-- 47609169232&#45;&gt;47609099488 -->\n",
       "<g class=\"edge\" id=\"edge8\">\n",
       "<title>47609169232-&gt;47609099488</title>\n",
       "<path d=\"M207.0259,-73.4551C207.0259,-65.3828 207.0259,-55.6764 207.0259,-46.6817\" fill=\"none\" stroke=\"#000000\"/>\n",
       "<polygon fill=\"#000000\" points=\"210.526,-46.5903 207.0259,-36.5904 203.526,-46.5904 210.526,-46.5903\" stroke=\"#000000\"/>\n",
       "</g>\n",
       "<!-- 47609260912&#45;&gt;47609099488 -->\n",
       "<g class=\"edge\" id=\"edge9\">\n",
       "<title>47609260912-&gt;47609099488</title>\n",
       "<path d=\"M332.745,-73.4551C310.0632,-63.5403 281.7413,-51.16 257.7242,-40.6615\" fill=\"none\" stroke=\"#000000\"/>\n",
       "<polygon fill=\"#000000\" points=\"258.9754,-37.3887 248.4107,-36.5904 256.1716,-43.8027 258.9754,-37.3887\" stroke=\"#000000\"/>\n",
       "</g>\n",
       "</g>\n",
       "</svg>"
      ],
      "text/plain": [
       "<IPython.core.display.SVG object>"
      ]
     },
     "execution_count": 16,
     "metadata": {},
     "output_type": "execute_result"
    }
   ],
   "source": [
    "\n",
    "SVG(model_to_dot(model).create(prog='dot', format='svg'))"
   ]
  }
 ],
 "metadata": {
  "kernelspec": {
   "display_name": "Python 3",
   "language": "python",
   "name": "python3"
  },
  "language_info": {
   "codemirror_mode": {
    "name": "ipython",
    "version": 3
   },
   "file_extension": ".py",
   "mimetype": "text/x-python",
   "name": "python",
   "nbconvert_exporter": "python",
   "pygments_lexer": "ipython3",
   "version": "3.6.5"
  }
 },
 "nbformat": 4,
 "nbformat_minor": 2
}
