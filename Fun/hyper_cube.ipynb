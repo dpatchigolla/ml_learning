{
 "cells": [
  {
   "cell_type": "markdown",
   "metadata": {},
   "source": [
    "# What is the ratio of volume of a sphere of unit radius in hyperspace, to the volume of a hyper cube that encloses this sphere?"
   ]
  },
  {
   "cell_type": "code",
   "execution_count": 1,
   "metadata": {},
   "outputs": [],
   "source": [
    "import numpy as np"
   ]
  },
  {
   "cell_type": "code",
   "execution_count": 8,
   "metadata": {},
   "outputs": [],
   "source": [
    "def get_ratio(dimension, iters):\n",
    "    if type(iters)!=int:\n",
    "        iters=int(iters)\n",
    "    rand_points = np.random.uniform(0, 1, (dimension, iters))\n",
    "    dist_power = np.power(rand_points, [2]).sum(axis=0)\n",
    "    inside = (dist_power<1).sum() # if dist_power > 1, dist_power ** 1/2 will also be > 1\n",
    "    return inside/iters"
   ]
  },
  {
   "cell_type": "code",
   "execution_count": 5,
   "metadata": {},
   "outputs": [
    {
     "name": "stdout",
     "output_type": "stream",
     "text": [
      "(10000000,)\n",
      "CPU times: user 1.13 s, sys: 212 ms, total: 1.34 s\n",
      "Wall time: 1.35 s\n"
     ]
    },
    {
     "data": {
      "text/plain": [
       "0.52337690000000003"
      ]
     },
     "execution_count": 5,
     "metadata": {},
     "output_type": "execute_result"
    }
   ],
   "source": [
    "%%time\n",
    "get_ratio(3, 10e6)"
   ]
  },
  {
   "cell_type": "code",
   "execution_count": 6,
   "metadata": {},
   "outputs": [
    {
     "name": "stdout",
     "output_type": "stream",
     "text": [
      "(1000,)\n",
      "CPU times: user 671 µs, sys: 616 µs, total: 1.29 ms\n",
      "Wall time: 669 µs\n"
     ]
    },
    {
     "data": {
      "text/plain": [
       "0.78500000000000003"
      ]
     },
     "execution_count": 6,
     "metadata": {},
     "output_type": "execute_result"
    }
   ],
   "source": [
    "%%time\n",
    "get_ratio(2, 1000)"
   ]
  },
  {
   "cell_type": "code",
   "execution_count": 81,
   "metadata": {},
   "outputs": [],
   "source": [
    "rand_points = np.random.uniform(0,1,(3, 5))"
   ]
  },
  {
   "cell_type": "code",
   "execution_count": 82,
   "metadata": {},
   "outputs": [
    {
     "data": {
      "text/plain": [
       "array([[ 0.20383131,  0.6867156 ,  0.82312559,  0.42317464,  0.28411242],\n",
       "       [ 0.92881531,  0.55138027,  0.8365236 ,  0.49991207,  0.12388328],\n",
       "       [ 0.36439256,  0.42484703,  0.22792109,  0.48012588,  0.21966808]])"
      ]
     },
     "execution_count": 82,
     "metadata": {},
     "output_type": "execute_result"
    }
   ],
   "source": [
    "rand_points"
   ]
  },
  {
   "cell_type": "code",
   "execution_count": 83,
   "metadata": {},
   "outputs": [
    {
     "data": {
      "text/plain": [
       "array([ 0.85814038,  0.56815369,  1.15491264,  0.31139384,  0.03543464])"
      ]
     },
     "execution_count": 83,
     "metadata": {},
     "output_type": "execute_result"
    }
   ],
   "source": [
    "np.power(rand_points, [3]).sum(axis=0)"
   ]
  },
  {
   "cell_type": "code",
   "execution_count": null,
   "metadata": {},
   "outputs": [],
   "source": [
    "np.power(np.power(rand_points, [3]).sum(axis=0), )"
   ]
  },
  {
   "cell_type": "code",
   "execution_count": 33,
   "metadata": {},
   "outputs": [
    {
     "data": {
      "text/plain": [
       "3.141592653589793"
      ]
     },
     "execution_count": 33,
     "metadata": {},
     "output_type": "execute_result"
    }
   ],
   "source": [
    "np.pi"
   ]
  },
  {
   "cell_type": "code",
   "execution_count": 12,
   "metadata": {},
   "outputs": [
    {
     "name": "stdout",
     "output_type": "stream",
     "text": [
      "expected value for d = 2:  0.7854\n",
      "simulated value for d = 2: 0.7852\n"
     ]
    }
   ],
   "source": [
    "print('expected value for d = 2:  %0.4f'%(np.pi/2**2))\n",
    "print('simulated value for d = 2: %0.4f'%(get_ratio(2,10e6)))"
   ]
  },
  {
   "cell_type": "code",
   "execution_count": 13,
   "metadata": {},
   "outputs": [
    {
     "name": "stdout",
     "output_type": "stream",
     "text": [
      "expected value for d = 3:  0.5236\n",
      "simulated value for d = 3: 0.5234\n"
     ]
    }
   ],
   "source": [
    "print('expected value for d = 3:  %0.4f'%(4/3 * np.pi /2**3)) #4/3 pi * r**3 / (2r)**3 = 4/3 * pi /8\n",
    "print('simulated value for d = 3: %0.4f'%(get_ratio(3,10e6)))"
   ]
  },
  {
   "cell_type": "code",
   "execution_count": 18,
   "metadata": {},
   "outputs": [
    {
     "name": "stdout",
     "output_type": "stream",
     "text": [
      "Percent of the hyper cube of dims 1 occupied by a hyperball inside it: 100.000  \n",
      "Percent of the hyper cube of dims 2 occupied by a hyperball inside it: 78.477  \n",
      "Percent of the hyper cube of dims 3 occupied by a hyperball inside it: 52.362  \n",
      "Percent of the hyper cube of dims 4 occupied by a hyperball inside it: 30.835  \n",
      "Percent of the hyper cube of dims 5 occupied by a hyperball inside it: 16.398  \n",
      "Percent of the hyper cube of dims 6 occupied by a hyperball inside it: 8.034  \n",
      "Percent of the hyper cube of dims 7 occupied by a hyperball inside it: 3.704  \n",
      "Percent of the hyper cube of dims 8 occupied by a hyperball inside it: 1.605  \n",
      "Percent of the hyper cube of dims 9 occupied by a hyperball inside it: 0.651  \n",
      "Percent of the hyper cube of dims 10 occupied by a hyperball inside it: 0.243  \n"
     ]
    }
   ],
   "source": [
    "r=[]\n",
    "for i in range(1,11):\n",
    "    r.append(get_ratio(i, 10e5))\n",
    "    print('Percent of the hyper cube of dims %d occupied by a hyperball inside it: %0.3f  '%(i, 100*r[-1]))"
   ]
  },
  {
   "cell_type": "code",
   "execution_count": null,
   "metadata": {},
   "outputs": [],
   "source": []
  }
 ],
 "metadata": {
  "kernelspec": {
   "display_name": "Python 3",
   "language": "python",
   "name": "python3"
  },
  "language_info": {
   "codemirror_mode": {
    "name": "ipython",
    "version": 3
   },
   "file_extension": ".py",
   "mimetype": "text/x-python",
   "name": "python",
   "nbconvert_exporter": "python",
   "pygments_lexer": "ipython3",
   "version": "3.6.5"
  }
 },
 "nbformat": 4,
 "nbformat_minor": 2
}
