{
 "cells": [
  {
   "cell_type": "markdown",
   "metadata": {
    "slideshow": {
     "slide_type": "-"
    }
   },
   "source": [
    "## Lowest Common Ancestor in a Binary Tree | Set 1\n"
   ]
  },
  {
   "cell_type": "code",
   "execution_count": 1,
   "metadata": {
    "slideshow": {
     "slide_type": "skip"
    }
   },
   "outputs": [],
   "source": [
    "class Node:\n",
    "    def __init__(self,key):\n",
    "        self.key = key\n",
    "        self.left = None\n",
    "        self.right = None\n",
    "        "
   ]
  },
  {
   "cell_type": "code",
   "execution_count": 3,
   "metadata": {},
   "outputs": [
    {
     "data": {
      "text/plain": [
       "False"
      ]
     },
     "execution_count": 3,
     "metadata": {},
     "output_type": "execute_result"
    }
   ],
   "source": [
    "hasattr(Node,'left')"
   ]
  },
  {
   "cell_type": "code",
   "execution_count": 8,
   "metadata": {},
   "outputs": [],
   "source": [
    "\n",
    " \n",
    "# Driver program to test above function\n",
    "# Let's create the Binary Tree shown in above diagram\n",
    "root = Node(1)\n",
    "root.left = Node(2)\n",
    "root.right = Node(3)\n",
    "root.left.left = Node(4)\n",
    "root.left.right = Node(5)\n",
    "root.right.left = Node(6)\n",
    "root.right.right = Node(7)"
   ]
  },
  {
   "cell_type": "code",
   "execution_count": 12,
   "metadata": {},
   "outputs": [],
   "source": [
    "l=[2,3]"
   ]
  },
  {
   "cell_type": "code",
   "execution_count": null,
   "metadata": {},
   "outputs": [],
   "source": [
    "# Finds the path from root node to given root of the tree.\n",
    "# Stores the path in a list path[], returns true if path \n",
    "# exists otherwise false\n",
    "def findPath( root, path, k):\n",
    " \n",
    "    # Baes Case\n",
    "    if root is None:\n",
    "        return False\n",
    " \n",
    "    # Store this node is path vector. The node will be\n",
    "    # removed if not in path from root to k\n",
    "    path.append(root.key)\n",
    " \n",
    "    # See if the k is same as root's key\n",
    "    if root.key == k :\n",
    "        return True\n",
    " \n",
    "    # Check if k is found in left or right sub-tree\n",
    "    if ((root.left != None and findPath(root.left, path, k)) or\n",
    "            (root.right!= None and findPath(root.right, path, k))):\n",
    "        return True\n",
    " \n",
    "    # If not present in subtree rooted with root, remove\n",
    "    # root from path and return False\n",
    "      \n",
    "    path.pop()\n",
    "    return False\n",
    " \n",
    "# Returns LCA if node n1 , n2 are present in the given\n",
    "# binary tre otherwise return -1\n",
    "def findLCA(root, n1, n2):\n",
    " \n",
    "    # To store paths to n1 and n2 fromthe root\n",
    "    path1 = []\n",
    "    path2 = []\n",
    " \n",
    "    # Find paths from root to n1 and root to n2.\n",
    "    # If either n1 or n2 is not present , return -1 \n",
    "    if (not findPath(root, path1, n1) or not findPath(root, path2, n2)):\n",
    "        return -1\n",
    " \n",
    "    # Compare the paths to get the first different value\n",
    "    i = 0\n",
    "    while(i < len(path1) and i < len(path2)):\n",
    "        if path1[i] != path2[i]:\n",
    "            break\n",
    "        i += 1\n",
    "    return path1[i-1]"
   ]
  },
  {
   "cell_type": "code",
   "execution_count": 11,
   "metadata": {},
   "outputs": [
    {
     "data": {
      "text/plain": [
       "2"
      ]
     },
     "execution_count": 11,
     "metadata": {},
     "output_type": "execute_result"
    }
   ],
   "source": [
    "root.left.key"
   ]
  },
  {
   "cell_type": "code",
   "execution_count": null,
   "metadata": {},
   "outputs": [],
   "source": []
  }
 ],
 "metadata": {
  "kernelspec": {
   "display_name": "Python 3",
   "language": "python",
   "name": "python3"
  },
  "language_info": {
   "codemirror_mode": {
    "name": "ipython",
    "version": 3
   },
   "file_extension": ".py",
   "mimetype": "text/x-python",
   "name": "python",
   "nbconvert_exporter": "python",
   "pygments_lexer": "ipython3",
   "version": "3.6.5"
  }
 },
 "nbformat": 4,
 "nbformat_minor": 2
}
