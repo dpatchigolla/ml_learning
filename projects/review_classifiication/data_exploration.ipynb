{
 "cells": [
  {
   "cell_type": "code",
   "execution_count": 1,
   "metadata": {},
   "outputs": [],
   "source": [
    "import pandas as pd"
   ]
  },
  {
   "cell_type": "code",
   "execution_count": 2,
   "metadata": {},
   "outputs": [],
   "source": [
    "data = pd.read_csv(\"data_level5.tsv\", sep=\"\\t\", nrows=1000)"
   ]
  },
  {
   "cell_type": "code",
   "execution_count": 3,
   "metadata": {},
   "outputs": [
    {
     "data": {
      "text/html": [
       "<div>\n",
       "<style scoped>\n",
       "    .dataframe tbody tr th:only-of-type {\n",
       "        vertical-align: middle;\n",
       "    }\n",
       "\n",
       "    .dataframe tbody tr th {\n",
       "        vertical-align: top;\n",
       "    }\n",
       "\n",
       "    .dataframe thead th {\n",
       "        text-align: right;\n",
       "    }\n",
       "</style>\n",
       "<table border=\"1\" class=\"dataframe\">\n",
       "  <thead>\n",
       "    <tr style=\"text-align: right;\">\n",
       "      <th></th>\n",
       "      <th>Review</th>\n",
       "      <th>level5_clean</th>\n",
       "    </tr>\n",
       "  </thead>\n",
       "  <tbody>\n",
       "    <tr>\n",
       "      <th>0</th>\n",
       "      <td>i bought 3 products from this new mongongo lin...</td>\n",
       "      <td>function/performance</td>\n",
       "    </tr>\n",
       "    <tr>\n",
       "      <th>1</th>\n",
       "      <td>do not let some of the other reviews on assemb...</td>\n",
       "      <td>assembly/preparation</td>\n",
       "    </tr>\n",
       "    <tr>\n",
       "      <th>2</th>\n",
       "      <td>these might be the most comfy shoes i ve ever ...</td>\n",
       "      <td>function/performance</td>\n",
       "    </tr>\n",
       "    <tr>\n",
       "      <th>3</th>\n",
       "      <td>produces little steam difficult to fill with w...</td>\n",
       "      <td>function/performance</td>\n",
       "    </tr>\n",
       "    <tr>\n",
       "      <th>4</th>\n",
       "      <td>i bought this to take with me to hotel stays f...</td>\n",
       "      <td>function/performance</td>\n",
       "    </tr>\n",
       "  </tbody>\n",
       "</table>\n",
       "</div>"
      ],
      "text/plain": [
       "                                              Review          level5_clean\n",
       "0  i bought 3 products from this new mongongo lin...  function/performance\n",
       "1  do not let some of the other reviews on assemb...  assembly/preparation\n",
       "2  these might be the most comfy shoes i ve ever ...  function/performance\n",
       "3  produces little steam difficult to fill with w...  function/performance\n",
       "4  i bought this to take with me to hotel stays f...  function/performance"
      ]
     },
     "execution_count": 3,
     "metadata": {},
     "output_type": "execute_result"
    }
   ],
   "source": [
    "data.head()"
   ]
  },
  {
   "cell_type": "code",
   "execution_count": 4,
   "metadata": {},
   "outputs": [
    {
     "data": {
      "text/plain": [
       "function/performance    0.719050\n",
       "appearance              0.154522\n",
       "packaging/labeling      0.069194\n",
       "assembly/preparation    0.033896\n",
       "aroma/flavor            0.022259\n",
       "others                  0.001079\n",
       "Name: level5_clean, dtype: float64"
      ]
     },
     "execution_count": 4,
     "metadata": {},
     "output_type": "execute_result"
    }
   ],
   "source": [
    "data[\"level5_clean\"].value_counts(normalize=True)"
   ]
  },
  {
   "cell_type": "code",
   "execution_count": 4,
   "metadata": {},
   "outputs": [
    {
     "data": {
      "text/html": [
       "<div>\n",
       "<style scoped>\n",
       "    .dataframe tbody tr th:only-of-type {\n",
       "        vertical-align: middle;\n",
       "    }\n",
       "\n",
       "    .dataframe tbody tr th {\n",
       "        vertical-align: top;\n",
       "    }\n",
       "\n",
       "    .dataframe thead th {\n",
       "        text-align: right;\n",
       "    }\n",
       "</style>\n",
       "<table border=\"1\" class=\"dataframe\">\n",
       "  <thead>\n",
       "    <tr style=\"text-align: right;\">\n",
       "      <th></th>\n",
       "      <th>Review</th>\n",
       "      <th>level5_clean</th>\n",
       "    </tr>\n",
       "  </thead>\n",
       "  <tbody>\n",
       "    <tr>\n",
       "      <th>0</th>\n",
       "      <td>i bought 3 products from this new mongongo lin...</td>\n",
       "      <td>function/performance</td>\n",
       "    </tr>\n",
       "    <tr>\n",
       "      <th>1</th>\n",
       "      <td>do not let some of the other reviews on assemb...</td>\n",
       "      <td>assembly/preparation</td>\n",
       "    </tr>\n",
       "    <tr>\n",
       "      <th>2</th>\n",
       "      <td>these might be the most comfy shoes i ve ever ...</td>\n",
       "      <td>function/performance</td>\n",
       "    </tr>\n",
       "    <tr>\n",
       "      <th>3</th>\n",
       "      <td>produces little steam difficult to fill with w...</td>\n",
       "      <td>function/performance</td>\n",
       "    </tr>\n",
       "    <tr>\n",
       "      <th>4</th>\n",
       "      <td>i bought this to take with me to hotel stays f...</td>\n",
       "      <td>function/performance</td>\n",
       "    </tr>\n",
       "  </tbody>\n",
       "</table>\n",
       "</div>"
      ],
      "text/plain": [
       "                                              Review          level5_clean\n",
       "0  i bought 3 products from this new mongongo lin...  function/performance\n",
       "1  do not let some of the other reviews on assemb...  assembly/preparation\n",
       "2  these might be the most comfy shoes i ve ever ...  function/performance\n",
       "3  produces little steam difficult to fill with w...  function/performance\n",
       "4  i bought this to take with me to hotel stays f...  function/performance"
      ]
     },
     "execution_count": 4,
     "metadata": {},
     "output_type": "execute_result"
    }
   ],
   "source": [
    "data.head()"
   ]
  },
  {
   "cell_type": "code",
   "execution_count": 3,
   "metadata": {},
   "outputs": [],
   "source": [
    "sample = data[\"Review\"].values"
   ]
  },
  {
   "cell_type": "code",
   "execution_count": 4,
   "metadata": {},
   "outputs": [
    {
     "data": {
      "text/plain": [
       "array(['i bought 3 products from this new mongongo line shampoo moisture seal masque and moisture styling gel it went on smoothly but when it dried my 2 4 c curly hair frizzed it s crispy and dry i wish i could take all of them back the other products in the old line work very well curl enhancing smoothie curling gel souffle and the deep treatment masque work good i was hoping for even more improvement with the new mongongo line not so beware you will have thick dry frizz',\n",
       "       'do not let some of the other reviews on assembly change your mind on purchasing this basketball hoop it took my ex hubs 2 hours to assembly with my help and our 11 year old daughter standing by make sure you read and reread the instructions carefully as it does get a little tricky when assembling the gears for the height adjustments but it is far from a nightmare the only thing i am questioning is the amount of weight for stability we filled with water but may still put a sand bag or brick on for extra weight it isn t wobbly per say but it is in a high wind area on our driveway and on a small slope anyway it is a very nice hoop kids love it easy to operate height and takes time to assemble again read instructions carefully all your answers are there you just have to be patient and read',\n",
       "       'these might be the most comfy shoes i ve ever worn i do recommend go up a half size as my usual size was too snug but that little bit of extra room fixed the issue great for walking around doing errands etc easy to clean canvas when they get dirty',\n",
       "       'produces little steam difficult to fill with water instructions are vague and include a customer service number with a missing digit am returning',\n",
       "       'i bought this to take with me to hotel stays for white noise i was disappointed how quiet it is even on the highest setting it does let out plenty of cool air though'],\n",
       "      dtype=object)"
      ]
     },
     "execution_count": 4,
     "metadata": {},
     "output_type": "execute_result"
    }
   ],
   "source": [
    "sample[:5]"
   ]
  },
  {
   "cell_type": "code",
   "execution_count": 5,
   "metadata": {},
   "outputs": [],
   "source": [
    "from sklearn.feature_extraction.text import TfidfVectorizer"
   ]
  },
  {
   "cell_type": "code",
   "execution_count": 6,
   "metadata": {},
   "outputs": [],
   "source": [
    "tf = TfidfVectorizer()"
   ]
  },
  {
   "cell_type": "code",
   "execution_count": 7,
   "metadata": {},
   "outputs": [],
   "source": [
    "tf_scores = tf.fit_transform(sample)"
   ]
  },
  {
   "cell_type": "code",
   "execution_count": 8,
   "metadata": {},
   "outputs": [],
   "source": [
    "import numpy as np"
   ]
  },
  {
   "cell_type": "code",
   "execution_count": 9,
   "metadata": {},
   "outputs": [],
   "source": [
    "keywords = np.array(tf.get_feature_names())"
   ]
  },
  {
   "cell_type": "code",
   "execution_count": 10,
   "metadata": {},
   "outputs": [
    {
     "data": {
      "text/plain": [
       "(1000, 5012)"
      ]
     },
     "execution_count": 10,
     "metadata": {},
     "output_type": "execute_result"
    }
   ],
   "source": [
    "tf_scores.shape"
   ]
  },
  {
   "cell_type": "code",
   "execution_count": 28,
   "metadata": {},
   "outputs": [],
   "source": [
    "topK=20\n",
    "topK_idx = np.argsort(tf_scores.toarray())[:,tf_scores.shape[1]-topK::][:,::-1]"
   ]
  },
  {
   "cell_type": "code",
   "execution_count": 31,
   "metadata": {},
   "outputs": [
    {
     "data": {
      "text/plain": [
       "array([['mongongo', 'masque', 'line', ..., 'curling', 'improvement',\n",
       "        'beware'],\n",
       "       ['read', 'hoop', 'carefully', ..., 'slope', 'ex', 'patient'],\n",
       "       ['errands', 'canvas', 'fixed', ..., 'extra', 'issue', 'most'],\n",
       "       ...,\n",
       "       ['coffee', 'of', 'target', ..., 'order', 'ordered', 'first'],\n",
       "       ['scented', 'anytime', 'author', ..., 'easy', 'review', 'been'],\n",
       "       ['stool', 'bar', 'expected', ..., 'especially', 'perfectly',\n",
       "        'although']], dtype='<U23')"
      ]
     },
     "execution_count": 31,
     "metadata": {},
     "output_type": "execute_result"
    }
   ],
   "source": [
    "keywords[topK_idx]"
   ]
  },
  {
   "cell_type": "code",
   "execution_count": null,
   "metadata": {},
   "outputs": [],
   "source": []
  }
 ],
 "metadata": {
  "kernelspec": {
   "display_name": "Python 3",
   "language": "python",
   "name": "python3"
  },
  "language_info": {
   "codemirror_mode": {
    "name": "ipython",
    "version": 3
   },
   "file_extension": ".py",
   "mimetype": "text/x-python",
   "name": "python",
   "nbconvert_exporter": "python",
   "pygments_lexer": "ipython3",
   "version": "3.7.1"
  }
 },
 "nbformat": 4,
 "nbformat_minor": 2
}
