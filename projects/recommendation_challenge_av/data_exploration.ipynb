{
 "cells": [
  {
   "cell_type": "markdown",
   "metadata": {},
   "source": [
    "Competition URL:\n",
    "\n",
    "https://datahack.analyticsvidhya.com/contest/build-a-recommendation-engine-powered-by-ibm-cloud/\n",
    "\n",
    "\n",
    "test.csv: Contains first 50% transactions for a different set of customers for whom recommendations are to be made. \n",
    "\n"
   ]
  },
  {
   "cell_type": "code",
   "execution_count": 1,
   "metadata": {},
   "outputs": [],
   "source": [
    "import pandas as pd\n",
    "import numpy as np\n",
    "import seaborn as sns\n",
    "import matplotlib.pyplot as plt\n",
    "\n",
    "\n",
    "%matplotlib inline"
   ]
  },
  {
   "cell_type": "code",
   "execution_count": 5,
   "metadata": {},
   "outputs": [],
   "source": [
    "train_data = pd.read_csv(\"train.csv\")"
   ]
  },
  {
   "cell_type": "markdown",
   "metadata": {},
   "source": [
    "## Exploring train data "
   ]
  },
  {
   "cell_type": "code",
   "execution_count": 3,
   "metadata": {},
   "outputs": [
    {
     "data": {
      "text/plain": [
       "(330575, 7)"
      ]
     },
     "execution_count": 3,
     "metadata": {},
     "output_type": "execute_result"
    }
   ],
   "source": [
    "train_data.shape"
   ]
  },
  {
   "cell_type": "code",
   "execution_count": 6,
   "metadata": {},
   "outputs": [
    {
     "data": {
      "text/html": [
       "<div>\n",
       "<style scoped>\n",
       "    .dataframe tbody tr th:only-of-type {\n",
       "        vertical-align: middle;\n",
       "    }\n",
       "\n",
       "    .dataframe tbody tr th {\n",
       "        vertical-align: top;\n",
       "    }\n",
       "\n",
       "    .dataframe thead th {\n",
       "        text-align: right;\n",
       "    }\n",
       "</style>\n",
       "<table border=\"1\" class=\"dataframe\">\n",
       "  <thead>\n",
       "    <tr style=\"text-align: right;\">\n",
       "      <th></th>\n",
       "      <th>CustomerID</th>\n",
       "      <th>InvoiceNo</th>\n",
       "      <th>Quantity</th>\n",
       "      <th>InvoiceDate</th>\n",
       "      <th>UnitPrice</th>\n",
       "      <th>Country</th>\n",
       "      <th>StockCode</th>\n",
       "    </tr>\n",
       "  </thead>\n",
       "  <tbody>\n",
       "    <tr>\n",
       "      <th>0</th>\n",
       "      <td>27270</td>\n",
       "      <td>27270</td>\n",
       "      <td>7</td>\n",
       "      <td>01/12/10 8:26</td>\n",
       "      <td>2.55</td>\n",
       "      <td>PX</td>\n",
       "      <td>85123AY</td>\n",
       "    </tr>\n",
       "    <tr>\n",
       "      <th>1</th>\n",
       "      <td>27270</td>\n",
       "      <td>27270</td>\n",
       "      <td>7</td>\n",
       "      <td>01/12/10 8:26</td>\n",
       "      <td>3.39</td>\n",
       "      <td>PX</td>\n",
       "      <td>71053R</td>\n",
       "    </tr>\n",
       "    <tr>\n",
       "      <th>2</th>\n",
       "      <td>27270</td>\n",
       "      <td>27270</td>\n",
       "      <td>9</td>\n",
       "      <td>01/12/10 8:26</td>\n",
       "      <td>2.75</td>\n",
       "      <td>PX</td>\n",
       "      <td>84406BH</td>\n",
       "    </tr>\n",
       "    <tr>\n",
       "      <th>3</th>\n",
       "      <td>27270</td>\n",
       "      <td>27270</td>\n",
       "      <td>7</td>\n",
       "      <td>01/12/10 8:26</td>\n",
       "      <td>3.39</td>\n",
       "      <td>PX</td>\n",
       "      <td>84029GV</td>\n",
       "    </tr>\n",
       "    <tr>\n",
       "      <th>4</th>\n",
       "      <td>27270</td>\n",
       "      <td>27270</td>\n",
       "      <td>7</td>\n",
       "      <td>01/12/10 8:26</td>\n",
       "      <td>3.39</td>\n",
       "      <td>PX</td>\n",
       "      <td>84029EX</td>\n",
       "    </tr>\n",
       "  </tbody>\n",
       "</table>\n",
       "</div>"
      ],
      "text/plain": [
       "   CustomerID  InvoiceNo  Quantity    InvoiceDate  UnitPrice Country StockCode\n",
       "0       27270      27270         7  01/12/10 8:26       2.55      PX   85123AY\n",
       "1       27270      27270         7  01/12/10 8:26       3.39      PX    71053R\n",
       "2       27270      27270         9  01/12/10 8:26       2.75      PX   84406BH\n",
       "3       27270      27270         7  01/12/10 8:26       3.39      PX   84029GV\n",
       "4       27270      27270         7  01/12/10 8:26       3.39      PX   84029EX"
      ]
     },
     "execution_count": 6,
     "metadata": {},
     "output_type": "execute_result"
    }
   ],
   "source": [
    "train_data.head()"
   ]
  },
  {
   "cell_type": "code",
   "execution_count": 17,
   "metadata": {},
   "outputs": [
    {
     "data": {
      "text/html": [
       "<div>\n",
       "<style scoped>\n",
       "    .dataframe tbody tr th:only-of-type {\n",
       "        vertical-align: middle;\n",
       "    }\n",
       "\n",
       "    .dataframe tbody tr th {\n",
       "        vertical-align: top;\n",
       "    }\n",
       "\n",
       "    .dataframe thead th {\n",
       "        text-align: right;\n",
       "    }\n",
       "</style>\n",
       "<table border=\"1\" class=\"dataframe\">\n",
       "  <thead>\n",
       "    <tr style=\"text-align: right;\">\n",
       "      <th></th>\n",
       "      <th>Country</th>\n",
       "      <th>StockCode</th>\n",
       "    </tr>\n",
       "  </thead>\n",
       "  <tbody>\n",
       "    <tr>\n",
       "      <th>count</th>\n",
       "      <td>330575</td>\n",
       "      <td>330575</td>\n",
       "    </tr>\n",
       "    <tr>\n",
       "      <th>unique</th>\n",
       "      <td>38</td>\n",
       "      <td>3810</td>\n",
       "    </tr>\n",
       "    <tr>\n",
       "      <th>top</th>\n",
       "      <td>PX</td>\n",
       "      <td>85123AY</td>\n",
       "    </tr>\n",
       "    <tr>\n",
       "      <th>freq</th>\n",
       "      <td>302992</td>\n",
       "      <td>1399</td>\n",
       "    </tr>\n",
       "  </tbody>\n",
       "</table>\n",
       "</div>"
      ],
      "text/plain": [
       "       Country StockCode\n",
       "count   330575    330575\n",
       "unique      38      3810\n",
       "top         PX   85123AY\n",
       "freq    302992      1399"
      ]
     },
     "execution_count": 17,
     "metadata": {},
     "output_type": "execute_result"
    }
   ],
   "source": [
    "train_data[[\"Country\", \"StockCode\"]].describe()"
   ]
  },
  {
   "cell_type": "code",
   "execution_count": 18,
   "metadata": {},
   "outputs": [
    {
     "data": {
      "text/plain": [
       "(972, 972)"
      ]
     },
     "execution_count": 18,
     "metadata": {},
     "output_type": "execute_result"
    }
   ],
   "source": [
    "len(train_data[\"CustomerID\"].unique()), len(train_data[\"InvoiceNo\"].unique())"
   ]
  },
  {
   "cell_type": "code",
   "execution_count": 10,
   "metadata": {},
   "outputs": [
    {
     "data": {
      "text/plain": [
       "0"
      ]
     },
     "execution_count": 10,
     "metadata": {},
     "output_type": "execute_result"
    }
   ],
   "source": [
    "len(train_data[train_data[\"CustomerID\"]!=train_data[\"InvoiceNo\"]])"
   ]
  },
  {
   "cell_type": "code",
   "execution_count": 21,
   "metadata": {},
   "outputs": [
    {
     "name": "stdout",
     "output_type": "stream",
     "text": [
      "Wall time: 1min 11s\n"
     ]
    }
   ],
   "source": [
    "%%time\n",
    "train_data[\"InvoiceDate\"] = pd.to_datetime(train_data[\"InvoiceDate\"])"
   ]
  },
  {
   "cell_type": "code",
   "execution_count": 48,
   "metadata": {},
   "outputs": [
    {
     "data": {
      "text/plain": [
       "count                  330575\n",
       "unique                  13954\n",
       "top       2011-10-31 14:41:00\n",
       "freq                     1112\n",
       "first     2010-01-12 08:26:00\n",
       "last      2011-12-10 17:19:00\n",
       "Name: InvoiceDate, dtype: object"
      ]
     },
     "execution_count": 48,
     "metadata": {},
     "output_type": "execute_result"
    }
   ],
   "source": [
    "train_data[\"InvoiceDate\"].describe()"
   ]
  },
  {
   "cell_type": "code",
   "execution_count": 49,
   "metadata": {},
   "outputs": [
    {
     "data": {
      "text/plain": [
       "CustomerID\n",
       "11790     1996\n",
       "129969    1649\n",
       "317277    1643\n",
       "198198    1610\n",
       "220878    1553\n",
       "Name: InvoiceDate, dtype: int64"
      ]
     },
     "execution_count": 49,
     "metadata": {},
     "output_type": "execute_result"
    }
   ],
   "source": [
    "train_data.groupby(\"CustomerID\")[\"InvoiceDate\"].size().sort_values(ascending=False).head()"
   ]
  },
  {
   "cell_type": "code",
   "execution_count": 99,
   "metadata": {},
   "outputs": [
    {
     "data": {
      "text/plain": [
       "array([ 1.  ,  1.  ,  2.  ,  5.  , 11.  , 23.  , 35.  , 42.  , 49.29,\n",
       "       54.  ])"
      ]
     },
     "execution_count": 99,
     "metadata": {},
     "output_type": "execute_result"
    }
   ],
   "source": [
    "customer_visits = train_data[[\"CustomerID\", \"InvoiceDate\"]].drop_duplicates().groupby(\"CustomerID\")[\"InvoiceDate\"].size()\n",
    "np.percentile(customer_visits.values,[0,5, 10,25,50,75,90,95,99,100])"
   ]
  },
  {
   "cell_type": "code",
   "execution_count": 61,
   "metadata": {},
   "outputs": [
    {
     "data": {
      "text/plain": [
       "array([1.0000e+00, 1.0000e+00, 1.0000e+00, 3.0000e+00, 1.1000e+01,\n",
       "       2.5000e+01, 4.9000e+01, 7.2000e+01, 1.9614e+02, 1.1120e+03])"
      ]
     },
     "execution_count": 61,
     "metadata": {},
     "output_type": "execute_result"
    }
   ],
   "source": [
    "train_basket_sizes = train_data.groupby([\"CustomerID\", \"InvoiceDate\"])[\"StockCode\"].size()\n",
    "np.percentile(train_basket_sizes, [0,5, 10,25,50,75,90,95,99,100])"
   ]
  },
  {
   "cell_type": "markdown",
   "metadata": {},
   "source": [
    "### Train dataset observations:\n",
    "\n",
    "All cases, customerID and invoce no are same. So only one of these can be considered\n",
    "* Total 972 Customers present in train dataset\n",
    "* Corresponding to 38 countries, and 3810 stockcodes\n",
    "* Invoices correspond to period from 2010 Jan 12 to 2011 Dec 10th; \n",
    "* A few users (5%) have single trip, for which predictions might be tougher. 90 % users have atleast 2 trips, with top 10% users having nearly 35 trips.\n",
    "* A typical basket size is small with 25% baskets having 3 or fewer items, and median only 10 items. Only the top 10 percent Sessions have baskets of 50 or more items\n",
    "\n",
    "Futher questions:\n",
    "1. If an item is purchased by a user, how likely is it purchased again?\n",
    "2. Are some items purchased more often than others?\n",
    "3. Are there groups of items that if one is purchased, others are likely to be purchased?\n",
    "\n",
    "Seems to be a combination of Time-Series + Market-Basket + Recommendation problem\n",
    "\n",
    "Let's also Explore how much of the data is contained in test dataset"
   ]
  },
  {
   "cell_type": "code",
   "execution_count": 37,
   "metadata": {},
   "outputs": [],
   "source": [
    "test_data = pd.read_csv(\"test.csv\")"
   ]
  },
  {
   "cell_type": "code",
   "execution_count": 46,
   "metadata": {},
   "outputs": [
    {
     "name": "stdout",
     "output_type": "stream",
     "text": [
      "Wall time: 22 s\n"
     ]
    }
   ],
   "source": [
    "%%time\n",
    "test_data[\"InvoiceDate\"] = pd.to_datetime(test_data[\"InvoiceDate\"])"
   ]
  },
  {
   "cell_type": "code",
   "execution_count": 41,
   "metadata": {},
   "outputs": [
    {
     "data": {
      "text/plain": [
       "0"
      ]
     },
     "execution_count": 41,
     "metadata": {},
     "output_type": "execute_result"
    }
   ],
   "source": [
    "len([cust_id for cust_id in train_data[\"CustomerID\"].unique() if cust_id in test_data[\"CustomerID\"].unique()])"
   ]
  },
  {
   "cell_type": "code",
   "execution_count": 43,
   "metadata": {},
   "outputs": [],
   "source": [
    "train_stocks = train_data[\"StockCode\"].unique()\n",
    "test_stocks = test_data[\"StockCode\"].unique()"
   ]
  },
  {
   "cell_type": "code",
   "execution_count": 64,
   "metadata": {},
   "outputs": [
    {
     "data": {
      "text/html": [
       "<div>\n",
       "<style scoped>\n",
       "    .dataframe tbody tr th:only-of-type {\n",
       "        vertical-align: middle;\n",
       "    }\n",
       "\n",
       "    .dataframe tbody tr th {\n",
       "        vertical-align: top;\n",
       "    }\n",
       "\n",
       "    .dataframe thead th {\n",
       "        text-align: right;\n",
       "    }\n",
       "</style>\n",
       "<table border=\"1\" class=\"dataframe\">\n",
       "  <thead>\n",
       "    <tr style=\"text-align: right;\">\n",
       "      <th></th>\n",
       "      <th>StockCode</th>\n",
       "      <th>InvoiceDate</th>\n",
       "      <th>Country</th>\n",
       "    </tr>\n",
       "  </thead>\n",
       "  <tbody>\n",
       "    <tr>\n",
       "      <th>count</th>\n",
       "      <td>103097</td>\n",
       "      <td>103097</td>\n",
       "      <td>103097</td>\n",
       "    </tr>\n",
       "    <tr>\n",
       "      <th>unique</th>\n",
       "      <td>3522</td>\n",
       "      <td>7820</td>\n",
       "      <td>32</td>\n",
       "    </tr>\n",
       "    <tr>\n",
       "      <th>top</th>\n",
       "      <td>85123AY</td>\n",
       "      <td>2010-09-12 14:09:00</td>\n",
       "      <td>PX</td>\n",
       "    </tr>\n",
       "    <tr>\n",
       "      <th>freq</th>\n",
       "      <td>455</td>\n",
       "      <td>323</td>\n",
       "      <td>94356</td>\n",
       "    </tr>\n",
       "    <tr>\n",
       "      <th>first</th>\n",
       "      <td>NaN</td>\n",
       "      <td>2010-01-12 08:28:00</td>\n",
       "      <td>NaN</td>\n",
       "    </tr>\n",
       "    <tr>\n",
       "      <th>last</th>\n",
       "      <td>NaN</td>\n",
       "      <td>2011-12-10 16:36:00</td>\n",
       "      <td>NaN</td>\n",
       "    </tr>\n",
       "  </tbody>\n",
       "</table>\n",
       "</div>"
      ],
      "text/plain": [
       "       StockCode          InvoiceDate Country\n",
       "count     103097               103097  103097\n",
       "unique      3522                 7820      32\n",
       "top      85123AY  2010-09-12 14:09:00      PX\n",
       "freq         455                  323   94356\n",
       "first        NaN  2010-01-12 08:28:00     NaN\n",
       "last         NaN  2011-12-10 16:36:00     NaN"
      ]
     },
     "execution_count": 64,
     "metadata": {},
     "output_type": "execute_result"
    }
   ],
   "source": [
    "test_data[[\"StockCode\", \"InvoiceDate\", \"Country\"]].describe()"
   ]
  },
  {
   "cell_type": "code",
   "execution_count": 45,
   "metadata": {},
   "outputs": [
    {
     "data": {
      "text/plain": [
       "(3522, 50)"
      ]
     },
     "execution_count": 45,
     "metadata": {},
     "output_type": "execute_result"
    }
   ],
   "source": [
    "len(test_stocks), len([st_ for st_ in test_stocks if st_ not in train_stocks])"
   ]
  },
  {
   "cell_type": "code",
   "execution_count": 101,
   "metadata": {},
   "outputs": [
    {
     "data": {
      "text/plain": [
       "array([ 1.  ,  1.  ,  2.  ,  4.  , 10.  , 19.  , 29.  , 33.  , 42.73,\n",
       "       50.  ])"
      ]
     },
     "execution_count": 101,
     "metadata": {},
     "output_type": "execute_result"
    }
   ],
   "source": [
    "test_customer_visits = test_data[[\"CustomerID\", \"InvoiceDate\"]].drop_duplicates().groupby(\"CustomerID\")[\"InvoiceDate\"].size()\n",
    "np.percentile(test_customer_visits.values,[0,5, 10,25,50,75,90,95,99,100])"
   ]
  },
  {
   "cell_type": "code",
   "execution_count": 62,
   "metadata": {},
   "outputs": [
    {
     "data": {
      "text/plain": [
       "array([  1.  ,   1.  ,   1.  ,   3.  ,   7.  ,  14.  ,  26.  ,  38.  ,\n",
       "       107.26, 323.  ])"
      ]
     },
     "execution_count": 62,
     "metadata": {},
     "output_type": "execute_result"
    }
   ],
   "source": [
    "test_basket_sizes = test_data.groupby([\"CustomerID\", \"InvoiceDate\"])[\"StockCode\"].size()\n",
    "np.percentile(test_basket_sizes, [0,5, 10,25,50,75,90,95,99,100])"
   ]
  },
  {
   "cell_type": "code",
   "execution_count": 102,
   "metadata": {},
   "outputs": [
    {
     "name": "stderr",
     "output_type": "stream",
     "text": [
      "C:\\Users\\dilee\\Anaconda3\\lib\\site-packages\\scipy\\stats\\stats.py:1713: FutureWarning: Using a non-tuple sequence for multidimensional indexing is deprecated; use `arr[tuple(seq)]` instead of `arr[seq]`. In the future this will be interpreted as an array index, `arr[np.array(seq)]`, which will result either in an error or a different result.\n",
      "  return np.add.reduce(sorted[indexer] * weights, axis=axis) / sumval\n"
     ]
    },
    {
     "data": {
      "text/plain": [
       "<matplotlib.axes._subplots.AxesSubplot at 0x126ba79a358>"
      ]
     },
     "execution_count": 102,
     "metadata": {},
     "output_type": "execute_result"
    },
    {
     "data": {
      "image/png": "[encoded data removed]",
      "text/plain": [
       "<Figure size 1152x576 with 2 Axes>"
      ]
     },
     "metadata": {
      "needs_background": "light"
     },
     "output_type": "display_data"
    }
   ],
   "source": [
    "fig, axes = plt.subplots(2, 1, figsize=(16, 8), sharex=True)\n",
    "sns.violinplot(customer_visits ,ax = axes[0])\n",
    "sns.violinplot(test_customer_visits, ax=axes[1])"
   ]
  },
  {
   "cell_type": "code",
   "execution_count": 103,
   "metadata": {},
   "outputs": [
    {
     "data": {
      "text/plain": [
       "Text(0.5, 1.0, 'Test Basket Size')"
      ]
     },
     "execution_count": 103,
     "metadata": {},
     "output_type": "execute_result"
    },
    {
     "data": {
      "image/png": "[encoded data removed]",
      "text/plain": [
       "<Figure size 1152x576 with 2 Axes>"
      ]
     },
     "metadata": {
      "needs_background": "light"
     },
     "output_type": "display_data"
    }
   ],
   "source": [
    "fig, axes = plt.subplots(2, 1, figsize=(16, 8), sharex=True)\n",
    "sns.violinplot(train_basket_sizes ,ax = axes[0])\n",
    "axes[0].set_title(\"Train Basket Size\")\n",
    "sns.violinplot(test_basket_sizes, ax=axes[1])\n",
    "axes[1].set_title(\"Test Basket Size\")"
   ]
  },
  {
   "cell_type": "markdown",
   "metadata": {},
   "source": [
    "### Test dataset observations:\n",
    "\n",
    "* Basket size within one session  seem to be around half in test data, compared to in train data. Meaning, first 50% transactions of a given basket are present in test data?\n",
    "* DateRange, TopCountry, TopStocks are all the same in test dataset compared to in train dataset\n",
    "* Majority of stocks of test are present in train dataest as well. Only around 1% are new. \n",
    "* The customers are completely new. \n"
   ]
  },
  {
   "cell_type": "code",
   "execution_count": 65,
   "metadata": {},
   "outputs": [],
   "source": [
    "sample_submission = pd.read_csv(\"sample_submission.csv\")"
   ]
  },
  {
   "cell_type": "markdown",
   "metadata": {},
   "source": [
    "#### Sample Submission 1\n",
    "\n",
    "For every user, get all items they purchased, and recommend same items. "
   ]
  },
  {
   "cell_type": "code",
   "execution_count": 88,
   "metadata": {},
   "outputs": [],
   "source": [
    "sample1 = test_data[[\"CustomerID\", \"StockCode\"]].drop_duplicates().groupby(\"CustomerID\")[\"StockCode\"].apply(list)\n",
    "\n",
    "sample1 = pd.DataFrame(sample1).reset_index()\n",
    "sample1.columns = [\"CustomerID\", \"Items\"]\n",
    "\n",
    "sample1.to_csv(\"plain_historical_submission.csv\", index=False)"
   ]
  },
  {
   "cell_type": "markdown",
   "metadata": {},
   "source": [
    "This approach had a score of 0; "
   ]
  },
  {
   "cell_type": "markdown",
   "metadata": {},
   "source": [
    "### Explore baskets in train data"
   ]
  },
  {
   "cell_type": "markdown",
   "metadata": {},
   "source": [
    "Are there some items that are more purchased than others?\n",
    "* For a given stockcode, no:of times it is bought by a given customer who bought it/no:of store visits of that customer"
   ]
  },
  {
   "cell_type": "code",
   "execution_count": 104,
   "metadata": {},
   "outputs": [
    {
     "data": {
      "text/plain": [
       "31"
      ]
     },
     "execution_count": 104,
     "metadata": {},
     "output_type": "execute_result"
    }
   ],
   "source": [
    "customer_visits[27270]"
   ]
  },
  {
   "cell_type": "code",
   "execution_count": 105,
   "metadata": {},
   "outputs": [],
   "source": [
    "train_stock_repurchases = train_data.groupby([\"CustomerID\", \"StockCode\"]).size()"
   ]
  },
  {
   "cell_type": "code",
   "execution_count": 108,
   "metadata": {},
   "outputs": [
    {
     "data": {
      "text/plain": [
       "CustomerID  StockCode\n",
       "0           15056BLH     1\n",
       "            15056ND      1\n",
       "            15058CH      1\n",
       "            15060BB      1\n",
       "            16218Y       1\n",
       "dtype: int64"
      ]
     },
     "execution_count": 108,
     "metadata": {},
     "output_type": "execute_result"
    }
   ],
   "source": [
    "train_stock_repurchases.head()"
   ]
  },
  {
   "cell_type": "code",
   "execution_count": 124,
   "metadata": {},
   "outputs": [],
   "source": [
    "def get_stock_ratios(trips_count, stock_repurchases):\n",
    "    trips_df = pd.DataFrame(trips_count).reset_index()\n",
    "    stocks_df = pd.DataFrame(stock_repurchases).reset_index()\n",
    "    merge_df = pd.merge(trips_df, stocks_df, on=\"CustomerID\")\n",
    "    merge_df = merge_df.rename(columns={\"InvoiceDate\":\"Trips\", 0:\"stock_purchases\"})\n",
    "    return merge_df"
   ]
  },
  {
   "cell_type": "code",
   "execution_count": 125,
   "metadata": {},
   "outputs": [],
   "source": [
    "train_stocks_summary = get_stock_ratios(customer_visits, train_stock_repurchases)"
   ]
  },
  {
   "cell_type": "code",
   "execution_count": 126,
   "metadata": {},
   "outputs": [
    {
     "data": {
      "text/html": [
       "<div>\n",
       "<style scoped>\n",
       "    .dataframe tbody tr th:only-of-type {\n",
       "        vertical-align: middle;\n",
       "    }\n",
       "\n",
       "    .dataframe tbody tr th {\n",
       "        vertical-align: top;\n",
       "    }\n",
       "\n",
       "    .dataframe thead th {\n",
       "        text-align: right;\n",
       "    }\n",
       "</style>\n",
       "<table border=\"1\" class=\"dataframe\">\n",
       "  <thead>\n",
       "    <tr style=\"text-align: right;\">\n",
       "      <th></th>\n",
       "      <th>CustomerID</th>\n",
       "      <th>Trips</th>\n",
       "      <th>StockCode</th>\n",
       "      <th>stock_purchases</th>\n",
       "    </tr>\n",
       "  </thead>\n",
       "  <tbody>\n",
       "    <tr>\n",
       "      <th>0</th>\n",
       "      <td>0</td>\n",
       "      <td>20</td>\n",
       "      <td>15056BLH</td>\n",
       "      <td>1</td>\n",
       "    </tr>\n",
       "    <tr>\n",
       "      <th>1</th>\n",
       "      <td>0</td>\n",
       "      <td>20</td>\n",
       "      <td>15056ND</td>\n",
       "      <td>1</td>\n",
       "    </tr>\n",
       "    <tr>\n",
       "      <th>2</th>\n",
       "      <td>0</td>\n",
       "      <td>20</td>\n",
       "      <td>15058CH</td>\n",
       "      <td>1</td>\n",
       "    </tr>\n",
       "    <tr>\n",
       "      <th>3</th>\n",
       "      <td>0</td>\n",
       "      <td>20</td>\n",
       "      <td>15060BB</td>\n",
       "      <td>1</td>\n",
       "    </tr>\n",
       "    <tr>\n",
       "      <th>4</th>\n",
       "      <td>0</td>\n",
       "      <td>20</td>\n",
       "      <td>16218Y</td>\n",
       "      <td>1</td>\n",
       "    </tr>\n",
       "  </tbody>\n",
       "</table>\n",
       "</div>"
      ],
      "text/plain": [
       "   CustomerID  Trips StockCode  stock_purchases\n",
       "0           0     20  15056BLH                1\n",
       "1           0     20   15056ND                1\n",
       "2           0     20   15058CH                1\n",
       "3           0     20   15060BB                1\n",
       "4           0     20    16218Y                1"
      ]
     },
     "execution_count": 126,
     "metadata": {},
     "output_type": "execute_result"
    }
   ],
   "source": [
    "train_stocks_summary.head()"
   ]
  },
  {
   "cell_type": "code",
   "execution_count": 127,
   "metadata": {},
   "outputs": [
    {
     "data": {
      "text/plain": [
       "(1078, 4)"
      ]
     },
     "execution_count": 127,
     "metadata": {},
     "output_type": "execute_result"
    }
   ],
   "source": [
    "train_stocks_summary[train_stocks_summary[\"Trips\"]==1].shape"
   ]
  },
  {
   "cell_type": "code",
   "execution_count": 128,
   "metadata": {},
   "outputs": [
    {
     "data": {
      "text/plain": [
       "(271031, 4)"
      ]
     },
     "execution_count": 128,
     "metadata": {},
     "output_type": "execute_result"
    }
   ],
   "source": [
    "train_stocks_summary.shape"
   ]
  },
  {
   "cell_type": "code",
   "execution_count": 133,
   "metadata": {},
   "outputs": [],
   "source": [
    "# Considering only those customers with atleast 2 trips, look at the avg no:of stock purchases for a given stock\n",
    "stocks_aggregate = train_stocks_summary[train_stocks_summary[\"Trips\"]>1].groupby(\"StockCode\")[\"stock_purchases\"].agg([\"mean\", \"max\"])"
   ]
  },
  {
   "cell_type": "code",
   "execution_count": 135,
   "metadata": {},
   "outputs": [
    {
     "data": {
      "text/plain": [
       "(3809, 2)"
      ]
     },
     "execution_count": 135,
     "metadata": {},
     "output_type": "execute_result"
    }
   ],
   "source": [
    "stocks_aggregate.shape"
   ]
  },
  {
   "cell_type": "code",
   "execution_count": 136,
   "metadata": {},
   "outputs": [
    {
     "data": {
      "text/plain": [
       "(1314, 2495)"
      ]
     },
     "execution_count": 136,
     "metadata": {},
     "output_type": "execute_result"
    }
   ],
   "source": [
    "len(stocks_aggregate[stocks_aggregate[\"max\"]==1]), len(stocks_aggregate[stocks_aggregate[\"max\"]>1])"
   ]
  },
  {
   "cell_type": "markdown",
   "metadata": {},
   "source": [
    "1/3rd items are purchased only once. 2/3rd items are purchased multiple times. But these too are not purchased "
   ]
  },
  {
   "cell_type": "code",
   "execution_count": 121,
   "metadata": {},
   "outputs": [
    {
     "data": {
      "text/html": [
       "<div>\n",
       "<style scoped>\n",
       "    .dataframe tbody tr th:only-of-type {\n",
       "        vertical-align: middle;\n",
       "    }\n",
       "\n",
       "    .dataframe tbody tr th {\n",
       "        vertical-align: top;\n",
       "    }\n",
       "\n",
       "    .dataframe thead th {\n",
       "        text-align: right;\n",
       "    }\n",
       "</style>\n",
       "<table border=\"1\" class=\"dataframe\">\n",
       "  <thead>\n",
       "    <tr style=\"text-align: right;\">\n",
       "      <th></th>\n",
       "      <th>CustomerID</th>\n",
       "      <th>InvoiceDate</th>\n",
       "      <th>StockCode</th>\n",
       "      <th>0</th>\n",
       "    </tr>\n",
       "  </thead>\n",
       "  <tbody>\n",
       "    <tr>\n",
       "      <th>0</th>\n",
       "      <td>0</td>\n",
       "      <td>20</td>\n",
       "      <td>15056BLH</td>\n",
       "      <td>1</td>\n",
       "    </tr>\n",
       "    <tr>\n",
       "      <th>1</th>\n",
       "      <td>0</td>\n",
       "      <td>20</td>\n",
       "      <td>15056ND</td>\n",
       "      <td>1</td>\n",
       "    </tr>\n",
       "    <tr>\n",
       "      <th>2</th>\n",
       "      <td>0</td>\n",
       "      <td>20</td>\n",
       "      <td>15058CH</td>\n",
       "      <td>1</td>\n",
       "    </tr>\n",
       "    <tr>\n",
       "      <th>3</th>\n",
       "      <td>0</td>\n",
       "      <td>20</td>\n",
       "      <td>15060BB</td>\n",
       "      <td>1</td>\n",
       "    </tr>\n",
       "    <tr>\n",
       "      <th>4</th>\n",
       "      <td>0</td>\n",
       "      <td>20</td>\n",
       "      <td>16218Y</td>\n",
       "      <td>1</td>\n",
       "    </tr>\n",
       "  </tbody>\n",
       "</table>\n",
       "</div>"
      ],
      "text/plain": [
       "   CustomerID  InvoiceDate StockCode  0\n",
       "0           0           20  15056BLH  1\n",
       "1           0           20   15056ND  1\n",
       "2           0           20   15058CH  1\n",
       "3           0           20   15060BB  1\n",
       "4           0           20    16218Y  1"
      ]
     },
     "execution_count": 121,
     "metadata": {},
     "output_type": "execute_result"
    }
   ],
   "source": [
    "train_stocks_summary.head()"
   ]
  },
  {
   "cell_type": "code",
   "execution_count": 107,
   "metadata": {},
   "outputs": [
    {
     "data": {
      "text/plain": [
       "StockCode\n",
       "15036Z     1\n",
       "16156SH    1\n",
       "16161PA    1\n",
       "20713F     1\n",
       "20724F     1\n",
       "dtype: int64"
      ]
     },
     "execution_count": 107,
     "metadata": {},
     "output_type": "execute_result"
    }
   ],
   "source": [
    "train_stock_repurchases[27270].head()"
   ]
  },
  {
   "cell_type": "code",
   "execution_count": 91,
   "metadata": {},
   "outputs": [
    {
     "data": {
      "text/html": [
       "<div>\n",
       "<style scoped>\n",
       "    .dataframe tbody tr th:only-of-type {\n",
       "        vertical-align: middle;\n",
       "    }\n",
       "\n",
       "    .dataframe tbody tr th {\n",
       "        vertical-align: top;\n",
       "    }\n",
       "\n",
       "    .dataframe thead th {\n",
       "        text-align: right;\n",
       "    }\n",
       "</style>\n",
       "<table border=\"1\" class=\"dataframe\">\n",
       "  <thead>\n",
       "    <tr style=\"text-align: right;\">\n",
       "      <th></th>\n",
       "      <th>CustomerID</th>\n",
       "      <th>InvoiceNo</th>\n",
       "      <th>Quantity</th>\n",
       "      <th>InvoiceDate</th>\n",
       "      <th>UnitPrice</th>\n",
       "      <th>Country</th>\n",
       "      <th>StockCode</th>\n",
       "    </tr>\n",
       "  </thead>\n",
       "  <tbody>\n",
       "    <tr>\n",
       "      <th>0</th>\n",
       "      <td>27270</td>\n",
       "      <td>27270</td>\n",
       "      <td>7</td>\n",
       "      <td>2010-01-12 08:26:00</td>\n",
       "      <td>2.55</td>\n",
       "      <td>PX</td>\n",
       "      <td>85123AY</td>\n",
       "    </tr>\n",
       "    <tr>\n",
       "      <th>1</th>\n",
       "      <td>27270</td>\n",
       "      <td>27270</td>\n",
       "      <td>7</td>\n",
       "      <td>2010-01-12 08:26:00</td>\n",
       "      <td>3.39</td>\n",
       "      <td>PX</td>\n",
       "      <td>71053R</td>\n",
       "    </tr>\n",
       "    <tr>\n",
       "      <th>2</th>\n",
       "      <td>27270</td>\n",
       "      <td>27270</td>\n",
       "      <td>9</td>\n",
       "      <td>2010-01-12 08:26:00</td>\n",
       "      <td>2.75</td>\n",
       "      <td>PX</td>\n",
       "      <td>84406BH</td>\n",
       "    </tr>\n",
       "    <tr>\n",
       "      <th>3</th>\n",
       "      <td>27270</td>\n",
       "      <td>27270</td>\n",
       "      <td>7</td>\n",
       "      <td>2010-01-12 08:26:00</td>\n",
       "      <td>3.39</td>\n",
       "      <td>PX</td>\n",
       "      <td>84029GV</td>\n",
       "    </tr>\n",
       "    <tr>\n",
       "      <th>4</th>\n",
       "      <td>27270</td>\n",
       "      <td>27270</td>\n",
       "      <td>7</td>\n",
       "      <td>2010-01-12 08:26:00</td>\n",
       "      <td>3.39</td>\n",
       "      <td>PX</td>\n",
       "      <td>84029EX</td>\n",
       "    </tr>\n",
       "  </tbody>\n",
       "</table>\n",
       "</div>"
      ],
      "text/plain": [
       "   CustomerID  InvoiceNo  Quantity         InvoiceDate  UnitPrice Country  \\\n",
       "0       27270      27270         7 2010-01-12 08:26:00       2.55      PX   \n",
       "1       27270      27270         7 2010-01-12 08:26:00       3.39      PX   \n",
       "2       27270      27270         9 2010-01-12 08:26:00       2.75      PX   \n",
       "3       27270      27270         7 2010-01-12 08:26:00       3.39      PX   \n",
       "4       27270      27270         7 2010-01-12 08:26:00       3.39      PX   \n",
       "\n",
       "  StockCode  \n",
       "0   85123AY  \n",
       "1    71053R  \n",
       "2   84406BH  \n",
       "3   84029GV  \n",
       "4   84029EX  "
      ]
     },
     "execution_count": 91,
     "metadata": {},
     "output_type": "execute_result"
    }
   ],
   "source": [
    "train_data.head()"
   ]
  },
  {
   "cell_type": "code",
   "execution_count": 96,
   "metadata": {},
   "outputs": [
    {
     "data": {
      "text/html": [
       "<div>\n",
       "<style scoped>\n",
       "    .dataframe tbody tr th:only-of-type {\n",
       "        vertical-align: middle;\n",
       "    }\n",
       "\n",
       "    .dataframe tbody tr th {\n",
       "        vertical-align: top;\n",
       "    }\n",
       "\n",
       "    .dataframe thead th {\n",
       "        text-align: right;\n",
       "    }\n",
       "</style>\n",
       "<table border=\"1\" class=\"dataframe\">\n",
       "  <thead>\n",
       "    <tr style=\"text-align: right;\">\n",
       "      <th></th>\n",
       "      <th>CustomerID</th>\n",
       "      <th>InvoiceNo</th>\n",
       "      <th>Quantity</th>\n",
       "      <th>InvoiceDate</th>\n",
       "      <th>UnitPrice</th>\n",
       "      <th>Country</th>\n",
       "      <th>StockCode</th>\n",
       "    </tr>\n",
       "  </thead>\n",
       "  <tbody>\n",
       "    <tr>\n",
       "      <th>0</th>\n",
       "      <td>27270</td>\n",
       "      <td>27270</td>\n",
       "      <td>7</td>\n",
       "      <td>2010-01-12 08:26:00</td>\n",
       "      <td>2.55</td>\n",
       "      <td>PX</td>\n",
       "      <td>85123AY</td>\n",
       "    </tr>\n",
       "    <tr>\n",
       "      <th>1</th>\n",
       "      <td>27270</td>\n",
       "      <td>27270</td>\n",
       "      <td>7</td>\n",
       "      <td>2010-01-12 08:26:00</td>\n",
       "      <td>3.39</td>\n",
       "      <td>PX</td>\n",
       "      <td>71053R</td>\n",
       "    </tr>\n",
       "    <tr>\n",
       "      <th>2</th>\n",
       "      <td>27270</td>\n",
       "      <td>27270</td>\n",
       "      <td>9</td>\n",
       "      <td>2010-01-12 08:26:00</td>\n",
       "      <td>2.75</td>\n",
       "      <td>PX</td>\n",
       "      <td>84406BH</td>\n",
       "    </tr>\n",
       "    <tr>\n",
       "      <th>3</th>\n",
       "      <td>27270</td>\n",
       "      <td>27270</td>\n",
       "      <td>7</td>\n",
       "      <td>2010-01-12 08:26:00</td>\n",
       "      <td>3.39</td>\n",
       "      <td>PX</td>\n",
       "      <td>84029GV</td>\n",
       "    </tr>\n",
       "    <tr>\n",
       "      <th>4</th>\n",
       "      <td>27270</td>\n",
       "      <td>27270</td>\n",
       "      <td>7</td>\n",
       "      <td>2010-01-12 08:26:00</td>\n",
       "      <td>3.39</td>\n",
       "      <td>PX</td>\n",
       "      <td>84029EX</td>\n",
       "    </tr>\n",
       "    <tr>\n",
       "      <th>5</th>\n",
       "      <td>27270</td>\n",
       "      <td>27270</td>\n",
       "      <td>2</td>\n",
       "      <td>2010-01-12 08:26:00</td>\n",
       "      <td>7.65</td>\n",
       "      <td>PX</td>\n",
       "      <td>22752G</td>\n",
       "    </tr>\n",
       "    <tr>\n",
       "      <th>6</th>\n",
       "      <td>27270</td>\n",
       "      <td>27270</td>\n",
       "      <td>7</td>\n",
       "      <td>2010-01-12 08:26:00</td>\n",
       "      <td>4.25</td>\n",
       "      <td>PX</td>\n",
       "      <td>21730R</td>\n",
       "    </tr>\n",
       "    <tr>\n",
       "      <th>9089</th>\n",
       "      <td>27270</td>\n",
       "      <td>27270</td>\n",
       "      <td>14</td>\n",
       "      <td>2010-07-12 10:32:00</td>\n",
       "      <td>1.45</td>\n",
       "      <td>PX</td>\n",
       "      <td>22147L</td>\n",
       "    </tr>\n",
       "    <tr>\n",
       "      <th>9090</th>\n",
       "      <td>27270</td>\n",
       "      <td>27270</td>\n",
       "      <td>14</td>\n",
       "      <td>2010-07-12 10:32:00</td>\n",
       "      <td>2.10</td>\n",
       "      <td>PX</td>\n",
       "      <td>84375E</td>\n",
       "    </tr>\n",
       "    <tr>\n",
       "      <th>9091</th>\n",
       "      <td>27270</td>\n",
       "      <td>27270</td>\n",
       "      <td>14</td>\n",
       "      <td>2010-07-12 10:32:00</td>\n",
       "      <td>1.65</td>\n",
       "      <td>PX</td>\n",
       "      <td>84050K</td>\n",
       "    </tr>\n",
       "    <tr>\n",
       "      <th>9092</th>\n",
       "      <td>27270</td>\n",
       "      <td>27270</td>\n",
       "      <td>7</td>\n",
       "      <td>2010-07-12 10:32:00</td>\n",
       "      <td>2.95</td>\n",
       "      <td>PX</td>\n",
       "      <td>22470E</td>\n",
       "    </tr>\n",
       "    <tr>\n",
       "      <th>9093</th>\n",
       "      <td>27270</td>\n",
       "      <td>27270</td>\n",
       "      <td>7</td>\n",
       "      <td>2010-07-12 10:32:00</td>\n",
       "      <td>2.95</td>\n",
       "      <td>PX</td>\n",
       "      <td>22667K</td>\n",
       "    </tr>\n",
       "    <tr>\n",
       "      <th>9094</th>\n",
       "      <td>27270</td>\n",
       "      <td>27270</td>\n",
       "      <td>7</td>\n",
       "      <td>2010-07-12 10:32:00</td>\n",
       "      <td>1.95</td>\n",
       "      <td>PX</td>\n",
       "      <td>22131I</td>\n",
       "    </tr>\n",
       "    <tr>\n",
       "      <th>9095</th>\n",
       "      <td>27270</td>\n",
       "      <td>27270</td>\n",
       "      <td>7</td>\n",
       "      <td>2010-07-12 10:32:00</td>\n",
       "      <td>2.95</td>\n",
       "      <td>PX</td>\n",
       "      <td>22326L</td>\n",
       "    </tr>\n",
       "    <tr>\n",
       "      <th>9096</th>\n",
       "      <td>27270</td>\n",
       "      <td>27270</td>\n",
       "      <td>7</td>\n",
       "      <td>2010-07-12 10:32:00</td>\n",
       "      <td>2.95</td>\n",
       "      <td>PX</td>\n",
       "      <td>22328M</td>\n",
       "    </tr>\n",
       "    <tr>\n",
       "      <th>9097</th>\n",
       "      <td>27270</td>\n",
       "      <td>27270</td>\n",
       "      <td>28</td>\n",
       "      <td>2010-07-12 10:32:00</td>\n",
       "      <td>0.55</td>\n",
       "      <td>PX</td>\n",
       "      <td>84992D</td>\n",
       "    </tr>\n",
       "    <tr>\n",
       "      <th>9098</th>\n",
       "      <td>27270</td>\n",
       "      <td>27270</td>\n",
       "      <td>14</td>\n",
       "      <td>2010-07-12 10:32:00</td>\n",
       "      <td>1.65</td>\n",
       "      <td>PX</td>\n",
       "      <td>22551F</td>\n",
       "    </tr>\n",
       "    <tr>\n",
       "      <th>9099</th>\n",
       "      <td>27270</td>\n",
       "      <td>27270</td>\n",
       "      <td>12</td>\n",
       "      <td>2010-07-12 10:32:00</td>\n",
       "      <td>1.65</td>\n",
       "      <td>PX</td>\n",
       "      <td>22382I</td>\n",
       "    </tr>\n",
       "    <tr>\n",
       "      <th>9100</th>\n",
       "      <td>27270</td>\n",
       "      <td>27270</td>\n",
       "      <td>12</td>\n",
       "      <td>2010-07-12 10:32:00</td>\n",
       "      <td>1.65</td>\n",
       "      <td>PX</td>\n",
       "      <td>20727V</td>\n",
       "    </tr>\n",
       "    <tr>\n",
       "      <th>9101</th>\n",
       "      <td>27270</td>\n",
       "      <td>27270</td>\n",
       "      <td>14</td>\n",
       "      <td>2010-07-12 10:32:00</td>\n",
       "      <td>2.10</td>\n",
       "      <td>PX</td>\n",
       "      <td>22867O</td>\n",
       "    </tr>\n",
       "    <tr>\n",
       "      <th>9102</th>\n",
       "      <td>27270</td>\n",
       "      <td>27270</td>\n",
       "      <td>14</td>\n",
       "      <td>2010-07-12 10:32:00</td>\n",
       "      <td>2.10</td>\n",
       "      <td>PX</td>\n",
       "      <td>22633V</td>\n",
       "    </tr>\n",
       "    <tr>\n",
       "      <th>9103</th>\n",
       "      <td>27270</td>\n",
       "      <td>27270</td>\n",
       "      <td>14</td>\n",
       "      <td>2010-07-12 10:32:00</td>\n",
       "      <td>2.10</td>\n",
       "      <td>PX</td>\n",
       "      <td>22866X</td>\n",
       "    </tr>\n",
       "    <tr>\n",
       "      <th>9104</th>\n",
       "      <td>27270</td>\n",
       "      <td>27270</td>\n",
       "      <td>4</td>\n",
       "      <td>2010-07-12 10:32:00</td>\n",
       "      <td>3.95</td>\n",
       "      <td>PX</td>\n",
       "      <td>22114V</td>\n",
       "    </tr>\n",
       "    <tr>\n",
       "      <th>9105</th>\n",
       "      <td>27270</td>\n",
       "      <td>27270</td>\n",
       "      <td>7</td>\n",
       "      <td>2010-07-12 10:32:00</td>\n",
       "      <td>4.95</td>\n",
       "      <td>PX</td>\n",
       "      <td>21485W</td>\n",
       "    </tr>\n",
       "    <tr>\n",
       "      <th>9106</th>\n",
       "      <td>27270</td>\n",
       "      <td>27270</td>\n",
       "      <td>3</td>\n",
       "      <td>2010-07-12 10:32:00</td>\n",
       "      <td>4.95</td>\n",
       "      <td>PX</td>\n",
       "      <td>22112V</td>\n",
       "    </tr>\n",
       "    <tr>\n",
       "      <th>9107</th>\n",
       "      <td>27270</td>\n",
       "      <td>27270</td>\n",
       "      <td>12</td>\n",
       "      <td>2010-07-12 10:32:00</td>\n",
       "      <td>1.25</td>\n",
       "      <td>PX</td>\n",
       "      <td>47559BK</td>\n",
       "    </tr>\n",
       "    <tr>\n",
       "      <th>9108</th>\n",
       "      <td>27270</td>\n",
       "      <td>27270</td>\n",
       "      <td>12</td>\n",
       "      <td>2010-07-12 10:32:00</td>\n",
       "      <td>1.65</td>\n",
       "      <td>PX</td>\n",
       "      <td>22383K</td>\n",
       "    </tr>\n",
       "    <tr>\n",
       "      <th>9109</th>\n",
       "      <td>27270</td>\n",
       "      <td>27270</td>\n",
       "      <td>18</td>\n",
       "      <td>2010-07-12 10:32:00</td>\n",
       "      <td>4.25</td>\n",
       "      <td>PX</td>\n",
       "      <td>22891F</td>\n",
       "    </tr>\n",
       "    <tr>\n",
       "      <th>9110</th>\n",
       "      <td>27270</td>\n",
       "      <td>27270</td>\n",
       "      <td>14</td>\n",
       "      <td>2010-07-12 10:32:00</td>\n",
       "      <td>1.25</td>\n",
       "      <td>PX</td>\n",
       "      <td>37370Z</td>\n",
       "    </tr>\n",
       "    <tr>\n",
       "      <th>15999</th>\n",
       "      <td>27270</td>\n",
       "      <td>27270</td>\n",
       "      <td>2</td>\n",
       "      <td>2010-12-13 11:11:00</td>\n",
       "      <td>0.95</td>\n",
       "      <td>PX</td>\n",
       "      <td>21034O</td>\n",
       "    </tr>\n",
       "    <tr>\n",
       "      <th>...</th>\n",
       "      <td>...</td>\n",
       "      <td>...</td>\n",
       "      <td>...</td>\n",
       "      <td>...</td>\n",
       "      <td>...</td>\n",
       "      <td>...</td>\n",
       "      <td>...</td>\n",
       "    </tr>\n",
       "    <tr>\n",
       "      <th>279682</th>\n",
       "      <td>27270</td>\n",
       "      <td>27270</td>\n",
       "      <td>60</td>\n",
       "      <td>2011-11-11 12:07:00</td>\n",
       "      <td>0.85</td>\n",
       "      <td>RA</td>\n",
       "      <td>23204B</td>\n",
       "    </tr>\n",
       "    <tr>\n",
       "      <th>279683</th>\n",
       "      <td>27270</td>\n",
       "      <td>27270</td>\n",
       "      <td>36</td>\n",
       "      <td>2011-11-11 12:07:00</td>\n",
       "      <td>0.85</td>\n",
       "      <td>RA</td>\n",
       "      <td>20724F</td>\n",
       "    </tr>\n",
       "    <tr>\n",
       "      <th>279684</th>\n",
       "      <td>27270</td>\n",
       "      <td>27270</td>\n",
       "      <td>24</td>\n",
       "      <td>2011-11-11 12:07:00</td>\n",
       "      <td>0.85</td>\n",
       "      <td>RA</td>\n",
       "      <td>22661W</td>\n",
       "    </tr>\n",
       "    <tr>\n",
       "      <th>279685</th>\n",
       "      <td>27270</td>\n",
       "      <td>27270</td>\n",
       "      <td>28</td>\n",
       "      <td>2011-11-11 12:07:00</td>\n",
       "      <td>1.65</td>\n",
       "      <td>RA</td>\n",
       "      <td>22551F</td>\n",
       "    </tr>\n",
       "    <tr>\n",
       "      <th>279686</th>\n",
       "      <td>27270</td>\n",
       "      <td>27270</td>\n",
       "      <td>14</td>\n",
       "      <td>2011-11-11 12:07:00</td>\n",
       "      <td>1.65</td>\n",
       "      <td>RA</td>\n",
       "      <td>22554P</td>\n",
       "    </tr>\n",
       "    <tr>\n",
       "      <th>279687</th>\n",
       "      <td>27270</td>\n",
       "      <td>27270</td>\n",
       "      <td>14</td>\n",
       "      <td>2011-11-11 12:07:00</td>\n",
       "      <td>1.65</td>\n",
       "      <td>RA</td>\n",
       "      <td>22556N</td>\n",
       "    </tr>\n",
       "    <tr>\n",
       "      <th>279688</th>\n",
       "      <td>27270</td>\n",
       "      <td>27270</td>\n",
       "      <td>14</td>\n",
       "      <td>2011-11-11 12:07:00</td>\n",
       "      <td>2.08</td>\n",
       "      <td>RA</td>\n",
       "      <td>23084M</td>\n",
       "    </tr>\n",
       "    <tr>\n",
       "      <th>279689</th>\n",
       "      <td>27270</td>\n",
       "      <td>27270</td>\n",
       "      <td>19</td>\n",
       "      <td>2011-11-11 12:07:00</td>\n",
       "      <td>1.25</td>\n",
       "      <td>RA</td>\n",
       "      <td>23371H</td>\n",
       "    </tr>\n",
       "    <tr>\n",
       "      <th>279690</th>\n",
       "      <td>27270</td>\n",
       "      <td>27270</td>\n",
       "      <td>19</td>\n",
       "      <td>2011-11-11 12:07:00</td>\n",
       "      <td>1.25</td>\n",
       "      <td>RA</td>\n",
       "      <td>23372N</td>\n",
       "    </tr>\n",
       "    <tr>\n",
       "      <th>279691</th>\n",
       "      <td>27270</td>\n",
       "      <td>27270</td>\n",
       "      <td>43</td>\n",
       "      <td>2011-11-11 12:07:00</td>\n",
       "      <td>0.19</td>\n",
       "      <td>RA</td>\n",
       "      <td>22609U</td>\n",
       "    </tr>\n",
       "    <tr>\n",
       "      <th>279692</th>\n",
       "      <td>27270</td>\n",
       "      <td>27270</td>\n",
       "      <td>43</td>\n",
       "      <td>2011-11-11 12:07:00</td>\n",
       "      <td>0.19</td>\n",
       "      <td>RA</td>\n",
       "      <td>22610S</td>\n",
       "    </tr>\n",
       "    <tr>\n",
       "      <th>279693</th>\n",
       "      <td>27270</td>\n",
       "      <td>27270</td>\n",
       "      <td>72</td>\n",
       "      <td>2011-11-11 12:07:00</td>\n",
       "      <td>0.85</td>\n",
       "      <td>RA</td>\n",
       "      <td>22181S</td>\n",
       "    </tr>\n",
       "    <tr>\n",
       "      <th>316793</th>\n",
       "      <td>27270</td>\n",
       "      <td>27270</td>\n",
       "      <td>240</td>\n",
       "      <td>2011-02-12 16:04:00</td>\n",
       "      <td>1.25</td>\n",
       "      <td>PX</td>\n",
       "      <td>62018W</td>\n",
       "    </tr>\n",
       "    <tr>\n",
       "      <th>316794</th>\n",
       "      <td>27270</td>\n",
       "      <td>27270</td>\n",
       "      <td>9</td>\n",
       "      <td>2011-02-12 16:04:00</td>\n",
       "      <td>5.45</td>\n",
       "      <td>PX</td>\n",
       "      <td>47590BU</td>\n",
       "    </tr>\n",
       "    <tr>\n",
       "      <th>316795</th>\n",
       "      <td>27270</td>\n",
       "      <td>27270</td>\n",
       "      <td>9</td>\n",
       "      <td>2011-02-12 16:04:00</td>\n",
       "      <td>4.95</td>\n",
       "      <td>PX</td>\n",
       "      <td>47566Y</td>\n",
       "    </tr>\n",
       "    <tr>\n",
       "      <th>316796</th>\n",
       "      <td>27270</td>\n",
       "      <td>27270</td>\n",
       "      <td>14</td>\n",
       "      <td>2011-02-12 16:04:00</td>\n",
       "      <td>0.65</td>\n",
       "      <td>PX</td>\n",
       "      <td>21086B</td>\n",
       "    </tr>\n",
       "    <tr>\n",
       "      <th>316797</th>\n",
       "      <td>27270</td>\n",
       "      <td>27270</td>\n",
       "      <td>28</td>\n",
       "      <td>2011-02-12 16:04:00</td>\n",
       "      <td>0.83</td>\n",
       "      <td>PX</td>\n",
       "      <td>15036Z</td>\n",
       "    </tr>\n",
       "    <tr>\n",
       "      <th>316798</th>\n",
       "      <td>27270</td>\n",
       "      <td>27270</td>\n",
       "      <td>14</td>\n",
       "      <td>2011-02-12 16:04:00</td>\n",
       "      <td>2.10</td>\n",
       "      <td>PX</td>\n",
       "      <td>47599BN</td>\n",
       "    </tr>\n",
       "    <tr>\n",
       "      <th>316799</th>\n",
       "      <td>27270</td>\n",
       "      <td>27270</td>\n",
       "      <td>14</td>\n",
       "      <td>2011-02-12 16:04:00</td>\n",
       "      <td>2.10</td>\n",
       "      <td>PX</td>\n",
       "      <td>47599AI</td>\n",
       "    </tr>\n",
       "    <tr>\n",
       "      <th>329253</th>\n",
       "      <td>27270</td>\n",
       "      <td>27270</td>\n",
       "      <td>12</td>\n",
       "      <td>2011-08-12 18:25:00</td>\n",
       "      <td>2.31</td>\n",
       "      <td>PX</td>\n",
       "      <td>22188M</td>\n",
       "    </tr>\n",
       "    <tr>\n",
       "      <th>329254</th>\n",
       "      <td>27270</td>\n",
       "      <td>27270</td>\n",
       "      <td>12</td>\n",
       "      <td>2011-08-12 18:25:00</td>\n",
       "      <td>2.31</td>\n",
       "      <td>PX</td>\n",
       "      <td>22189I</td>\n",
       "    </tr>\n",
       "    <tr>\n",
       "      <th>329255</th>\n",
       "      <td>27270</td>\n",
       "      <td>27270</td>\n",
       "      <td>14</td>\n",
       "      <td>2011-08-12 18:25:00</td>\n",
       "      <td>4.80</td>\n",
       "      <td>PX</td>\n",
       "      <td>82484O</td>\n",
       "    </tr>\n",
       "    <tr>\n",
       "      <th>329256</th>\n",
       "      <td>27270</td>\n",
       "      <td>27270</td>\n",
       "      <td>12</td>\n",
       "      <td>2011-08-12 18:25:00</td>\n",
       "      <td>7.05</td>\n",
       "      <td>PX</td>\n",
       "      <td>23133S</td>\n",
       "    </tr>\n",
       "    <tr>\n",
       "      <th>329257</th>\n",
       "      <td>27270</td>\n",
       "      <td>27270</td>\n",
       "      <td>12</td>\n",
       "      <td>2011-08-12 18:25:00</td>\n",
       "      <td>10.95</td>\n",
       "      <td>PX</td>\n",
       "      <td>23553R</td>\n",
       "    </tr>\n",
       "    <tr>\n",
       "      <th>329258</th>\n",
       "      <td>27270</td>\n",
       "      <td>27270</td>\n",
       "      <td>14</td>\n",
       "      <td>2011-08-12 18:25:00</td>\n",
       "      <td>6.67</td>\n",
       "      <td>PX</td>\n",
       "      <td>23542P</td>\n",
       "    </tr>\n",
       "    <tr>\n",
       "      <th>329259</th>\n",
       "      <td>27270</td>\n",
       "      <td>27270</td>\n",
       "      <td>14</td>\n",
       "      <td>2011-08-12 18:25:00</td>\n",
       "      <td>4.76</td>\n",
       "      <td>PX</td>\n",
       "      <td>23531S</td>\n",
       "    </tr>\n",
       "    <tr>\n",
       "      <th>329260</th>\n",
       "      <td>27270</td>\n",
       "      <td>27270</td>\n",
       "      <td>21</td>\n",
       "      <td>2011-08-12 18:25:00</td>\n",
       "      <td>3.57</td>\n",
       "      <td>PX</td>\n",
       "      <td>23530G</td>\n",
       "    </tr>\n",
       "    <tr>\n",
       "      <th>329261</th>\n",
       "      <td>27270</td>\n",
       "      <td>27270</td>\n",
       "      <td>21</td>\n",
       "      <td>2011-08-12 18:25:00</td>\n",
       "      <td>4.15</td>\n",
       "      <td>PX</td>\n",
       "      <td>23401R</td>\n",
       "    </tr>\n",
       "    <tr>\n",
       "      <th>329262</th>\n",
       "      <td>27270</td>\n",
       "      <td>27270</td>\n",
       "      <td>12</td>\n",
       "      <td>2011-08-12 18:25:00</td>\n",
       "      <td>3.26</td>\n",
       "      <td>PX</td>\n",
       "      <td>23404U</td>\n",
       "    </tr>\n",
       "    <tr>\n",
       "      <th>329263</th>\n",
       "      <td>27270</td>\n",
       "      <td>27270</td>\n",
       "      <td>21</td>\n",
       "      <td>2011-08-12 18:25:00</td>\n",
       "      <td>3.32</td>\n",
       "      <td>PX</td>\n",
       "      <td>23135J</td>\n",
       "    </tr>\n",
       "  </tbody>\n",
       "</table>\n",
       "<p>377 rows × 7 columns</p>\n",
       "</div>"
      ],
      "text/plain": [
       "        CustomerID  InvoiceNo  Quantity         InvoiceDate  UnitPrice  \\\n",
       "0            27270      27270         7 2010-01-12 08:26:00       2.55   \n",
       "1            27270      27270         7 2010-01-12 08:26:00       3.39   \n",
       "2            27270      27270         9 2010-01-12 08:26:00       2.75   \n",
       "3            27270      27270         7 2010-01-12 08:26:00       3.39   \n",
       "4            27270      27270         7 2010-01-12 08:26:00       3.39   \n",
       "5            27270      27270         2 2010-01-12 08:26:00       7.65   \n",
       "6            27270      27270         7 2010-01-12 08:26:00       4.25   \n",
       "9089         27270      27270        14 2010-07-12 10:32:00       1.45   \n",
       "9090         27270      27270        14 2010-07-12 10:32:00       2.10   \n",
       "9091         27270      27270        14 2010-07-12 10:32:00       1.65   \n",
       "9092         27270      27270         7 2010-07-12 10:32:00       2.95   \n",
       "9093         27270      27270         7 2010-07-12 10:32:00       2.95   \n",
       "9094         27270      27270         7 2010-07-12 10:32:00       1.95   \n",
       "9095         27270      27270         7 2010-07-12 10:32:00       2.95   \n",
       "9096         27270      27270         7 2010-07-12 10:32:00       2.95   \n",
       "9097         27270      27270        28 2010-07-12 10:32:00       0.55   \n",
       "9098         27270      27270        14 2010-07-12 10:32:00       1.65   \n",
       "9099         27270      27270        12 2010-07-12 10:32:00       1.65   \n",
       "9100         27270      27270        12 2010-07-12 10:32:00       1.65   \n",
       "9101         27270      27270        14 2010-07-12 10:32:00       2.10   \n",
       "9102         27270      27270        14 2010-07-12 10:32:00       2.10   \n",
       "9103         27270      27270        14 2010-07-12 10:32:00       2.10   \n",
       "9104         27270      27270         4 2010-07-12 10:32:00       3.95   \n",
       "9105         27270      27270         7 2010-07-12 10:32:00       4.95   \n",
       "9106         27270      27270         3 2010-07-12 10:32:00       4.95   \n",
       "9107         27270      27270        12 2010-07-12 10:32:00       1.25   \n",
       "9108         27270      27270        12 2010-07-12 10:32:00       1.65   \n",
       "9109         27270      27270        18 2010-07-12 10:32:00       4.25   \n",
       "9110         27270      27270        14 2010-07-12 10:32:00       1.25   \n",
       "15999        27270      27270         2 2010-12-13 11:11:00       0.95   \n",
       "...            ...        ...       ...                 ...        ...   \n",
       "279682       27270      27270        60 2011-11-11 12:07:00       0.85   \n",
       "279683       27270      27270        36 2011-11-11 12:07:00       0.85   \n",
       "279684       27270      27270        24 2011-11-11 12:07:00       0.85   \n",
       "279685       27270      27270        28 2011-11-11 12:07:00       1.65   \n",
       "279686       27270      27270        14 2011-11-11 12:07:00       1.65   \n",
       "279687       27270      27270        14 2011-11-11 12:07:00       1.65   \n",
       "279688       27270      27270        14 2011-11-11 12:07:00       2.08   \n",
       "279689       27270      27270        19 2011-11-11 12:07:00       1.25   \n",
       "279690       27270      27270        19 2011-11-11 12:07:00       1.25   \n",
       "279691       27270      27270        43 2011-11-11 12:07:00       0.19   \n",
       "279692       27270      27270        43 2011-11-11 12:07:00       0.19   \n",
       "279693       27270      27270        72 2011-11-11 12:07:00       0.85   \n",
       "316793       27270      27270       240 2011-02-12 16:04:00       1.25   \n",
       "316794       27270      27270         9 2011-02-12 16:04:00       5.45   \n",
       "316795       27270      27270         9 2011-02-12 16:04:00       4.95   \n",
       "316796       27270      27270        14 2011-02-12 16:04:00       0.65   \n",
       "316797       27270      27270        28 2011-02-12 16:04:00       0.83   \n",
       "316798       27270      27270        14 2011-02-12 16:04:00       2.10   \n",
       "316799       27270      27270        14 2011-02-12 16:04:00       2.10   \n",
       "329253       27270      27270        12 2011-08-12 18:25:00       2.31   \n",
       "329254       27270      27270        12 2011-08-12 18:25:00       2.31   \n",
       "329255       27270      27270        14 2011-08-12 18:25:00       4.80   \n",
       "329256       27270      27270        12 2011-08-12 18:25:00       7.05   \n",
       "329257       27270      27270        12 2011-08-12 18:25:00      10.95   \n",
       "329258       27270      27270        14 2011-08-12 18:25:00       6.67   \n",
       "329259       27270      27270        14 2011-08-12 18:25:00       4.76   \n",
       "329260       27270      27270        21 2011-08-12 18:25:00       3.57   \n",
       "329261       27270      27270        21 2011-08-12 18:25:00       4.15   \n",
       "329262       27270      27270        12 2011-08-12 18:25:00       3.26   \n",
       "329263       27270      27270        21 2011-08-12 18:25:00       3.32   \n",
       "\n",
       "       Country StockCode  \n",
       "0           PX   85123AY  \n",
       "1           PX    71053R  \n",
       "2           PX   84406BH  \n",
       "3           PX   84029GV  \n",
       "4           PX   84029EX  \n",
       "5           PX    22752G  \n",
       "6           PX    21730R  \n",
       "9089        PX    22147L  \n",
       "9090        PX    84375E  \n",
       "9091        PX    84050K  \n",
       "9092        PX    22470E  \n",
       "9093        PX    22667K  \n",
       "9094        PX    22131I  \n",
       "9095        PX    22326L  \n",
       "9096        PX    22328M  \n",
       "9097        PX    84992D  \n",
       "9098        PX    22551F  \n",
       "9099        PX    22382I  \n",
       "9100        PX    20727V  \n",
       "9101        PX    22867O  \n",
       "9102        PX    22633V  \n",
       "9103        PX    22866X  \n",
       "9104        PX    22114V  \n",
       "9105        PX    21485W  \n",
       "9106        PX    22112V  \n",
       "9107        PX   47559BK  \n",
       "9108        PX    22383K  \n",
       "9109        PX    22891F  \n",
       "9110        PX    37370Z  \n",
       "15999       PX    21034O  \n",
       "...        ...       ...  \n",
       "279682      RA    23204B  \n",
       "279683      RA    20724F  \n",
       "279684      RA    22661W  \n",
       "279685      RA    22551F  \n",
       "279686      RA    22554P  \n",
       "279687      RA    22556N  \n",
       "279688      RA    23084M  \n",
       "279689      RA    23371H  \n",
       "279690      RA    23372N  \n",
       "279691      RA    22609U  \n",
       "279692      RA    22610S  \n",
       "279693      RA    22181S  \n",
       "316793      PX    62018W  \n",
       "316794      PX   47590BU  \n",
       "316795      PX    47566Y  \n",
       "316796      PX    21086B  \n",
       "316797      PX    15036Z  \n",
       "316798      PX   47599BN  \n",
       "316799      PX   47599AI  \n",
       "329253      PX    22188M  \n",
       "329254      PX    22189I  \n",
       "329255      PX    82484O  \n",
       "329256      PX    23133S  \n",
       "329257      PX    23553R  \n",
       "329258      PX    23542P  \n",
       "329259      PX    23531S  \n",
       "329260      PX    23530G  \n",
       "329261      PX    23401R  \n",
       "329262      PX    23404U  \n",
       "329263      PX    23135J  \n",
       "\n",
       "[377 rows x 7 columns]"
      ]
     },
     "execution_count": 96,
     "metadata": {},
     "output_type": "execute_result"
    }
   ],
   "source": [
    "train_data[train_data[\"CustomerID\"]==27270]"
   ]
  },
  {
   "cell_type": "code",
   "execution_count": 93,
   "metadata": {},
   "outputs": [
    {
     "data": {
      "text/plain": [
       "InvoiceDate\n",
       "2010-01-12 08:26:00     7\n",
       "2010-07-12 10:32:00    22\n",
       "2010-12-13 11:11:00     1\n",
       "2010-12-21 10:35:00     1\n",
       "2011-01-17 16:20:00     3\n",
       "2011-02-06 09:38:00     1\n",
       "2011-02-09 12:01:00    20\n",
       "2011-02-12 16:04:00     7\n",
       "2011-03-18 08:31:00    19\n",
       "2011-04-17 13:04:00    18\n",
       "2011-04-28 14:36:00     1\n",
       "2011-05-08 14:50:00    14\n",
       "2011-05-10 15:35:00    45\n",
       "2011-05-18 10:50:00     4\n",
       "2011-06-15 14:23:00     1\n",
       "2011-06-20 14:38:00     6\n",
       "2011-07-03 12:26:00    11\n",
       "2011-07-09 11:32:00    30\n",
       "2011-07-11 08:26:00    14\n",
       "2011-08-12 18:25:00    11\n",
       "2011-08-23 16:49:00    13\n",
       "2011-08-28 13:35:00    50\n",
       "2011-09-05 16:41:00     1\n",
       "2011-09-15 15:35:00     5\n",
       "2011-09-28 11:11:00     1\n",
       "2011-10-17 13:44:00    21\n",
       "2011-10-24 16:48:00     4\n",
       "2011-11-07 15:22:00     4\n",
       "2011-11-11 12:07:00    13\n",
       "2011-12-08 09:04:00    17\n",
       "2011-12-09 12:48:00    12\n",
       "Name: StockCode, dtype: int64"
      ]
     },
     "execution_count": 93,
     "metadata": {},
     "output_type": "execute_result"
    }
   ],
   "source": [
    "train_basket_sizes[27270]"
   ]
  },
  {
   "cell_type": "code",
   "execution_count": null,
   "metadata": {},
   "outputs": [],
   "source": []
  }
 ],
 "metadata": {
  "kernelspec": {
   "display_name": "Python 3",
   "language": "python",
   "name": "python3"
  },
  "language_info": {
   "codemirror_mode": {
    "name": "ipython",
    "version": 3
   },
   "file_extension": ".py",
   "mimetype": "text/x-python",
   "name": "python",
   "nbconvert_exporter": "python",
   "pygments_lexer": "ipython3",
   "version": "3.7.1"
  }
 },
 "nbformat": 4,
 "nbformat_minor": 2
}
