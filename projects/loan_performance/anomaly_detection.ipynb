{
 "cells": [
  {
   "cell_type": "markdown",
   "metadata": {},
   "source": [
    "Ref: https://datahack.analyticsvidhya.com/contest/india-ml-hiring-hackathon-2019/"
   ]
  },
  {
   "cell_type": "code",
   "execution_count": 15,
   "metadata": {},
   "outputs": [],
   "source": [
    "import pandas as pd\n",
    "from sklearn.model_selection import train_test_split\n",
    "import numpy as np\n",
    "import matplotlib.pyplot as plt\n",
    "import seaborn as  sns\n",
    "from sklearn.metrics import confusion_matrix, classification_report, f1_score\n",
    "import xgboost as xgb\n",
    "%matplotlib inline"
   ]
  },
  {
   "cell_type": "code",
   "execution_count": 2,
   "metadata": {},
   "outputs": [],
   "source": [
    "data = pd.read_csv(\"train.csv\")\n",
    "test_data = pd.read_csv(\"test.csv\")"
   ]
  },
  {
   "cell_type": "code",
   "execution_count": 4,
   "metadata": {},
   "outputs": [
    {
     "data": {
      "text/plain": [
       "['loan_id',\n",
       " 'source',\n",
       " 'financial_institution',\n",
       " 'interest_rate',\n",
       " 'unpaid_principal_bal',\n",
       " 'loan_term',\n",
       " 'origination_date',\n",
       " 'first_payment_date',\n",
       " 'loan_to_value',\n",
       " 'number_of_borrowers',\n",
       " 'debt_to_income_ratio',\n",
       " 'borrower_credit_score',\n",
       " 'loan_purpose',\n",
       " 'insurance_percent',\n",
       " 'co-borrower_credit_score',\n",
       " 'insurance_type',\n",
       " 'm1',\n",
       " 'm2',\n",
       " 'm3',\n",
       " 'm4',\n",
       " 'm5',\n",
       " 'm6',\n",
       " 'm7',\n",
       " 'm8',\n",
       " 'm9',\n",
       " 'm10',\n",
       " 'm11',\n",
       " 'm12',\n",
       " 'm13']"
      ]
     },
     "execution_count": 4,
     "metadata": {},
     "output_type": "execute_result"
    }
   ],
   "source": [
    "list(data)"
   ]
  },
  {
   "cell_type": "code",
   "execution_count": 5,
   "metadata": {},
   "outputs": [
    {
     "data": {
      "text/html": [
       "<div>\n",
       "<style scoped>\n",
       "    .dataframe tbody tr th:only-of-type {\n",
       "        vertical-align: middle;\n",
       "    }\n",
       "\n",
       "    .dataframe tbody tr th {\n",
       "        vertical-align: top;\n",
       "    }\n",
       "\n",
       "    .dataframe thead th {\n",
       "        text-align: right;\n",
       "    }\n",
       "</style>\n",
       "<table border=\"1\" class=\"dataframe\">\n",
       "  <thead>\n",
       "    <tr style=\"text-align: right;\">\n",
       "      <th>m13</th>\n",
       "      <th>0</th>\n",
       "      <th>1</th>\n",
       "    </tr>\n",
       "    <tr>\n",
       "      <th>insurance_type</th>\n",
       "      <th></th>\n",
       "      <th></th>\n",
       "    </tr>\n",
       "  </thead>\n",
       "  <tbody>\n",
       "    <tr>\n",
       "      <th>0.0</th>\n",
       "      <td>0.994545</td>\n",
       "      <td>0.005455</td>\n",
       "    </tr>\n",
       "    <tr>\n",
       "      <th>1.0</th>\n",
       "      <td>0.986772</td>\n",
       "      <td>0.013228</td>\n",
       "    </tr>\n",
       "  </tbody>\n",
       "</table>\n",
       "</div>"
      ],
      "text/plain": [
       "m13                    0         1\n",
       "insurance_type                    \n",
       "0.0             0.994545  0.005455\n",
       "1.0             0.986772  0.013228"
      ]
     },
     "execution_count": 5,
     "metadata": {},
     "output_type": "execute_result"
    }
   ],
   "source": [
    "pd.crosstab(data[\"insurance_type\"], data[\"m13\"], normalize=\"index\")"
   ]
  },
  {
   "cell_type": "code",
   "execution_count": 6,
   "metadata": {},
   "outputs": [
    {
     "data": {
      "text/html": [
       "<div>\n",
       "<style scoped>\n",
       "    .dataframe tbody tr th:only-of-type {\n",
       "        vertical-align: middle;\n",
       "    }\n",
       "\n",
       "    .dataframe tbody tr th {\n",
       "        vertical-align: top;\n",
       "    }\n",
       "\n",
       "    .dataframe thead th {\n",
       "        text-align: right;\n",
       "    }\n",
       "</style>\n",
       "<table border=\"1\" class=\"dataframe\">\n",
       "  <thead>\n",
       "    <tr style=\"text-align: right;\">\n",
       "      <th>m13</th>\n",
       "      <th>0</th>\n",
       "      <th>1</th>\n",
       "    </tr>\n",
       "    <tr>\n",
       "      <th>insurance_type</th>\n",
       "      <th></th>\n",
       "      <th></th>\n",
       "    </tr>\n",
       "  </thead>\n",
       "  <tbody>\n",
       "    <tr>\n",
       "      <th>0.0</th>\n",
       "      <td>115049</td>\n",
       "      <td>631</td>\n",
       "    </tr>\n",
       "    <tr>\n",
       "      <th>1.0</th>\n",
       "      <td>373</td>\n",
       "      <td>5</td>\n",
       "    </tr>\n",
       "  </tbody>\n",
       "</table>\n",
       "</div>"
      ],
      "text/plain": [
       "m13                  0    1\n",
       "insurance_type             \n",
       "0.0             115049  631\n",
       "1.0                373    5"
      ]
     },
     "execution_count": 6,
     "metadata": {},
     "output_type": "execute_result"
    }
   ],
   "source": [
    "pd.crosstab(data[\"insurance_type\"], data[\"m13\"])"
   ]
  },
  {
   "cell_type": "markdown",
   "metadata": {},
   "source": [
    "Data Types:\n",
    "\n",
    "* 'source' - categorical\n",
    "* 'financial_institution' - categorical\n",
    "* 'interest_rate' - numerical\n",
    "* 'unpaid_principal_bal' - numerical\n",
    "* 'loan_term' - numerical\n",
    "* 'origination_date' - date. can be considered as categorical as only few vals are present\n",
    "* 'first_payment_date' - date. can be considered as categorical as only few vals are present. Diff of this and prev variables can be considered\n",
    "* 'loan_to_value' - numerical\n",
    "* 'number_of_borrowers' - numerical\n",
    "* 'debt_to_income_ratio' - numerical\n",
    "* 'borrower_credit_score' - numerical\n",
    "* 'loan_purpose' - categorical\n",
    "* 'insurance_percent' - numerical\n",
    "* 'co-borrower_credit_score' - numerical\n",
    "* 'insurance_type' - categorical\n",
    "* 'm1', - this and below all are numerical\n",
    "* 'm2',\n",
    " 'm3',\n",
    " 'm4',\n",
    " 'm5',\n",
    " 'm6',\n",
    " 'm7',\n",
    " 'm8',\n",
    " 'm9',\n",
    " 'm10',\n",
    " 'm11',\n",
    " 'm12',\n",
    " 'm13'"
   ]
  },
  {
   "cell_type": "code",
   "execution_count": 3,
   "metadata": {},
   "outputs": [],
   "source": [
    "cat_vars = [\"source\", \"financial_institution\", \"loan_purpose\", \"insurance_type\"]"
   ]
  },
  {
   "cell_type": "code",
   "execution_count": 7,
   "metadata": {},
   "outputs": [
    {
     "data": {
      "text/html": [
       "<div>\n",
       "<style scoped>\n",
       "    .dataframe tbody tr th:only-of-type {\n",
       "        vertical-align: middle;\n",
       "    }\n",
       "\n",
       "    .dataframe tbody tr th {\n",
       "        vertical-align: top;\n",
       "    }\n",
       "\n",
       "    .dataframe thead th {\n",
       "        text-align: right;\n",
       "    }\n",
       "</style>\n",
       "<table border=\"1\" class=\"dataframe\">\n",
       "  <thead>\n",
       "    <tr style=\"text-align: right;\">\n",
       "      <th></th>\n",
       "      <th>loan_id</th>\n",
       "      <th>source</th>\n",
       "      <th>financial_institution</th>\n",
       "      <th>interest_rate</th>\n",
       "      <th>unpaid_principal_bal</th>\n",
       "      <th>loan_term</th>\n",
       "      <th>origination_date</th>\n",
       "      <th>first_payment_date</th>\n",
       "      <th>loan_to_value</th>\n",
       "      <th>number_of_borrowers</th>\n",
       "      <th>...</th>\n",
       "      <th>m4</th>\n",
       "      <th>m5</th>\n",
       "      <th>m6</th>\n",
       "      <th>m7</th>\n",
       "      <th>m8</th>\n",
       "      <th>m9</th>\n",
       "      <th>m10</th>\n",
       "      <th>m11</th>\n",
       "      <th>m12</th>\n",
       "      <th>m13</th>\n",
       "    </tr>\n",
       "  </thead>\n",
       "  <tbody>\n",
       "    <tr>\n",
       "      <th>0</th>\n",
       "      <td>268055008619</td>\n",
       "      <td>Z</td>\n",
       "      <td>Turner, Baldwin and Rhodes</td>\n",
       "      <td>4.250</td>\n",
       "      <td>214000</td>\n",
       "      <td>360</td>\n",
       "      <td>2012-03-01</td>\n",
       "      <td>05/2012</td>\n",
       "      <td>95</td>\n",
       "      <td>1.0</td>\n",
       "      <td>...</td>\n",
       "      <td>0</td>\n",
       "      <td>0</td>\n",
       "      <td>0</td>\n",
       "      <td>1</td>\n",
       "      <td>0</td>\n",
       "      <td>0</td>\n",
       "      <td>0</td>\n",
       "      <td>0</td>\n",
       "      <td>0</td>\n",
       "      <td>1</td>\n",
       "    </tr>\n",
       "    <tr>\n",
       "      <th>1</th>\n",
       "      <td>672831657627</td>\n",
       "      <td>Y</td>\n",
       "      <td>Swanson, Newton and Miller</td>\n",
       "      <td>4.875</td>\n",
       "      <td>144000</td>\n",
       "      <td>360</td>\n",
       "      <td>2012-01-01</td>\n",
       "      <td>03/2012</td>\n",
       "      <td>72</td>\n",
       "      <td>1.0</td>\n",
       "      <td>...</td>\n",
       "      <td>0</td>\n",
       "      <td>0</td>\n",
       "      <td>0</td>\n",
       "      <td>0</td>\n",
       "      <td>0</td>\n",
       "      <td>0</td>\n",
       "      <td>0</td>\n",
       "      <td>1</td>\n",
       "      <td>0</td>\n",
       "      <td>1</td>\n",
       "    </tr>\n",
       "    <tr>\n",
       "      <th>2</th>\n",
       "      <td>742515242108</td>\n",
       "      <td>Z</td>\n",
       "      <td>Thornton-Davis</td>\n",
       "      <td>3.250</td>\n",
       "      <td>366000</td>\n",
       "      <td>180</td>\n",
       "      <td>2012-01-01</td>\n",
       "      <td>03/2012</td>\n",
       "      <td>49</td>\n",
       "      <td>1.0</td>\n",
       "      <td>...</td>\n",
       "      <td>0</td>\n",
       "      <td>0</td>\n",
       "      <td>0</td>\n",
       "      <td>0</td>\n",
       "      <td>0</td>\n",
       "      <td>0</td>\n",
       "      <td>0</td>\n",
       "      <td>0</td>\n",
       "      <td>0</td>\n",
       "      <td>1</td>\n",
       "    </tr>\n",
       "    <tr>\n",
       "      <th>3</th>\n",
       "      <td>601385667462</td>\n",
       "      <td>X</td>\n",
       "      <td>OTHER</td>\n",
       "      <td>4.750</td>\n",
       "      <td>135000</td>\n",
       "      <td>360</td>\n",
       "      <td>2012-02-01</td>\n",
       "      <td>04/2012</td>\n",
       "      <td>46</td>\n",
       "      <td>2.0</td>\n",
       "      <td>...</td>\n",
       "      <td>0</td>\n",
       "      <td>0</td>\n",
       "      <td>0</td>\n",
       "      <td>0</td>\n",
       "      <td>0</td>\n",
       "      <td>1</td>\n",
       "      <td>1</td>\n",
       "      <td>1</td>\n",
       "      <td>1</td>\n",
       "      <td>1</td>\n",
       "    </tr>\n",
       "    <tr>\n",
       "      <th>4</th>\n",
       "      <td>273870029961</td>\n",
       "      <td>X</td>\n",
       "      <td>OTHER</td>\n",
       "      <td>4.750</td>\n",
       "      <td>124000</td>\n",
       "      <td>360</td>\n",
       "      <td>2012-02-01</td>\n",
       "      <td>04/2012</td>\n",
       "      <td>80</td>\n",
       "      <td>1.0</td>\n",
       "      <td>...</td>\n",
       "      <td>3</td>\n",
       "      <td>4</td>\n",
       "      <td>5</td>\n",
       "      <td>6</td>\n",
       "      <td>7</td>\n",
       "      <td>8</td>\n",
       "      <td>9</td>\n",
       "      <td>10</td>\n",
       "      <td>11</td>\n",
       "      <td>1</td>\n",
       "    </tr>\n",
       "  </tbody>\n",
       "</table>\n",
       "<p>5 rows × 29 columns</p>\n",
       "</div>"
      ],
      "text/plain": [
       "        loan_id source       financial_institution  interest_rate  \\\n",
       "0  268055008619      Z  Turner, Baldwin and Rhodes          4.250   \n",
       "1  672831657627      Y  Swanson, Newton and Miller          4.875   \n",
       "2  742515242108      Z              Thornton-Davis          3.250   \n",
       "3  601385667462      X                       OTHER          4.750   \n",
       "4  273870029961      X                       OTHER          4.750   \n",
       "\n",
       "   unpaid_principal_bal  loan_term origination_date first_payment_date  \\\n",
       "0                214000        360       2012-03-01            05/2012   \n",
       "1                144000        360       2012-01-01            03/2012   \n",
       "2                366000        180       2012-01-01            03/2012   \n",
       "3                135000        360       2012-02-01            04/2012   \n",
       "4                124000        360       2012-02-01            04/2012   \n",
       "\n",
       "   loan_to_value  number_of_borrowers ...   m4  m5 m6  m7  m8  m9  m10  m11  \\\n",
       "0             95                  1.0 ...    0   0  0   1   0   0    0    0   \n",
       "1             72                  1.0 ...    0   0  0   0   0   0    0    1   \n",
       "2             49                  1.0 ...    0   0  0   0   0   0    0    0   \n",
       "3             46                  2.0 ...    0   0  0   0   0   1    1    1   \n",
       "4             80                  1.0 ...    3   4  5   6   7   8    9   10   \n",
       "\n",
       "   m12  m13  \n",
       "0    0    1  \n",
       "1    0    1  \n",
       "2    0    1  \n",
       "3    1    1  \n",
       "4   11    1  \n",
       "\n",
       "[5 rows x 29 columns]"
      ]
     },
     "execution_count": 7,
     "metadata": {},
     "output_type": "execute_result"
    }
   ],
   "source": [
    "data.head()"
   ]
  },
  {
   "cell_type": "code",
   "execution_count": 8,
   "metadata": {},
   "outputs": [
    {
     "data": {
      "text/html": [
       "<div>\n",
       "<style scoped>\n",
       "    .dataframe tbody tr th:only-of-type {\n",
       "        vertical-align: middle;\n",
       "    }\n",
       "\n",
       "    .dataframe tbody tr th {\n",
       "        vertical-align: top;\n",
       "    }\n",
       "\n",
       "    .dataframe thead th {\n",
       "        text-align: right;\n",
       "    }\n",
       "</style>\n",
       "<table border=\"1\" class=\"dataframe\">\n",
       "  <thead>\n",
       "    <tr style=\"text-align: right;\">\n",
       "      <th></th>\n",
       "      <th>loan_id</th>\n",
       "      <th>source</th>\n",
       "      <th>financial_institution</th>\n",
       "      <th>interest_rate</th>\n",
       "      <th>unpaid_principal_bal</th>\n",
       "      <th>loan_term</th>\n",
       "      <th>origination_date</th>\n",
       "      <th>first_payment_date</th>\n",
       "      <th>loan_to_value</th>\n",
       "      <th>number_of_borrowers</th>\n",
       "      <th>...</th>\n",
       "      <th>m3</th>\n",
       "      <th>m4</th>\n",
       "      <th>m5</th>\n",
       "      <th>m6</th>\n",
       "      <th>m7</th>\n",
       "      <th>m8</th>\n",
       "      <th>m9</th>\n",
       "      <th>m10</th>\n",
       "      <th>m11</th>\n",
       "      <th>m12</th>\n",
       "    </tr>\n",
       "  </thead>\n",
       "  <tbody>\n",
       "    <tr>\n",
       "      <th>0</th>\n",
       "      <td>1</td>\n",
       "      <td>Y</td>\n",
       "      <td>Browning-Hart</td>\n",
       "      <td>3.875</td>\n",
       "      <td>417000</td>\n",
       "      <td>360</td>\n",
       "      <td>01/02/12</td>\n",
       "      <td>Apr-12</td>\n",
       "      <td>75</td>\n",
       "      <td>1</td>\n",
       "      <td>...</td>\n",
       "      <td>0</td>\n",
       "      <td>0</td>\n",
       "      <td>0</td>\n",
       "      <td>0</td>\n",
       "      <td>0</td>\n",
       "      <td>0</td>\n",
       "      <td>0</td>\n",
       "      <td>0</td>\n",
       "      <td>0</td>\n",
       "      <td>0</td>\n",
       "    </tr>\n",
       "    <tr>\n",
       "      <th>1</th>\n",
       "      <td>2</td>\n",
       "      <td>X</td>\n",
       "      <td>OTHER</td>\n",
       "      <td>4.500</td>\n",
       "      <td>113000</td>\n",
       "      <td>360</td>\n",
       "      <td>01/02/12</td>\n",
       "      <td>Apr-12</td>\n",
       "      <td>80</td>\n",
       "      <td>2</td>\n",
       "      <td>...</td>\n",
       "      <td>0</td>\n",
       "      <td>0</td>\n",
       "      <td>0</td>\n",
       "      <td>0</td>\n",
       "      <td>0</td>\n",
       "      <td>0</td>\n",
       "      <td>0</td>\n",
       "      <td>0</td>\n",
       "      <td>0</td>\n",
       "      <td>0</td>\n",
       "    </tr>\n",
       "    <tr>\n",
       "      <th>2</th>\n",
       "      <td>3</td>\n",
       "      <td>Y</td>\n",
       "      <td>OTHER</td>\n",
       "      <td>4.500</td>\n",
       "      <td>72000</td>\n",
       "      <td>360</td>\n",
       "      <td>01/01/12</td>\n",
       "      <td>Mar-12</td>\n",
       "      <td>75</td>\n",
       "      <td>1</td>\n",
       "      <td>...</td>\n",
       "      <td>0</td>\n",
       "      <td>0</td>\n",
       "      <td>0</td>\n",
       "      <td>0</td>\n",
       "      <td>0</td>\n",
       "      <td>0</td>\n",
       "      <td>0</td>\n",
       "      <td>0</td>\n",
       "      <td>0</td>\n",
       "      <td>0</td>\n",
       "    </tr>\n",
       "    <tr>\n",
       "      <th>3</th>\n",
       "      <td>4</td>\n",
       "      <td>X</td>\n",
       "      <td>Miller, Mcclure and Allen</td>\n",
       "      <td>4.125</td>\n",
       "      <td>123000</td>\n",
       "      <td>180</td>\n",
       "      <td>01/02/12</td>\n",
       "      <td>Apr-12</td>\n",
       "      <td>41</td>\n",
       "      <td>2</td>\n",
       "      <td>...</td>\n",
       "      <td>0</td>\n",
       "      <td>0</td>\n",
       "      <td>0</td>\n",
       "      <td>0</td>\n",
       "      <td>0</td>\n",
       "      <td>0</td>\n",
       "      <td>0</td>\n",
       "      <td>0</td>\n",
       "      <td>0</td>\n",
       "      <td>0</td>\n",
       "    </tr>\n",
       "    <tr>\n",
       "      <th>4</th>\n",
       "      <td>5</td>\n",
       "      <td>X</td>\n",
       "      <td>Browning-Hart</td>\n",
       "      <td>3.250</td>\n",
       "      <td>166000</td>\n",
       "      <td>180</td>\n",
       "      <td>01/02/12</td>\n",
       "      <td>Apr-12</td>\n",
       "      <td>53</td>\n",
       "      <td>2</td>\n",
       "      <td>...</td>\n",
       "      <td>0</td>\n",
       "      <td>0</td>\n",
       "      <td>0</td>\n",
       "      <td>0</td>\n",
       "      <td>0</td>\n",
       "      <td>0</td>\n",
       "      <td>0</td>\n",
       "      <td>0</td>\n",
       "      <td>0</td>\n",
       "      <td>0</td>\n",
       "    </tr>\n",
       "  </tbody>\n",
       "</table>\n",
       "<p>5 rows × 28 columns</p>\n",
       "</div>"
      ],
      "text/plain": [
       "   loan_id source      financial_institution  interest_rate  \\\n",
       "0        1      Y              Browning-Hart          3.875   \n",
       "1        2      X                      OTHER          4.500   \n",
       "2        3      Y                      OTHER          4.500   \n",
       "3        4      X  Miller, Mcclure and Allen          4.125   \n",
       "4        5      X              Browning-Hart          3.250   \n",
       "\n",
       "   unpaid_principal_bal  loan_term origination_date first_payment_date  \\\n",
       "0                417000        360         01/02/12             Apr-12   \n",
       "1                113000        360         01/02/12             Apr-12   \n",
       "2                 72000        360         01/01/12             Mar-12   \n",
       "3                123000        180         01/02/12             Apr-12   \n",
       "4                166000        180         01/02/12             Apr-12   \n",
       "\n",
       "   loan_to_value  number_of_borrowers ...   m3  m4 m5  m6  m7  m8  m9  m10  \\\n",
       "0             75                    1 ...    0   0  0   0   0   0   0    0   \n",
       "1             80                    2 ...    0   0  0   0   0   0   0    0   \n",
       "2             75                    1 ...    0   0  0   0   0   0   0    0   \n",
       "3             41                    2 ...    0   0  0   0   0   0   0    0   \n",
       "4             53                    2 ...    0   0  0   0   0   0   0    0   \n",
       "\n",
       "   m11  m12  \n",
       "0    0    0  \n",
       "1    0    0  \n",
       "2    0    0  \n",
       "3    0    0  \n",
       "4    0    0  \n",
       "\n",
       "[5 rows x 28 columns]"
      ]
     },
     "execution_count": 8,
     "metadata": {},
     "output_type": "execute_result"
    }
   ],
   "source": [
    "test_data.head()"
   ]
  },
  {
   "cell_type": "markdown",
   "metadata": {},
   "source": [
    "# Converting categorical variables to one-hot encoding and creating summary delinquency variables"
   ]
  },
  {
   "cell_type": "code",
   "execution_count": 7,
   "metadata": {},
   "outputs": [],
   "source": [
    "test_data[\"m13\"] = -1\n",
    "data[\"train_flag\"] = 1\n",
    "test_data[\"train_flag\"] = 0\n",
    "\n",
    "full_data = pd.concat([data, test_data])"
   ]
  },
  {
   "cell_type": "code",
   "execution_count": 8,
   "metadata": {},
   "outputs": [],
   "source": [
    "full_data = pd.get_dummies(full_data, columns=cat_vars, drop_first=True)"
   ]
  },
  {
   "cell_type": "code",
   "execution_count": 9,
   "metadata": {},
   "outputs": [],
   "source": [
    "data = full_data[full_data[\"train_flag\"]==1]\n",
    "test_data = full_data[full_data[\"train_flag\"]==0]\n",
    "data = data.drop(columns=[\"train_flag\"])\n",
    "test_data = test_data.drop(columns=[\"m13\", \"train_flag\"])"
   ]
  },
  {
   "cell_type": "code",
   "execution_count": 10,
   "metadata": {},
   "outputs": [],
   "source": [
    "data[\"total_delinquencies\"] = data[[\"m\"+ str(i) for i in range(1,12)]].sum(axis=1)\n",
    "test_data[\"total_delinquencies\"] = test_data[[\"m\"+ str(i) for i in range(1,12)]].sum(axis=1)\n",
    "\n",
    "data[\"max_delinquencies\"] = data[[\"m\"+ str(i) for i in range(1,12)]].max(axis=1)\n",
    "test_data[\"max_delinquencies\"] = test_data[[\"m\"+ str(i) for i in range(1,12)]].max(axis=1)\n",
    "\n",
    "data[\"delinquency_cnt\"] = data[[\"m\"+ str(i) for i in range(1,12)]].apply(lambda x:x.astype(bool), axis=1).sum(axis=1)\n",
    "test_data[\"delinquency_cnt\"] = test_data[[\"m\"+ str(i) for i in range(1,12)]].apply(lambda x:x.astype(bool), axis=1).sum(axis=1)"
   ]
  },
  {
   "cell_type": "markdown",
   "metadata": {},
   "source": [
    "# Feature Exploration"
   ]
  },
  {
   "cell_type": "code",
   "execution_count": 4,
   "metadata": {},
   "outputs": [],
   "source": [
    "def value_counts(df, col_name):\n",
    "    df1 = pd.DataFrame(df[col_name].value_counts())\n",
    "    df2 = pd.DataFrame(df[col_name].value_counts(normalize=True))\n",
    "    return df1.join(df2, rsuffix=\"_z\")"
   ]
  },
  {
   "cell_type": "code",
   "execution_count": 5,
   "metadata": {},
   "outputs": [
    {
     "name": "stdout",
     "output_type": "stream",
     "text": [
      "source\n",
      "   source  source_z\n",
      "X   63858  0.550225\n",
      "Y   37554  0.323580\n",
      "Z   14646  0.126196\n",
      "m13            0         1\n",
      "source                    \n",
      "X       0.995224  0.004776\n",
      "Y       0.993423  0.006577\n",
      "Z       0.994265  0.005735\n",
      "\n",
      "Test\n",
      "   source  source_z\n",
      "X   19714  0.549657\n",
      "Y   11653  0.324904\n",
      "Z    4499  0.125439\n",
      "\n",
      "\n",
      "financial_institution\n",
      "                             financial_institution  financial_institution_z\n",
      "OTHER                                        49699                 0.428226\n",
      "Browning-Hart                                31852                 0.274449\n",
      "Swanson, Newton and Miller                    6874                 0.059229\n",
      "Edwards-Hoffman                               4857                 0.041850\n",
      "Martinez, Duffy and Bird                      4715                 0.040626\n",
      "Miller, Mcclure and Allen                     3158                 0.027211\n",
      "Nicholson Group                               2116                 0.018232\n",
      "Turner, Baldwin and Rhodes                    1846                 0.015906\n",
      "Suarez Inc                                    1790                 0.015423\n",
      "Cole, Brooks and Vincent                      1642                 0.014148\n",
      "Richards-Walters                              1459                 0.012571\n",
      "Taylor, Hunt and Rodriguez                    1259                 0.010848\n",
      "Sanchez-Robinson                              1193                 0.010279\n",
      "Sanchez, Hays and Wilkerson                    853                 0.007350\n",
      "Romero, Woods and Johnson                      750                 0.006462\n",
      "Thornton-Davis                                 651                 0.005609\n",
      "Anderson-Taylor                                483                 0.004162\n",
      "Richardson Ltd                                 473                 0.004076\n",
      "Chapman-Mcmahon                                388                 0.003343\n",
      "m13                                 0         1\n",
      "financial_institution                          \n",
      "Anderson-Taylor              0.993789  0.006211\n",
      "Browning-Hart                0.994506  0.005494\n",
      "Chapman-Mcmahon              1.000000  0.000000\n",
      "Cole, Brooks and Vincent     0.992692  0.007308\n",
      "Edwards-Hoffman              0.991559  0.008441\n",
      "Martinez, Duffy and Bird     0.995122  0.004878\n",
      "Miller, Mcclure and Allen    0.993984  0.006016\n",
      "Nicholson Group              0.994802  0.005198\n",
      "OTHER                        0.994587  0.005413\n",
      "Richards-Walters             0.996573  0.003427\n",
      "Richardson Ltd               0.997886  0.002114\n",
      "Romero, Woods and Johnson    0.997333  0.002667\n",
      "Sanchez, Hays and Wilkerson  0.997655  0.002345\n",
      "Sanchez-Robinson             0.999162  0.000838\n",
      "Suarez Inc                   0.997207  0.002793\n",
      "Swanson, Newton and Miller   0.993308  0.006692\n",
      "Taylor, Hunt and Rodriguez   0.996823  0.003177\n",
      "Thornton-Davis               0.995392  0.004608\n",
      "Turner, Baldwin and Rhodes   0.992416  0.007584\n",
      "\n",
      "Test\n",
      "                             financial_institution  financial_institution_z\n",
      "OTHER                                        15162                 0.422740\n",
      "Browning-Hart                                10078                 0.280990\n",
      "Swanson, Newton and Miller                    2095                 0.058412\n",
      "Edwards-Hoffman                               1530                 0.042659\n",
      "Martinez, Duffy and Bird                      1448                 0.040372\n",
      "Miller, Mcclure and Allen                      912                 0.025428\n",
      "Nicholson Group                                596                 0.016617\n",
      "Suarez Inc                                     586                 0.016339\n",
      "Turner, Baldwin and Rhodes                     542                 0.015112\n",
      "Cole, Brooks and Vincent                       492                 0.013718\n",
      "Richards-Walters                               462                 0.012881\n",
      "Taylor, Hunt and Rodriguez                     397                 0.011069\n",
      "Sanchez-Robinson                               384                 0.010707\n",
      "Sanchez, Hays and Wilkerson                    289                 0.008058\n",
      "Romero, Woods and Johnson                      241                 0.006719\n",
      "Thornton-Davis                                 216                 0.006022\n",
      "Richardson Ltd                                 170                 0.004740\n",
      "Anderson-Taylor                                152                 0.004238\n",
      "Chapman-Mcmahon                                114                 0.003178\n",
      "\n",
      "\n",
      "origination_date\n",
      "            origination_date  origination_date_z\n",
      "2012-02-01             52334            0.450930\n",
      "2012-01-01             49093            0.423004\n",
      "2012-03-01             14631            0.126066\n",
      "m13                      0         1\n",
      "origination_date                    \n",
      "2012-01-01        0.993808  0.006192\n",
      "2012-02-01        0.994669  0.005331\n",
      "2012-03-01        0.996378  0.003622\n",
      "\n",
      "Test\n",
      "          origination_date  origination_date_z\n",
      "01/02/12             16423            0.457899\n",
      "01/01/12             15051            0.419645\n",
      "01/03/12              4392            0.122456\n",
      "\n",
      "\n",
      "first_payment_date\n",
      "         first_payment_date  first_payment_date_z\n",
      "04/2012               52840              0.455290\n",
      "03/2012               47680              0.410829\n",
      "05/2012               15014              0.129366\n",
      "02/2012                 524              0.004515\n",
      "m13                        0         1\n",
      "first_payment_date                    \n",
      "02/2012             0.988550  0.011450\n",
      "03/2012             0.993792  0.006208\n",
      "04/2012             0.994701  0.005299\n",
      "05/2012             0.996403  0.003597\n",
      "\n",
      "Test\n",
      "        first_payment_date  first_payment_date_z\n",
      "Apr-12               16551              0.461468\n",
      "Mar-12               14661              0.408772\n",
      "May-12                4510              0.125746\n",
      "Feb-12                 144              0.004015\n",
      "\n",
      "\n",
      "loan_purpose\n",
      "     loan_purpose  loan_purpose_z\n",
      "A23         58462        0.503731\n",
      "B12         29383        0.253175\n",
      "C86         28213        0.243094\n",
      "m13                  0         1\n",
      "loan_purpose                    \n",
      "A23           0.996391  0.003609\n",
      "B12           0.992547  0.007453\n",
      "C86           0.992698  0.007302\n",
      "\n",
      "Test\n",
      "     loan_purpose  loan_purpose_z\n",
      "A23         17892        0.498857\n",
      "B12          9197        0.256427\n",
      "C86          8777        0.244716\n",
      "\n",
      "\n"
     ]
    }
   ],
   "source": [
    "for n, col in enumerate(list(data)):\n",
    "    if data.dtypes[n]==\"O\":\n",
    "        print(col)\n",
    "        print(value_counts(data, col))\n",
    "        print(pd.crosstab(data[col], data[\"m13\"], normalize=\"index\"))\n",
    "        print(\"\\nTest\")\n",
    "        print(value_counts(test_data, col))\n",
    "        print(\"\\n\")"
   ]
  },
  {
   "cell_type": "code",
   "execution_count": 11,
   "metadata": {},
   "outputs": [
    {
     "data": {
      "text/html": [
       "<div>\n",
       "<style scoped>\n",
       "    .dataframe tbody tr th:only-of-type {\n",
       "        vertical-align: middle;\n",
       "    }\n",
       "\n",
       "    .dataframe tbody tr th {\n",
       "        vertical-align: top;\n",
       "    }\n",
       "\n",
       "    .dataframe thead th {\n",
       "        text-align: right;\n",
       "    }\n",
       "</style>\n",
       "<table border=\"1\" class=\"dataframe\">\n",
       "  <thead>\n",
       "    <tr style=\"text-align: right;\">\n",
       "      <th>m13</th>\n",
       "      <th>0</th>\n",
       "      <th>1</th>\n",
       "    </tr>\n",
       "    <tr>\n",
       "      <th>number_of_borrowers</th>\n",
       "      <th></th>\n",
       "      <th></th>\n",
       "    </tr>\n",
       "  </thead>\n",
       "  <tbody>\n",
       "    <tr>\n",
       "      <th>1.0</th>\n",
       "      <td>0.990956</td>\n",
       "      <td>0.009044</td>\n",
       "    </tr>\n",
       "    <tr>\n",
       "      <th>2.0</th>\n",
       "      <td>0.996964</td>\n",
       "      <td>0.003036</td>\n",
       "    </tr>\n",
       "  </tbody>\n",
       "</table>\n",
       "</div>"
      ],
      "text/plain": [
       "m13                         0         1\n",
       "number_of_borrowers                    \n",
       "1.0                  0.990956  0.009044\n",
       "2.0                  0.996964  0.003036"
      ]
     },
     "execution_count": 11,
     "metadata": {},
     "output_type": "execute_result"
    }
   ],
   "source": [
    "pd.crosstab(data[\"number_of_borrowers\"], data[\"m13\"], normalize=\"index\")"
   ]
  },
  {
   "cell_type": "markdown",
   "metadata": {},
   "source": [
    "## Pair-wise distribution observations from categorical features:\n",
    "From the previous cross-tab tables, we can see that the following features seem to have some relation with the delinquency chances:\n",
    "1. Insurance type\n",
    "2. Loan purpose\n",
    "3. First payment date (Feb 2012 has higher risk even though support is much smaller)\n",
    "4. If there are two borrowers, the risk goes down to 1/3rd"
   ]
  },
  {
   "cell_type": "code",
   "execution_count": 6,
   "metadata": {},
   "outputs": [],
   "source": [
    "def scatter_with_labels(df, col1, col2, label_col):\n",
    "    colors = np.array(['#377eb8', '#ff7f00'])\n",
    "    plt.scatter(df[col1], df[col2] , alpha=0.5, c=colors[df[label_col]])\n",
    "    plt.xlabel(col1)\n",
    "    plt.ylabel(col2)"
   ]
  },
  {
   "cell_type": "code",
   "execution_count": 64,
   "metadata": {},
   "outputs": [
    {
     "data": {
      "image/png": "[encoded data removed]",
      "text/plain": [
       "<Figure size 432x288 with 1 Axes>"
      ]
     },
     "metadata": {
      "needs_background": "light"
     },
     "output_type": "display_data"
    }
   ],
   "source": [
    "scatter_with_labels(data, \"interest_rate\", \"unpaid_principal_bal\", \"m13\")"
   ]
  },
  {
   "cell_type": "code",
   "execution_count": 65,
   "metadata": {},
   "outputs": [
    {
     "data": {
      "image/png": "[encoded data removed]",
      "text/plain": [
       "<Figure size 432x288 with 1 Axes>"
      ]
     },
     "metadata": {
      "needs_background": "light"
     },
     "output_type": "display_data"
    }
   ],
   "source": [
    "scatter_with_labels(data, \"interest_rate\", \"loan_term\", \"m13\")"
   ]
  },
  {
   "cell_type": "code",
   "execution_count": 66,
   "metadata": {},
   "outputs": [
    {
     "data": {
      "text/plain": [
       "['loan_id',\n",
       " 'source',\n",
       " 'financial_institution',\n",
       " 'interest_rate',\n",
       " 'unpaid_principal_bal',\n",
       " 'loan_term',\n",
       " 'origination_date',\n",
       " 'first_payment_date',\n",
       " 'loan_to_value',\n",
       " 'number_of_borrowers',\n",
       " 'debt_to_income_ratio',\n",
       " 'borrower_credit_score',\n",
       " 'loan_purpose',\n",
       " 'insurance_percent',\n",
       " 'co-borrower_credit_score',\n",
       " 'insurance_type',\n",
       " 'm1',\n",
       " 'm2',\n",
       " 'm3',\n",
       " 'm4',\n",
       " 'm5',\n",
       " 'm6',\n",
       " 'm7',\n",
       " 'm8',\n",
       " 'm9',\n",
       " 'm10',\n",
       " 'm11',\n",
       " 'm12',\n",
       " 'm13']"
      ]
     },
     "execution_count": 66,
     "metadata": {},
     "output_type": "execute_result"
    }
   ],
   "source": [
    "list(data)"
   ]
  },
  {
   "cell_type": "code",
   "execution_count": 68,
   "metadata": {},
   "outputs": [
    {
     "data": {
      "image/png": "[encoded data removed]",
      "text/plain": [
       "<Figure size 432x288 with 1 Axes>"
      ]
     },
     "metadata": {
      "needs_background": "light"
     },
     "output_type": "display_data"
    }
   ],
   "source": [
    "scatter_with_labels(data, \"borrower_credit_score\", \"unpaid_principal_bal\", \"m13\")"
   ]
  },
  {
   "cell_type": "code",
   "execution_count": 71,
   "metadata": {},
   "outputs": [
    {
     "data": {
      "image/png": "[encoded data removed]",
      "text/plain": [
       "<Figure size 432x288 with 1 Axes>"
      ]
     },
     "metadata": {
      "needs_background": "light"
     },
     "output_type": "display_data"
    }
   ],
   "source": [
    "scatter_with_labels(data, \"insurance_percent\", \"co-borrower_credit_score\", \"m13\")"
   ]
  },
  {
   "cell_type": "code",
   "execution_count": 11,
   "metadata": {},
   "outputs": [
    {
     "name": "stdout",
     "output_type": "stream",
     "text": [
      "m13         0         1\n",
      "m12                    \n",
      "0    0.997092  0.002908\n",
      "1    0.530055  0.469945\n",
      "2    0.085106  0.914894\n",
      "3    0.000000  1.000000\n",
      "4    0.066667  0.933333\n",
      "5    0.000000  1.000000\n",
      "6    0.071429  0.928571\n",
      "7    0.142857  0.857143\n",
      "8    0.000000  1.000000\n",
      "9    0.000000  1.000000\n",
      "10   0.000000  1.000000\n",
      "11   0.000000  1.000000\n",
      "14   0.000000  1.000000\n"
     ]
    }
   ],
   "source": [
    "print(pd.crosstab(data[\"m12\"], data[\"m13\"], normalize=\"index\"))\n",
    "\n",
    "#scatter_with_labels(data, \"delinquency_cnt\", \"max_delinquencies\", \"m13\")"
   ]
  },
  {
   "cell_type": "code",
   "execution_count": 14,
   "metadata": {},
   "outputs": [
    {
     "data": {
      "image/png": "[encoded data removed]",
      "text/plain": [
       "<Figure size 432x288 with 1 Axes>"
      ]
     },
     "metadata": {
      "needs_background": "light"
     },
     "output_type": "display_data"
    }
   ],
   "source": [
    "scatter_with_labels(data, \"delinquency_cnt\", \"max_delinquencies\", \"m13\")"
   ]
  },
  {
   "cell_type": "code",
   "execution_count": 16,
   "metadata": {},
   "outputs": [
    {
     "data": {
      "image/png": "[encoded data removed]",
      "text/plain": [
       "<Figure size 432x288 with 1 Axes>"
      ]
     },
     "metadata": {
      "needs_background": "light"
     },
     "output_type": "display_data"
    }
   ],
   "source": [
    "scatter_with_labels(data, \"m11\", \"m12\", \"m13\")"
   ]
  },
  {
   "cell_type": "code",
   "execution_count": 86,
   "metadata": {},
   "outputs": [
    {
     "data": {
      "image/png": "[encoded data removed]",
      "text/plain": [
       "<Figure size 432x288 with 1 Axes>"
      ]
     },
     "metadata": {
      "needs_background": "light"
     },
     "output_type": "display_data"
    }
   ],
   "source": [
    "scatter_with_labels(data, \"borrower_credit_score\", \"delinquency_cnt\", \"m13\")"
   ]
  },
  {
   "cell_type": "code",
   "execution_count": 87,
   "metadata": {},
   "outputs": [
    {
     "data": {
      "image/png": "[encoded data removed]",
      "text/plain": [
       "<Figure size 432x288 with 1 Axes>"
      ]
     },
     "metadata": {
      "needs_background": "light"
     },
     "output_type": "display_data"
    }
   ],
   "source": [
    "scatter_with_labels(data, \"borrower_credit_score\", \"max_delinquencies\", \"m13\")"
   ]
  },
  {
   "cell_type": "code",
   "execution_count": 120,
   "metadata": {},
   "outputs": [
    {
     "data": {
      "text/html": [
       "<div>\n",
       "<style scoped>\n",
       "    .dataframe tbody tr th:only-of-type {\n",
       "        vertical-align: middle;\n",
       "    }\n",
       "\n",
       "    .dataframe tbody tr th {\n",
       "        vertical-align: top;\n",
       "    }\n",
       "\n",
       "    .dataframe thead th {\n",
       "        text-align: right;\n",
       "    }\n",
       "</style>\n",
       "<table border=\"1\" class=\"dataframe\">\n",
       "  <thead>\n",
       "    <tr style=\"text-align: right;\">\n",
       "      <th></th>\n",
       "      <th>loan_id</th>\n",
       "      <th>source</th>\n",
       "      <th>financial_institution</th>\n",
       "      <th>interest_rate</th>\n",
       "      <th>unpaid_principal_bal</th>\n",
       "      <th>loan_term</th>\n",
       "      <th>origination_date</th>\n",
       "      <th>first_payment_date</th>\n",
       "      <th>loan_to_value</th>\n",
       "      <th>number_of_borrowers</th>\n",
       "      <th>...</th>\n",
       "      <th>m7</th>\n",
       "      <th>m8</th>\n",
       "      <th>m9</th>\n",
       "      <th>m10</th>\n",
       "      <th>m11</th>\n",
       "      <th>m12</th>\n",
       "      <th>total_delinquencies</th>\n",
       "      <th>max_delinquencies</th>\n",
       "      <th>delinquency_cnt</th>\n",
       "      <th>train_flag</th>\n",
       "    </tr>\n",
       "  </thead>\n",
       "  <tbody>\n",
       "    <tr>\n",
       "      <th>0</th>\n",
       "      <td>268055008619</td>\n",
       "      <td>Z</td>\n",
       "      <td>Turner, Baldwin and Rhodes</td>\n",
       "      <td>4.250</td>\n",
       "      <td>214000</td>\n",
       "      <td>360</td>\n",
       "      <td>2012-03-01</td>\n",
       "      <td>05/2012</td>\n",
       "      <td>95</td>\n",
       "      <td>1.0</td>\n",
       "      <td>...</td>\n",
       "      <td>1</td>\n",
       "      <td>0</td>\n",
       "      <td>0</td>\n",
       "      <td>0</td>\n",
       "      <td>0</td>\n",
       "      <td>0</td>\n",
       "      <td>1</td>\n",
       "      <td>1</td>\n",
       "      <td>1</td>\n",
       "      <td>1</td>\n",
       "    </tr>\n",
       "    <tr>\n",
       "      <th>1</th>\n",
       "      <td>672831657627</td>\n",
       "      <td>Y</td>\n",
       "      <td>Swanson, Newton and Miller</td>\n",
       "      <td>4.875</td>\n",
       "      <td>144000</td>\n",
       "      <td>360</td>\n",
       "      <td>2012-01-01</td>\n",
       "      <td>03/2012</td>\n",
       "      <td>72</td>\n",
       "      <td>1.0</td>\n",
       "      <td>...</td>\n",
       "      <td>0</td>\n",
       "      <td>0</td>\n",
       "      <td>0</td>\n",
       "      <td>0</td>\n",
       "      <td>1</td>\n",
       "      <td>0</td>\n",
       "      <td>1</td>\n",
       "      <td>1</td>\n",
       "      <td>1</td>\n",
       "      <td>1</td>\n",
       "    </tr>\n",
       "    <tr>\n",
       "      <th>2</th>\n",
       "      <td>742515242108</td>\n",
       "      <td>Z</td>\n",
       "      <td>Thornton-Davis</td>\n",
       "      <td>3.250</td>\n",
       "      <td>366000</td>\n",
       "      <td>180</td>\n",
       "      <td>2012-01-01</td>\n",
       "      <td>03/2012</td>\n",
       "      <td>49</td>\n",
       "      <td>1.0</td>\n",
       "      <td>...</td>\n",
       "      <td>0</td>\n",
       "      <td>0</td>\n",
       "      <td>0</td>\n",
       "      <td>0</td>\n",
       "      <td>0</td>\n",
       "      <td>0</td>\n",
       "      <td>0</td>\n",
       "      <td>0</td>\n",
       "      <td>0</td>\n",
       "      <td>1</td>\n",
       "    </tr>\n",
       "    <tr>\n",
       "      <th>3</th>\n",
       "      <td>601385667462</td>\n",
       "      <td>X</td>\n",
       "      <td>OTHER</td>\n",
       "      <td>4.750</td>\n",
       "      <td>135000</td>\n",
       "      <td>360</td>\n",
       "      <td>2012-02-01</td>\n",
       "      <td>04/2012</td>\n",
       "      <td>46</td>\n",
       "      <td>2.0</td>\n",
       "      <td>...</td>\n",
       "      <td>0</td>\n",
       "      <td>0</td>\n",
       "      <td>1</td>\n",
       "      <td>1</td>\n",
       "      <td>1</td>\n",
       "      <td>1</td>\n",
       "      <td>3</td>\n",
       "      <td>1</td>\n",
       "      <td>3</td>\n",
       "      <td>1</td>\n",
       "    </tr>\n",
       "    <tr>\n",
       "      <th>4</th>\n",
       "      <td>273870029961</td>\n",
       "      <td>X</td>\n",
       "      <td>OTHER</td>\n",
       "      <td>4.750</td>\n",
       "      <td>124000</td>\n",
       "      <td>360</td>\n",
       "      <td>2012-02-01</td>\n",
       "      <td>04/2012</td>\n",
       "      <td>80</td>\n",
       "      <td>1.0</td>\n",
       "      <td>...</td>\n",
       "      <td>6</td>\n",
       "      <td>7</td>\n",
       "      <td>8</td>\n",
       "      <td>9</td>\n",
       "      <td>10</td>\n",
       "      <td>11</td>\n",
       "      <td>55</td>\n",
       "      <td>10</td>\n",
       "      <td>10</td>\n",
       "      <td>1</td>\n",
       "    </tr>\n",
       "  </tbody>\n",
       "</table>\n",
       "<p>5 rows × 32 columns</p>\n",
       "</div>"
      ],
      "text/plain": [
       "        loan_id source       financial_institution  interest_rate  \\\n",
       "0  268055008619      Z  Turner, Baldwin and Rhodes          4.250   \n",
       "1  672831657627      Y  Swanson, Newton and Miller          4.875   \n",
       "2  742515242108      Z              Thornton-Davis          3.250   \n",
       "3  601385667462      X                       OTHER          4.750   \n",
       "4  273870029961      X                       OTHER          4.750   \n",
       "\n",
       "   unpaid_principal_bal  loan_term origination_date first_payment_date  \\\n",
       "0                214000        360       2012-03-01            05/2012   \n",
       "1                144000        360       2012-01-01            03/2012   \n",
       "2                366000        180       2012-01-01            03/2012   \n",
       "3                135000        360       2012-02-01            04/2012   \n",
       "4                124000        360       2012-02-01            04/2012   \n",
       "\n",
       "   loan_to_value  number_of_borrowers     ...      m7  m8 m9  m10  m11  m12  \\\n",
       "0             95                  1.0     ...       1   0  0    0    0    0   \n",
       "1             72                  1.0     ...       0   0  0    0    1    0   \n",
       "2             49                  1.0     ...       0   0  0    0    0    0   \n",
       "3             46                  2.0     ...       0   0  1    1    1    1   \n",
       "4             80                  1.0     ...       6   7  8    9   10   11   \n",
       "\n",
       "   total_delinquencies  max_delinquencies  delinquency_cnt  train_flag  \n",
       "0                    1                  1                1           1  \n",
       "1                    1                  1                1           1  \n",
       "2                    0                  0                0           1  \n",
       "3                    3                  1                3           1  \n",
       "4                   55                 10               10           1  \n",
       "\n",
       "[5 rows x 32 columns]"
      ]
     },
     "execution_count": 120,
     "metadata": {},
     "output_type": "execute_result"
    }
   ],
   "source": [
    "full_data.head()"
   ]
  },
  {
   "cell_type": "code",
   "execution_count": 14,
   "metadata": {},
   "outputs": [
    {
     "data": {
      "text/plain": [
       "0    115422\n",
       "1       636\n",
       "Name: m13, dtype: int64"
      ]
     },
     "execution_count": 14,
     "metadata": {},
     "output_type": "execute_result"
    }
   ],
   "source": [
    "data[\"m13\"].value_counts()"
   ]
  },
  {
   "cell_type": "code",
   "execution_count": 19,
   "metadata": {},
   "outputs": [
    {
     "data": {
      "text/html": [
       "<div>\n",
       "<style scoped>\n",
       "    .dataframe tbody tr th:only-of-type {\n",
       "        vertical-align: middle;\n",
       "    }\n",
       "\n",
       "    .dataframe tbody tr th {\n",
       "        vertical-align: top;\n",
       "    }\n",
       "\n",
       "    .dataframe thead th {\n",
       "        text-align: right;\n",
       "    }\n",
       "</style>\n",
       "<table border=\"1\" class=\"dataframe\">\n",
       "  <thead>\n",
       "    <tr style=\"text-align: right;\">\n",
       "      <th>m13</th>\n",
       "      <th>0</th>\n",
       "      <th>1</th>\n",
       "    </tr>\n",
       "    <tr>\n",
       "      <th>m12</th>\n",
       "      <th></th>\n",
       "      <th></th>\n",
       "    </tr>\n",
       "  </thead>\n",
       "  <tbody>\n",
       "    <tr>\n",
       "      <th>0</th>\n",
       "      <td>115221</td>\n",
       "      <td>336</td>\n",
       "    </tr>\n",
       "    <tr>\n",
       "      <th>1</th>\n",
       "      <td>194</td>\n",
       "      <td>172</td>\n",
       "    </tr>\n",
       "    <tr>\n",
       "      <th>2</th>\n",
       "      <td>4</td>\n",
       "      <td>43</td>\n",
       "    </tr>\n",
       "    <tr>\n",
       "      <th>3</th>\n",
       "      <td>0</td>\n",
       "      <td>28</td>\n",
       "    </tr>\n",
       "    <tr>\n",
       "      <th>4</th>\n",
       "      <td>1</td>\n",
       "      <td>14</td>\n",
       "    </tr>\n",
       "    <tr>\n",
       "      <th>5</th>\n",
       "      <td>0</td>\n",
       "      <td>7</td>\n",
       "    </tr>\n",
       "    <tr>\n",
       "      <th>6</th>\n",
       "      <td>1</td>\n",
       "      <td>13</td>\n",
       "    </tr>\n",
       "    <tr>\n",
       "      <th>7</th>\n",
       "      <td>1</td>\n",
       "      <td>6</td>\n",
       "    </tr>\n",
       "    <tr>\n",
       "      <th>8</th>\n",
       "      <td>0</td>\n",
       "      <td>5</td>\n",
       "    </tr>\n",
       "    <tr>\n",
       "      <th>9</th>\n",
       "      <td>0</td>\n",
       "      <td>3</td>\n",
       "    </tr>\n",
       "    <tr>\n",
       "      <th>10</th>\n",
       "      <td>0</td>\n",
       "      <td>5</td>\n",
       "    </tr>\n",
       "    <tr>\n",
       "      <th>11</th>\n",
       "      <td>0</td>\n",
       "      <td>3</td>\n",
       "    </tr>\n",
       "    <tr>\n",
       "      <th>14</th>\n",
       "      <td>0</td>\n",
       "      <td>1</td>\n",
       "    </tr>\n",
       "  </tbody>\n",
       "</table>\n",
       "</div>"
      ],
      "text/plain": [
       "m13       0    1\n",
       "m12             \n",
       "0    115221  336\n",
       "1       194  172\n",
       "2         4   43\n",
       "3         0   28\n",
       "4         1   14\n",
       "5         0    7\n",
       "6         1   13\n",
       "7         1    6\n",
       "8         0    5\n",
       "9         0    3\n",
       "10        0    5\n",
       "11        0    3\n",
       "14        0    1"
      ]
     },
     "execution_count": 19,
     "metadata": {},
     "output_type": "execute_result"
    }
   ],
   "source": [
    "pd.crosstab(data[\"m12\"], data[\"m13\"])"
   ]
  },
  {
   "cell_type": "code",
   "execution_count": 13,
   "metadata": {},
   "outputs": [
    {
     "data": {
      "text/html": [
       "<div>\n",
       "<style scoped>\n",
       "    .dataframe tbody tr th:only-of-type {\n",
       "        vertical-align: middle;\n",
       "    }\n",
       "\n",
       "    .dataframe tbody tr th {\n",
       "        vertical-align: top;\n",
       "    }\n",
       "\n",
       "    .dataframe thead th {\n",
       "        text-align: right;\n",
       "    }\n",
       "</style>\n",
       "<table border=\"1\" class=\"dataframe\">\n",
       "  <thead>\n",
       "    <tr style=\"text-align: right;\">\n",
       "      <th>m13</th>\n",
       "      <th>0</th>\n",
       "      <th>1</th>\n",
       "    </tr>\n",
       "    <tr>\n",
       "      <th>m12</th>\n",
       "      <th></th>\n",
       "      <th></th>\n",
       "    </tr>\n",
       "  </thead>\n",
       "  <tbody>\n",
       "    <tr>\n",
       "      <th>0</th>\n",
       "      <td>0.998259</td>\n",
       "      <td>0.528302</td>\n",
       "    </tr>\n",
       "    <tr>\n",
       "      <th>1</th>\n",
       "      <td>0.001681</td>\n",
       "      <td>0.270440</td>\n",
       "    </tr>\n",
       "    <tr>\n",
       "      <th>2</th>\n",
       "      <td>0.000035</td>\n",
       "      <td>0.067610</td>\n",
       "    </tr>\n",
       "    <tr>\n",
       "      <th>3</th>\n",
       "      <td>0.000000</td>\n",
       "      <td>0.044025</td>\n",
       "    </tr>\n",
       "    <tr>\n",
       "      <th>4</th>\n",
       "      <td>0.000009</td>\n",
       "      <td>0.022013</td>\n",
       "    </tr>\n",
       "    <tr>\n",
       "      <th>5</th>\n",
       "      <td>0.000000</td>\n",
       "      <td>0.011006</td>\n",
       "    </tr>\n",
       "    <tr>\n",
       "      <th>6</th>\n",
       "      <td>0.000009</td>\n",
       "      <td>0.020440</td>\n",
       "    </tr>\n",
       "    <tr>\n",
       "      <th>7</th>\n",
       "      <td>0.000009</td>\n",
       "      <td>0.009434</td>\n",
       "    </tr>\n",
       "    <tr>\n",
       "      <th>8</th>\n",
       "      <td>0.000000</td>\n",
       "      <td>0.007862</td>\n",
       "    </tr>\n",
       "    <tr>\n",
       "      <th>9</th>\n",
       "      <td>0.000000</td>\n",
       "      <td>0.004717</td>\n",
       "    </tr>\n",
       "    <tr>\n",
       "      <th>10</th>\n",
       "      <td>0.000000</td>\n",
       "      <td>0.007862</td>\n",
       "    </tr>\n",
       "    <tr>\n",
       "      <th>11</th>\n",
       "      <td>0.000000</td>\n",
       "      <td>0.004717</td>\n",
       "    </tr>\n",
       "    <tr>\n",
       "      <th>14</th>\n",
       "      <td>0.000000</td>\n",
       "      <td>0.001572</td>\n",
       "    </tr>\n",
       "  </tbody>\n",
       "</table>\n",
       "</div>"
      ],
      "text/plain": [
       "m13         0         1\n",
       "m12                    \n",
       "0    0.998259  0.528302\n",
       "1    0.001681  0.270440\n",
       "2    0.000035  0.067610\n",
       "3    0.000000  0.044025\n",
       "4    0.000009  0.022013\n",
       "5    0.000000  0.011006\n",
       "6    0.000009  0.020440\n",
       "7    0.000009  0.009434\n",
       "8    0.000000  0.007862\n",
       "9    0.000000  0.004717\n",
       "10   0.000000  0.007862\n",
       "11   0.000000  0.004717\n",
       "14   0.000000  0.001572"
      ]
     },
     "execution_count": 13,
     "metadata": {},
     "output_type": "execute_result"
    }
   ],
   "source": [
    "pd.crosstab(data[\"m12\"], data[\"m13\"], normalize=1)"
   ]
  },
  {
   "cell_type": "markdown",
   "metadata": {},
   "source": [
    "From above data we can see following:\n",
    "If we use a logic that if m12 > 0, predict as 1, else 0. with this logic we will see precision = 0.5988 and recall = 0.4716; f1 score = 0.5277; "
   ]
  },
  {
   "cell_type": "code",
   "execution_count": 21,
   "metadata": {},
   "outputs": [],
   "source": [
    "data[\"m13_pred\"] = data.apply(lambda x: 1 if x[\"m12\"]>0 or x[\"max_delinquencies\"]>0 else 0, axis=1)"
   ]
  },
  {
   "cell_type": "code",
   "execution_count": 23,
   "metadata": {},
   "outputs": [],
   "source": []
  },
  {
   "cell_type": "code",
   "execution_count": 25,
   "metadata": {},
   "outputs": [
    {
     "name": "stdout",
     "output_type": "stream",
     "text": [
      "              precision    recall  f1-score   support\n",
      "\n",
      "           0       1.00      0.99      0.99    115422\n",
      "           1       0.20      0.63      0.30       636\n",
      "\n",
      "   micro avg       0.98      0.98      0.98    116058\n",
      "   macro avg       0.60      0.81      0.65    116058\n",
      "weighted avg       0.99      0.98      0.99    116058\n",
      "\n"
     ]
    }
   ],
   "source": [
    "print(classification_report(data[\"m13\"], data[\"m13_pred\"]))"
   ]
  },
  {
   "cell_type": "code",
   "execution_count": 22,
   "metadata": {},
   "outputs": [
    {
     "data": {
      "text/plain": [
       "array([[113814,   1608],\n",
       "       [   233,    403]], dtype=int64)"
      ]
     },
     "execution_count": 22,
     "metadata": {},
     "output_type": "execute_result"
    }
   ],
   "source": [
    "confusion_matrix(data[\"m13\"], data[\"m13_pred\"])"
   ]
  },
  {
   "cell_type": "code",
   "execution_count": 20,
   "metadata": {},
   "outputs": [
    {
     "data": {
      "text/html": [
       "<div>\n",
       "<style scoped>\n",
       "    .dataframe tbody tr th:only-of-type {\n",
       "        vertical-align: middle;\n",
       "    }\n",
       "\n",
       "    .dataframe tbody tr th {\n",
       "        vertical-align: top;\n",
       "    }\n",
       "\n",
       "    .dataframe thead th {\n",
       "        text-align: right;\n",
       "    }\n",
       "</style>\n",
       "<table border=\"1\" class=\"dataframe\">\n",
       "  <thead>\n",
       "    <tr style=\"text-align: right;\">\n",
       "      <th>m13</th>\n",
       "      <th>0</th>\n",
       "      <th>1</th>\n",
       "    </tr>\n",
       "    <tr>\n",
       "      <th>max_delinquencies</th>\n",
       "      <th></th>\n",
       "      <th></th>\n",
       "    </tr>\n",
       "  </thead>\n",
       "  <tbody>\n",
       "    <tr>\n",
       "      <th>0</th>\n",
       "      <td>113945</td>\n",
       "      <td>291</td>\n",
       "    </tr>\n",
       "    <tr>\n",
       "      <th>1</th>\n",
       "      <td>1368</td>\n",
       "      <td>194</td>\n",
       "    </tr>\n",
       "    <tr>\n",
       "      <th>2</th>\n",
       "      <td>76</td>\n",
       "      <td>63</td>\n",
       "    </tr>\n",
       "    <tr>\n",
       "      <th>3</th>\n",
       "      <td>19</td>\n",
       "      <td>30</td>\n",
       "    </tr>\n",
       "    <tr>\n",
       "      <th>4</th>\n",
       "      <td>7</td>\n",
       "      <td>14</td>\n",
       "    </tr>\n",
       "    <tr>\n",
       "      <th>5</th>\n",
       "      <td>3</td>\n",
       "      <td>14</td>\n",
       "    </tr>\n",
       "    <tr>\n",
       "      <th>6</th>\n",
       "      <td>0</td>\n",
       "      <td>8</td>\n",
       "    </tr>\n",
       "    <tr>\n",
       "      <th>7</th>\n",
       "      <td>2</td>\n",
       "      <td>9</td>\n",
       "    </tr>\n",
       "    <tr>\n",
       "      <th>8</th>\n",
       "      <td>2</td>\n",
       "      <td>3</td>\n",
       "    </tr>\n",
       "    <tr>\n",
       "      <th>9</th>\n",
       "      <td>0</td>\n",
       "      <td>5</td>\n",
       "    </tr>\n",
       "    <tr>\n",
       "      <th>10</th>\n",
       "      <td>0</td>\n",
       "      <td>3</td>\n",
       "    </tr>\n",
       "    <tr>\n",
       "      <th>11</th>\n",
       "      <td>0</td>\n",
       "      <td>1</td>\n",
       "    </tr>\n",
       "    <tr>\n",
       "      <th>13</th>\n",
       "      <td>0</td>\n",
       "      <td>1</td>\n",
       "    </tr>\n",
       "  </tbody>\n",
       "</table>\n",
       "</div>"
      ],
      "text/plain": [
       "m13                     0    1\n",
       "max_delinquencies             \n",
       "0                  113945  291\n",
       "1                    1368  194\n",
       "2                      76   63\n",
       "3                      19   30\n",
       "4                       7   14\n",
       "5                       3   14\n",
       "6                       0    8\n",
       "7                       2    9\n",
       "8                       2    3\n",
       "9                       0    5\n",
       "10                      0    3\n",
       "11                      0    1\n",
       "13                      0    1"
      ]
     },
     "execution_count": 20,
     "metadata": {},
     "output_type": "execute_result"
    }
   ],
   "source": [
    "pd.crosstab(data[\"max_delinquencies\"], data[\"m13\"])"
   ]
  },
  {
   "cell_type": "code",
   "execution_count": 17,
   "metadata": {},
   "outputs": [
    {
     "data": {
      "text/html": [
       "<div>\n",
       "<style scoped>\n",
       "    .dataframe tbody tr th:only-of-type {\n",
       "        vertical-align: middle;\n",
       "    }\n",
       "\n",
       "    .dataframe tbody tr th {\n",
       "        vertical-align: top;\n",
       "    }\n",
       "\n",
       "    .dataframe thead th {\n",
       "        text-align: right;\n",
       "    }\n",
       "</style>\n",
       "<table border=\"1\" class=\"dataframe\">\n",
       "  <thead>\n",
       "    <tr style=\"text-align: right;\">\n",
       "      <th>m13</th>\n",
       "      <th>1</th>\n",
       "    </tr>\n",
       "    <tr>\n",
       "      <th>m11</th>\n",
       "      <th></th>\n",
       "    </tr>\n",
       "  </thead>\n",
       "  <tbody>\n",
       "    <tr>\n",
       "      <th>0</th>\n",
       "      <td>299</td>\n",
       "    </tr>\n",
       "    <tr>\n",
       "      <th>1</th>\n",
       "      <td>31</td>\n",
       "    </tr>\n",
       "    <tr>\n",
       "      <th>2</th>\n",
       "      <td>3</td>\n",
       "    </tr>\n",
       "    <tr>\n",
       "      <th>4</th>\n",
       "      <td>2</td>\n",
       "    </tr>\n",
       "    <tr>\n",
       "      <th>7</th>\n",
       "      <td>1</td>\n",
       "    </tr>\n",
       "  </tbody>\n",
       "</table>\n",
       "</div>"
      ],
      "text/plain": [
       "m13    1\n",
       "m11     \n",
       "0    299\n",
       "1     31\n",
       "2      3\n",
       "4      2\n",
       "7      1"
      ]
     },
     "execution_count": 17,
     "metadata": {},
     "output_type": "execute_result"
    }
   ],
   "source": [
    "false_negatives = data[(data[\"m12\"]==0)&(data[\"m13\"]==1)]\n",
    "pd.crosstab(false_negatives[\"m11\"], false_negatives[\"m13\"])"
   ]
  },
  {
   "cell_type": "code",
   "execution_count": 19,
   "metadata": {},
   "outputs": [
    {
     "data": {
      "image/png": "[encoded data removed]",
      "text/plain": [
       "<Figure size 432x288 with 1 Axes>"
      ]
     },
     "metadata": {
      "needs_background": "light"
     },
     "output_type": "display_data"
    }
   ],
   "source": [
    "scatter_with_labels(false_negatives, \"max_delinquencies\", \"delinquency_cnt\", \"m13\")"
   ]
  },
  {
   "cell_type": "code",
   "execution_count": 13,
   "metadata": {},
   "outputs": [
    {
     "data": {
      "text/plain": [
       "0    36128\n",
       "1      107\n",
       "Name: m13, dtype: int64"
      ]
     },
     "execution_count": 13,
     "metadata": {},
     "output_type": "execute_result"
    }
   ],
   "source": [
    "data[data[\"loan_term\"]<=180][\"m13\"].value_counts()"
   ]
  },
  {
   "cell_type": "code",
   "execution_count": 11,
   "metadata": {},
   "outputs": [
    {
     "data": {
      "text/plain": [
       "360    71812\n",
       "180    28584\n",
       "120     7061\n",
       "240     6749\n",
       "300      912\n",
       "96       178\n",
       "156       92\n",
       "144       73\n",
       "336       64\n",
       "324       53\n",
       "168       40\n",
       "348       33\n",
       "108       29\n",
       "276       22\n",
       "84        21\n",
       "312       19\n",
       "132       19\n",
       "216       16\n",
       "121       14\n",
       "288       13\n",
       "264       13\n",
       "228        8\n",
       "150        7\n",
       "162        6\n",
       "60         6\n",
       "166        5\n",
       "153        5\n",
       "163        4\n",
       "158        4\n",
       "165        4\n",
       "       ...  \n",
       "91         1\n",
       "219        1\n",
       "347        1\n",
       "100        1\n",
       "220        1\n",
       "93         1\n",
       "157        1\n",
       "349        1\n",
       "94         1\n",
       "290        1\n",
       "223        1\n",
       "280        1\n",
       "295        1\n",
       "359        1\n",
       "172        1\n",
       "274        1\n",
       "351        1\n",
       "83         1\n",
       "275        1\n",
       "174        1\n",
       "110        1\n",
       "85         1\n",
       "88         1\n",
       "149        1\n",
       "341        1\n",
       "86         1\n",
       "171        1\n",
       "278        1\n",
       "107        1\n",
       "319        1\n",
       "Name: loan_term, Length: 140, dtype: int64"
      ]
     },
     "execution_count": 11,
     "metadata": {},
     "output_type": "execute_result"
    }
   ],
   "source": [
    "data[\"loan_term\"].value_counts()"
   ]
  },
  {
   "cell_type": "markdown",
   "metadata": {},
   "source": [
    "# Model Generation\n"
   ]
  },
  {
   "cell_type": "code",
   "execution_count": 16,
   "metadata": {},
   "outputs": [],
   "source": [
    "train_data, val_data, train_labels, val_labels = train_test_split(data.drop(columns=\"m13\"),data[[\"m13\"]], test_size=0.25, stratify=data[\"m13\"])"
   ]
  },
  {
   "cell_type": "code",
   "execution_count": 17,
   "metadata": {},
   "outputs": [
    {
     "data": {
      "text/html": [
       "<div>\n",
       "<style scoped>\n",
       "    .dataframe tbody tr th:only-of-type {\n",
       "        vertical-align: middle;\n",
       "    }\n",
       "\n",
       "    .dataframe tbody tr th {\n",
       "        vertical-align: top;\n",
       "    }\n",
       "\n",
       "    .dataframe thead th {\n",
       "        text-align: right;\n",
       "    }\n",
       "</style>\n",
       "<table border=\"1\" class=\"dataframe\">\n",
       "  <thead>\n",
       "    <tr style=\"text-align: right;\">\n",
       "      <th></th>\n",
       "      <th>m13</th>\n",
       "      <th>m13_z</th>\n",
       "    </tr>\n",
       "  </thead>\n",
       "  <tbody>\n",
       "    <tr>\n",
       "      <th>0</th>\n",
       "      <td>86566</td>\n",
       "      <td>0.99452</td>\n",
       "    </tr>\n",
       "    <tr>\n",
       "      <th>1</th>\n",
       "      <td>477</td>\n",
       "      <td>0.00548</td>\n",
       "    </tr>\n",
       "  </tbody>\n",
       "</table>\n",
       "</div>"
      ],
      "text/plain": [
       "     m13    m13_z\n",
       "0  86566  0.99452\n",
       "1    477  0.00548"
      ]
     },
     "execution_count": 17,
     "metadata": {},
     "output_type": "execute_result"
    }
   ],
   "source": [
    "value_counts(train_labels,\"m13\")"
   ]
  },
  {
   "cell_type": "code",
   "execution_count": 18,
   "metadata": {},
   "outputs": [
    {
     "data": {
      "text/html": [
       "<div>\n",
       "<style scoped>\n",
       "    .dataframe tbody tr th:only-of-type {\n",
       "        vertical-align: middle;\n",
       "    }\n",
       "\n",
       "    .dataframe tbody tr th {\n",
       "        vertical-align: top;\n",
       "    }\n",
       "\n",
       "    .dataframe thead th {\n",
       "        text-align: right;\n",
       "    }\n",
       "</style>\n",
       "<table border=\"1\" class=\"dataframe\">\n",
       "  <thead>\n",
       "    <tr style=\"text-align: right;\">\n",
       "      <th></th>\n",
       "      <th>m13</th>\n",
       "      <th>m13_z</th>\n",
       "    </tr>\n",
       "  </thead>\n",
       "  <tbody>\n",
       "    <tr>\n",
       "      <th>0</th>\n",
       "      <td>28856</td>\n",
       "      <td>0.99452</td>\n",
       "    </tr>\n",
       "    <tr>\n",
       "      <th>1</th>\n",
       "      <td>159</td>\n",
       "      <td>0.00548</td>\n",
       "    </tr>\n",
       "  </tbody>\n",
       "</table>\n",
       "</div>"
      ],
      "text/plain": [
       "     m13    m13_z\n",
       "0  28856  0.99452\n",
       "1    159  0.00548"
      ]
     },
     "execution_count": 18,
     "metadata": {},
     "output_type": "execute_result"
    }
   ],
   "source": [
    "value_counts(val_labels,\"m13\")"
   ]
  },
  {
   "cell_type": "markdown",
   "metadata": {},
   "source": [
    "### OneClassSVM"
   ]
  },
  {
   "cell_type": "code",
   "execution_count": 37,
   "metadata": {},
   "outputs": [],
   "source": [
    "from sklearn.svm import OneClassSVM\n"
   ]
  },
  {
   "cell_type": "code",
   "execution_count": 38,
   "metadata": {},
   "outputs": [
    {
     "name": "stdout",
     "output_type": "stream",
     "text": [
      "Wall time: 4min 22s\n"
     ]
    }
   ],
   "source": [
    "%%time\n",
    "train_normal = train_data[train_labels[\"m13\"]==0]\n",
    "train_outliers = train_data[train_labels[\"m13\"]==1]\n",
    "outlier_prop = len(train_outliers)/len(train_normal)\n",
    "svm_oneclass_fit = OneClassSVM(kernel=\"rbf\", nu=outlier_prop, gamma=0.000001)\n",
    "svm_oneclass_fit.fit(train_normal.drop(columns=drop_cols))"
   ]
  },
  {
   "cell_type": "code",
   "execution_count": 39,
   "metadata": {},
   "outputs": [],
   "source": [
    "val_predict = svm_oneclass_fit.predict(val_data.drop(columns=drop_cols))"
   ]
  },
  {
   "cell_type": "code",
   "execution_count": 40,
   "metadata": {},
   "outputs": [
    {
     "name": "stdout",
     "output_type": "stream",
     "text": [
      "Wall time: 3min 56s\n"
     ]
    }
   ],
   "source": [
    "%%time\n",
    "svm_oneclass_fit2 = OneClassSVM(kernel=\"rbf\", nu=outlier_prop, gamma=0.0000001)\n",
    "svm_oneclass_fit2.fit(train_normal.drop(columns=drop_cols))"
   ]
  },
  {
   "cell_type": "code",
   "execution_count": 41,
   "metadata": {},
   "outputs": [
    {
     "name": "stdout",
     "output_type": "stream",
     "text": [
      "Wall time: 3min 32s\n"
     ]
    }
   ],
   "source": [
    "%%time\n",
    "svm_oneclass_fit3 = OneClassSVM(kernel=\"rbf\", nu=outlier_prop, gamma=0.00001)\n",
    "svm_oneclass_fit3.fit(train_normal.drop(columns=drop_cols))"
   ]
  },
  {
   "cell_type": "code",
   "execution_count": 45,
   "metadata": {},
   "outputs": [
    {
     "data": {
      "text/plain": [
       "(27421, 29015, 1594)"
      ]
     },
     "execution_count": 45,
     "metadata": {},
     "output_type": "execute_result"
    }
   ],
   "source": [
    "val_predict.sum(), len(val_predict), len(val_predict) - val_predict.sum()"
   ]
  },
  {
   "cell_type": "markdown",
   "metadata": {},
   "source": [
    "## XGBoost"
   ]
  },
  {
   "cell_type": "code",
   "execution_count": 25,
   "metadata": {},
   "outputs": [
    {
     "data": {
      "text/plain": [
       "0.005480050090185311"
      ]
     },
     "execution_count": 25,
     "metadata": {},
     "output_type": "execute_result"
    }
   ],
   "source": [
    "(train_labels.sum()/len(train_labels)).values[0]"
   ]
  },
  {
   "cell_type": "code",
   "execution_count": 19,
   "metadata": {},
   "outputs": [],
   "source": [
    "scale_var = 1/(train_labels.sum()/len(train_labels)).values[0] "
   ]
  },
  {
   "cell_type": "code",
   "execution_count": 20,
   "metadata": {},
   "outputs": [
    {
     "data": {
      "text/plain": [
       "182.48008385744234"
      ]
     },
     "execution_count": 20,
     "metadata": {},
     "output_type": "execute_result"
    }
   ],
   "source": [
    "scale_var"
   ]
  },
  {
   "cell_type": "code",
   "execution_count": 37,
   "metadata": {},
   "outputs": [],
   "source": [
    "parameters = {'nthread':[4], #when use hyperthread, xgboost may become slower\n",
    "              'objective':['binary:logistic'],\n",
    "              'learning_rate': [0.05], #so called `eta` value\n",
    "              'max_depth': [3, 6],\n",
    "              'min_child_weight': [5],\n",
    "              'silent': [1],\n",
    "              'subsample': [0.8],\n",
    "              'colsample_bytree': [0.7],\n",
    "              'n_estimators': [50, 100, 200], #number of trees, change it to 1000 for better results\n",
    "              'missing':[-999],\n",
    "              'scale_pos_weight':[5, 10, 20, 50],\n",
    "              'seed': [1337]}"
   ]
  },
  {
   "cell_type": "code",
   "execution_count": 38,
   "metadata": {},
   "outputs": [],
   "source": [
    "from sklearn.model_selection import GridSearchCV, StratifiedKFold"
   ]
  },
  {
   "cell_type": "code",
   "execution_count": 41,
   "metadata": {},
   "outputs": [],
   "source": [
    "xgb_model = xgb.XGBClassifier()"
   ]
  },
  {
   "cell_type": "code",
   "execution_count": 47,
   "metadata": {},
   "outputs": [
    {
     "name": "stdout",
     "output_type": "stream",
     "text": [
      "Fitting 5 folds for each of 24 candidates, totalling 120 fits\n"
     ]
    },
    {
     "name": "stderr",
     "output_type": "stream",
     "text": [
      "[Parallel(n_jobs=-1)]: Using backend LokyBackend with 12 concurrent workers.\n",
      "[Parallel(n_jobs=-1)]: Done  17 tasks      | elapsed:   25.1s\n",
      "[Parallel(n_jobs=-1)]: Done 120 out of 120 | elapsed:  5.4min finished\n",
      "C:\\Users\\dilee\\Anaconda3\\lib\\site-packages\\sklearn\\preprocessing\\label.py:219: DataConversionWarning: A column-vector y was passed when a 1d array was expected. Please change the shape of y to (n_samples, ), for example using ravel().\n",
      "  y = column_or_1d(y, warn=True)\n",
      "C:\\Users\\dilee\\Anaconda3\\lib\\site-packages\\sklearn\\preprocessing\\label.py:252: DataConversionWarning: A column-vector y was passed when a 1d array was expected. Please change the shape of y to (n_samples, ), for example using ravel().\n",
      "  y = column_or_1d(y, warn=True)\n"
     ]
    },
    {
     "name": "stdout",
     "output_type": "stream",
     "text": [
      "Wall time: 5min 28s\n"
     ]
    }
   ],
   "source": [
    "%%time\n",
    "clf = GridSearchCV(xgb_model, parameters, n_jobs=-1, \n",
    "                  cv=StratifiedKFold(n_splits=5), scoring=\"f1\", verbose=2, refit=True)\n",
    "clf.fit(train_data.drop(columns=drop_cols), train_labels)"
   ]
  },
  {
   "cell_type": "code",
   "execution_count": 48,
   "metadata": {},
   "outputs": [
    {
     "data": {
      "text/plain": [
       "{'colsample_bytree': 0.7,\n",
       " 'learning_rate': 0.05,\n",
       " 'max_depth': 3,\n",
       " 'min_child_weight': 5,\n",
       " 'missing': -999,\n",
       " 'n_estimators': 100,\n",
       " 'nthread': 4,\n",
       " 'objective': 'binary:logistic',\n",
       " 'scale_pos_weight': 5,\n",
       " 'seed': 1337,\n",
       " 'silent': 1,\n",
       " 'subsample': 0.8}"
      ]
     },
     "execution_count": 48,
     "metadata": {},
     "output_type": "execute_result"
    }
   ],
   "source": [
    "clf.best_params_"
   ]
  },
  {
   "cell_type": "code",
   "execution_count": 49,
   "metadata": {},
   "outputs": [
    {
     "data": {
      "text/plain": [
       "0.517254206736575"
      ]
     },
     "execution_count": 49,
     "metadata": {},
     "output_type": "execute_result"
    }
   ],
   "source": [
    "clf.best_score_"
   ]
  },
  {
   "cell_type": "code",
   "execution_count": 50,
   "metadata": {},
   "outputs": [],
   "source": [
    "val_preidct = clf.predict(val_data.drop(columns=drop_cols))"
   ]
  },
  {
   "cell_type": "code",
   "execution_count": 54,
   "metadata": {},
   "outputs": [
    {
     "data": {
      "text/plain": [
       "0.5212121212121212"
      ]
     },
     "execution_count": 54,
     "metadata": {},
     "output_type": "execute_result"
    }
   ],
   "source": [
    "f1_score(val_labels, val_predict)"
   ]
  },
  {
   "cell_type": "markdown",
   "metadata": {},
   "source": [
    "The f1 score is still less than using just m12 as label. We can see how these predictions are aligned with m12 scores"
   ]
  },
  {
   "cell_type": "code",
   "execution_count": 55,
   "metadata": {},
   "outputs": [],
   "source": [
    "val_explore = val_data\n",
    "val_explore[\"m13\"] = val_labels[\"m13\"]\n",
    "val_explore[\"m13_pred\"] = val_predict"
   ]
  },
  {
   "cell_type": "code",
   "execution_count": 56,
   "metadata": {},
   "outputs": [
    {
     "data": {
      "text/html": [
       "<div>\n",
       "<style scoped>\n",
       "    .dataframe tbody tr th:only-of-type {\n",
       "        vertical-align: middle;\n",
       "    }\n",
       "\n",
       "    .dataframe tbody tr th {\n",
       "        vertical-align: top;\n",
       "    }\n",
       "\n",
       "    .dataframe thead th {\n",
       "        text-align: right;\n",
       "    }\n",
       "</style>\n",
       "<table border=\"1\" class=\"dataframe\">\n",
       "  <thead>\n",
       "    <tr style=\"text-align: right;\">\n",
       "      <th></th>\n",
       "      <th>loan_id</th>\n",
       "      <th>interest_rate</th>\n",
       "      <th>unpaid_principal_bal</th>\n",
       "      <th>loan_term</th>\n",
       "      <th>origination_date</th>\n",
       "      <th>first_payment_date</th>\n",
       "      <th>loan_to_value</th>\n",
       "      <th>number_of_borrowers</th>\n",
       "      <th>debt_to_income_ratio</th>\n",
       "      <th>borrower_credit_score</th>\n",
       "      <th>...</th>\n",
       "      <th>financial_institution_Thornton-Davis</th>\n",
       "      <th>financial_institution_Turner, Baldwin and Rhodes</th>\n",
       "      <th>loan_purpose_B12</th>\n",
       "      <th>loan_purpose_C86</th>\n",
       "      <th>insurance_type_1.0</th>\n",
       "      <th>total_delinquencies</th>\n",
       "      <th>max_delinquencies</th>\n",
       "      <th>delinquency_cnt</th>\n",
       "      <th>m13</th>\n",
       "      <th>m13_pred</th>\n",
       "    </tr>\n",
       "  </thead>\n",
       "  <tbody>\n",
       "    <tr>\n",
       "      <th>99419</th>\n",
       "      <td>679391550137</td>\n",
       "      <td>4.250</td>\n",
       "      <td>94000</td>\n",
       "      <td>360</td>\n",
       "      <td>2012-03-01</td>\n",
       "      <td>05/2012</td>\n",
       "      <td>74</td>\n",
       "      <td>2.0</td>\n",
       "      <td>38.0</td>\n",
       "      <td>779.0</td>\n",
       "      <td>...</td>\n",
       "      <td>0</td>\n",
       "      <td>0</td>\n",
       "      <td>0</td>\n",
       "      <td>0</td>\n",
       "      <td>0</td>\n",
       "      <td>0</td>\n",
       "      <td>0</td>\n",
       "      <td>0</td>\n",
       "      <td>0</td>\n",
       "      <td>0</td>\n",
       "    </tr>\n",
       "    <tr>\n",
       "      <th>47730</th>\n",
       "      <td>579196136586</td>\n",
       "      <td>3.500</td>\n",
       "      <td>200000</td>\n",
       "      <td>120</td>\n",
       "      <td>2012-03-01</td>\n",
       "      <td>05/2012</td>\n",
       "      <td>77</td>\n",
       "      <td>2.0</td>\n",
       "      <td>35.0</td>\n",
       "      <td>796.0</td>\n",
       "      <td>...</td>\n",
       "      <td>0</td>\n",
       "      <td>0</td>\n",
       "      <td>0</td>\n",
       "      <td>0</td>\n",
       "      <td>0</td>\n",
       "      <td>0</td>\n",
       "      <td>0</td>\n",
       "      <td>0</td>\n",
       "      <td>0</td>\n",
       "      <td>0</td>\n",
       "    </tr>\n",
       "    <tr>\n",
       "      <th>48272</th>\n",
       "      <td>891589564408</td>\n",
       "      <td>3.625</td>\n",
       "      <td>161000</td>\n",
       "      <td>180</td>\n",
       "      <td>2012-02-01</td>\n",
       "      <td>04/2012</td>\n",
       "      <td>44</td>\n",
       "      <td>2.0</td>\n",
       "      <td>27.0</td>\n",
       "      <td>797.0</td>\n",
       "      <td>...</td>\n",
       "      <td>0</td>\n",
       "      <td>0</td>\n",
       "      <td>1</td>\n",
       "      <td>0</td>\n",
       "      <td>0</td>\n",
       "      <td>0</td>\n",
       "      <td>0</td>\n",
       "      <td>0</td>\n",
       "      <td>0</td>\n",
       "      <td>0</td>\n",
       "    </tr>\n",
       "    <tr>\n",
       "      <th>77670</th>\n",
       "      <td>739026555646</td>\n",
       "      <td>3.250</td>\n",
       "      <td>72000</td>\n",
       "      <td>120</td>\n",
       "      <td>2012-02-01</td>\n",
       "      <td>04/2012</td>\n",
       "      <td>42</td>\n",
       "      <td>1.0</td>\n",
       "      <td>31.0</td>\n",
       "      <td>800.0</td>\n",
       "      <td>...</td>\n",
       "      <td>0</td>\n",
       "      <td>0</td>\n",
       "      <td>0</td>\n",
       "      <td>0</td>\n",
       "      <td>0</td>\n",
       "      <td>0</td>\n",
       "      <td>0</td>\n",
       "      <td>0</td>\n",
       "      <td>0</td>\n",
       "      <td>0</td>\n",
       "    </tr>\n",
       "    <tr>\n",
       "      <th>8711</th>\n",
       "      <td>424175335256</td>\n",
       "      <td>3.250</td>\n",
       "      <td>186000</td>\n",
       "      <td>180</td>\n",
       "      <td>2012-02-01</td>\n",
       "      <td>04/2012</td>\n",
       "      <td>75</td>\n",
       "      <td>2.0</td>\n",
       "      <td>17.0</td>\n",
       "      <td>805.0</td>\n",
       "      <td>...</td>\n",
       "      <td>0</td>\n",
       "      <td>0</td>\n",
       "      <td>0</td>\n",
       "      <td>0</td>\n",
       "      <td>0</td>\n",
       "      <td>0</td>\n",
       "      <td>0</td>\n",
       "      <td>0</td>\n",
       "      <td>0</td>\n",
       "      <td>0</td>\n",
       "    </tr>\n",
       "  </tbody>\n",
       "</table>\n",
       "<p>5 rows × 52 columns</p>\n",
       "</div>"
      ],
      "text/plain": [
       "            loan_id  interest_rate  unpaid_principal_bal  loan_term  \\\n",
       "99419  679391550137          4.250                 94000        360   \n",
       "47730  579196136586          3.500                200000        120   \n",
       "48272  891589564408          3.625                161000        180   \n",
       "77670  739026555646          3.250                 72000        120   \n",
       "8711   424175335256          3.250                186000        180   \n",
       "\n",
       "      origination_date first_payment_date  loan_to_value  number_of_borrowers  \\\n",
       "99419       2012-03-01            05/2012             74                  2.0   \n",
       "47730       2012-03-01            05/2012             77                  2.0   \n",
       "48272       2012-02-01            04/2012             44                  2.0   \n",
       "77670       2012-02-01            04/2012             42                  1.0   \n",
       "8711        2012-02-01            04/2012             75                  2.0   \n",
       "\n",
       "       debt_to_income_ratio  borrower_credit_score    ...     \\\n",
       "99419                  38.0                  779.0    ...      \n",
       "47730                  35.0                  796.0    ...      \n",
       "48272                  27.0                  797.0    ...      \n",
       "77670                  31.0                  800.0    ...      \n",
       "8711                   17.0                  805.0    ...      \n",
       "\n",
       "       financial_institution_Thornton-Davis  \\\n",
       "99419                                     0   \n",
       "47730                                     0   \n",
       "48272                                     0   \n",
       "77670                                     0   \n",
       "8711                                      0   \n",
       "\n",
       "       financial_institution_Turner, Baldwin and Rhodes  loan_purpose_B12  \\\n",
       "99419                                                 0                 0   \n",
       "47730                                                 0                 0   \n",
       "48272                                                 0                 1   \n",
       "77670                                                 0                 0   \n",
       "8711                                                  0                 0   \n",
       "\n",
       "       loan_purpose_C86  insurance_type_1.0  total_delinquencies  \\\n",
       "99419                 0                   0                    0   \n",
       "47730                 0                   0                    0   \n",
       "48272                 0                   0                    0   \n",
       "77670                 0                   0                    0   \n",
       "8711                  0                   0                    0   \n",
       "\n",
       "       max_delinquencies  delinquency_cnt  m13  m13_pred  \n",
       "99419                  0                0    0         0  \n",
       "47730                  0                0    0         0  \n",
       "48272                  0                0    0         0  \n",
       "77670                  0                0    0         0  \n",
       "8711                   0                0    0         0  \n",
       "\n",
       "[5 rows x 52 columns]"
      ]
     },
     "execution_count": 56,
     "metadata": {},
     "output_type": "execute_result"
    }
   ],
   "source": [
    "val_explore.head()"
   ]
  },
  {
   "cell_type": "code",
   "execution_count": 57,
   "metadata": {},
   "outputs": [
    {
     "data": {
      "text/plain": [
       "0    69\n",
       "1    10\n",
       "Name: m13_pred, dtype: int64"
      ]
     },
     "execution_count": 57,
     "metadata": {},
     "output_type": "execute_result"
    }
   ],
   "source": [
    "val_explore[(val_explore[\"m12\"]==0)&(val_explore[\"m13\"]==1)][\"m13_pred\"].value_counts()"
   ]
  },
  {
   "cell_type": "code",
   "execution_count": 58,
   "metadata": {},
   "outputs": [
    {
     "data": {
      "text/plain": [
       "1    36\n",
       "0    10\n",
       "Name: m13_pred, dtype: int64"
      ]
     },
     "execution_count": 58,
     "metadata": {},
     "output_type": "execute_result"
    }
   ],
   "source": [
    "val_explore[(val_explore[\"m12\"]==1)&(val_explore[\"m13\"]==0)][\"m13_pred\"].value_counts()"
   ]
  },
  {
   "cell_type": "code",
   "execution_count": 76,
   "metadata": {},
   "outputs": [],
   "source": [
    "val_explore[\"m13_ensemble\"] = val_explore.apply(lambda x:1 if max(x[\"m11\"], x[\"m12\"])>0 else 0, axis=1)"
   ]
  },
  {
   "cell_type": "code",
   "execution_count": 65,
   "metadata": {},
   "outputs": [
    {
     "data": {
      "text/plain": [
       "0    28830\n",
       "1      185\n",
       "Name: m13_ensemble, dtype: int64"
      ]
     },
     "execution_count": 65,
     "metadata": {},
     "output_type": "execute_result"
    }
   ],
   "source": [
    "val_explore[\"m13_ensemble\"].value_counts()"
   ]
  },
  {
   "cell_type": "code",
   "execution_count": 66,
   "metadata": {},
   "outputs": [
    {
     "data": {
      "text/plain": [
       "0.5232558139534883"
      ]
     },
     "execution_count": 66,
     "metadata": {},
     "output_type": "execute_result"
    }
   ],
   "source": [
    "f1_score(val_explore[\"m13\"], val_explore[\"m13_ensemble\"])"
   ]
  },
  {
   "cell_type": "code",
   "execution_count": 68,
   "metadata": {},
   "outputs": [
    {
     "data": {
      "text/plain": [
       "0.5614035087719299"
      ]
     },
     "execution_count": 68,
     "metadata": {},
     "output_type": "execute_result"
    }
   ],
   "source": [
    "f1_score(val_explore[\"m13\"], val_explore[\"m12\"].apply(lambda x:1 if x>0 else 0))"
   ]
  },
  {
   "cell_type": "code",
   "execution_count": 69,
   "metadata": {},
   "outputs": [
    {
     "data": {
      "text/plain": [
       "array([[28810,    46],\n",
       "       [   79,    80]], dtype=int64)"
      ]
     },
     "execution_count": 69,
     "metadata": {},
     "output_type": "execute_result"
    }
   ],
   "source": [
    "confusion_matrix(val_explore[\"m13\"], val_explore[\"m12\"].apply(lambda x:1 if x>0 else 0))"
   ]
  },
  {
   "cell_type": "code",
   "execution_count": 70,
   "metadata": {},
   "outputs": [
    {
     "data": {
      "text/plain": [
       "array([[28771,    85],\n",
       "       [   73,    86]], dtype=int64)"
      ]
     },
     "execution_count": 70,
     "metadata": {},
     "output_type": "execute_result"
    }
   ],
   "source": [
    "confusion_matrix(val_explore[\"m13\"], val_explore[\"m13_pred\"])"
   ]
  },
  {
   "cell_type": "code",
   "execution_count": 77,
   "metadata": {},
   "outputs": [
    {
     "data": {
      "text/plain": [
       "array([[28759,    97],\n",
       "       [   68,    91]], dtype=int64)"
      ]
     },
     "execution_count": 77,
     "metadata": {},
     "output_type": "execute_result"
    }
   ],
   "source": [
    "confusion_matrix(val_explore[\"m13\"], val_explore[\"m13_ensemble\"])"
   ]
  },
  {
   "cell_type": "markdown",
   "metadata": {},
   "source": [
    "Lets look at some of the sample false positives and false negatives to get an idea"
   ]
  },
  {
   "cell_type": "code",
   "execution_count": 81,
   "metadata": {},
   "outputs": [],
   "source": [
    "val_explore[((val_explore[\"m13\"]==1)&(val_explore[\"m12\"]==0))|((val_explore[\"m13\"]==0)&(val_explore[\"m12\"]==1))|((val_explore[\"m13\"]==1)&(val_explore[\"m12\"]==1))].to_csv(\"debug_false_cases_m12_flag.csv\")"
   ]
  },
  {
   "cell_type": "code",
   "execution_count": 82,
   "metadata": {},
   "outputs": [],
   "source": [
    "def create_label(row):\n",
    "    if row[\"m13\"]>0 and row[\"m12\"]==0:\n",
    "        return \"fn\"\n",
    "    elif row[\"m12\"]>0 and row[\"m13\"]==0:\n",
    "        return \"fp\"\n",
    "    elif row[\"m12\"] + row[\"m13\"] ==0:\n",
    "        return \"tn\"\n",
    "    else:\n",
    "        return \"tp\""
   ]
  },
  {
   "cell_type": "code",
   "execution_count": 83,
   "metadata": {},
   "outputs": [],
   "source": [
    "val_explore[\"flag\"] = val_explore.apply(lambda row: create_label(row), axis=1)"
   ]
  },
  {
   "cell_type": "code",
   "execution_count": 88,
   "metadata": {},
   "outputs": [],
   "source": [
    "col_level_summary = val_explore.groupby(\"flag\").describe()"
   ]
  },
  {
   "cell_type": "code",
   "execution_count": 90,
   "metadata": {},
   "outputs": [
    {
     "name": "stdout",
     "output_type": "stream",
     "text": [
      "interest_rate\n",
      "        count      mean       std    min     25%    50%     75%    max\n",
      "flag                                                                  \n",
      "fn       79.0  4.093228  0.468460  2.875  3.8125  4.125  4.4325  5.125\n",
      "fp       46.0  4.146739  0.448999  2.875  3.8750  4.125  4.5000  5.250\n",
      "tn    28810.0  3.865153  0.460689  2.250  3.5000  3.875  4.1250  6.750\n",
      "tp       80.0  4.278875  0.465451  3.000  4.0000  4.375  4.5000  5.750\n",
      "unpaid_principal_bal\n",
      "        count           mean            std      min       25%       50%  \\\n",
      "flag                                                                       \n",
      "fn       79.0  184949.367089   97536.173268  24000.0  107500.0  169000.0   \n",
      "fp       46.0  198934.782609  107073.474705  60000.0  124000.0  168000.0   \n",
      "tn    28810.0  208430.093717  114859.521282  14000.0  120000.0  183000.0   \n",
      "tp       80.0  167725.000000  107224.828860  38000.0  102250.0  138000.0   \n",
      "\n",
      "           75%       max  \n",
      "flag                      \n",
      "fn    244000.0  417000.0  \n",
      "fp    255250.0  534000.0  \n",
      "tn    277000.0  720000.0  \n",
      "tp    207750.0  610000.0  \n",
      "loan_term\n",
      "        count        mean        std    min    25%    50%    75%    max\n",
      "flag                                                                   \n",
      "fn       79.0  312.151899  80.026773  120.0  240.0  360.0  360.0  360.0\n",
      "fp       46.0  318.260870  77.840416  120.0  360.0  360.0  360.0  360.0\n",
      "tn    28810.0  292.073169  89.901301   60.0  180.0  360.0  360.0  360.0\n",
      "tp       80.0  325.200000  73.839786  120.0  360.0  360.0  360.0  360.0\n",
      "loan_to_value\n",
      "        count       mean        std   min    25%   50%   75%   max\n",
      "flag                                                              \n",
      "fn       79.0  68.379747  16.793088  24.0  58.00  75.0  80.0  95.0\n",
      "fp       46.0  68.347826  16.634926  17.0  63.25  73.5  80.0  90.0\n",
      "tn    28810.0  67.429504  17.350532   6.0  57.00  72.0  80.0  97.0\n",
      "tp       80.0  72.387500  14.564126  20.0  69.00  75.5  80.0  95.0\n",
      "number_of_borrowers\n",
      "        count      mean       std  min  25%  50%  75%  max\n",
      "flag                                                      \n",
      "fn       79.0  1.417722  0.496335  1.0  1.0  1.0  2.0  2.0\n",
      "fp       46.0  1.543478  0.503610  1.0  1.0  2.0  2.0  2.0\n",
      "tn    28810.0  1.597640  0.490382  1.0  1.0  2.0  2.0  2.0\n",
      "tp       80.0  1.325000  0.471330  1.0  1.0  1.0  2.0  2.0\n",
      "debt_to_income_ratio\n",
      "        count       mean       std   min   25%   50%   75%   max\n",
      "flag                                                            \n",
      "fn       79.0  33.898734  9.705398  10.0  28.0  34.0  43.0  50.0\n",
      "fp       46.0  33.043478  9.390199   9.0  28.0  33.5  40.0  49.0\n",
      "tn    28810.0  30.729052  9.692440   2.0  23.0  31.0  39.0  64.0\n",
      "tp       80.0  37.475000  8.012609  12.0  33.0  39.5  43.0  50.0\n",
      "borrower_credit_score\n",
      "        count        mean        std    min     25%    50%     75%    max\n",
      "flag                                                                     \n",
      "fn       79.0  728.886076  50.313883  621.0  697.00  733.0  766.50  815.0\n",
      "fp       46.0  729.065217  44.578222  654.0  691.75  737.0  767.25  811.0\n",
      "tn    28810.0  770.459771  41.744300    0.0  752.00  782.0  800.00  834.0\n",
      "tp       80.0  695.625000  50.092415  620.0  653.75  686.0  732.25  808.0\n",
      "insurance_percent\n",
      "        count      mean       std  min  25%  50%  75%   max\n",
      "flag                                                       \n",
      "fn       79.0  3.012658  8.445138  0.0  0.0  0.0  0.0  30.0\n",
      "fp       46.0  1.891304  6.419513  0.0  0.0  0.0  0.0  25.0\n",
      "tn    28810.0  2.828289  8.132450  0.0  0.0  0.0  0.0  35.0\n",
      "tp       80.0  3.275000  8.501638  0.0  0.0  0.0  0.0  30.0\n",
      "co-borrower_credit_score\n",
      "        count        mean         std  min  25%    50%     75%    max\n",
      "flag                                                                 \n",
      "fn       79.0  305.772152  364.414879  0.0  0.0    0.0  725.50  807.0\n",
      "fp       46.0  403.630435  375.594069  0.0  0.0  680.5  752.25  809.0\n",
      "tn    28810.0  463.345123  381.356071  0.0  0.0  742.0  791.00  832.0\n",
      "tp       80.0  228.137500  331.977342  0.0  0.0    0.0  658.75  799.0\n",
      "m1\n",
      "        count      mean       std  min  25%  50%  75%  max\n",
      "flag                                                      \n",
      "fn       79.0  0.075949  0.311001  0.0  0.0  0.0  0.0  2.0\n",
      "fp       46.0  0.000000  0.000000  0.0  0.0  0.0  0.0  0.0\n",
      "tn    28810.0  0.002707  0.060022  0.0  0.0  0.0  0.0  3.0\n",
      "tp       80.0  0.100000  0.341256  0.0  0.0  0.0  0.0  2.0\n",
      "m2\n",
      "        count      mean       std  min  25%  50%  75%  max\n",
      "flag                                                      \n",
      "fn       79.0  0.050633  0.220648  0.0  0.0  0.0  0.0  1.0\n",
      "fp       46.0  0.021739  0.147442  0.0  0.0  0.0  0.0  1.0\n",
      "tn    28810.0  0.001111  0.039944  0.0  0.0  0.0  0.0  4.0\n",
      "tp       80.0  0.225000  0.527113  0.0  0.0  0.0  0.0  2.0\n",
      "m3\n",
      "        count      mean       std  min  25%  50%  75%  max\n",
      "flag                                                      \n",
      "fn       79.0  0.012658  0.112509  0.0  0.0  0.0  0.0  1.0\n",
      "fp       46.0  0.021739  0.147442  0.0  0.0  0.0  0.0  1.0\n",
      "tn    28810.0  0.001076  0.042878  0.0  0.0  0.0  0.0  5.0\n",
      "tp       80.0  0.262500  0.610950  0.0  0.0  0.0  0.0  3.0\n",
      "m4\n",
      "        count      mean       std  min  25%  50%   75%  max\n",
      "flag                                                       \n",
      "fn       79.0  0.075949  0.266610  0.0  0.0  0.0  0.00  1.0\n",
      "fp       46.0  0.021739  0.147442  0.0  0.0  0.0  0.00  1.0\n",
      "tn    28810.0  0.001250  0.051347  0.0  0.0  0.0  0.00  6.0\n",
      "tp       80.0  0.350000  0.747993  0.0  0.0  0.0  0.25  4.0\n",
      "m5\n",
      "        count      mean       std  min  25%  50%  75%  max\n",
      "flag                                                      \n",
      "fn       79.0  0.113924  0.357604  0.0  0.0  0.0  0.0  2.0\n",
      "fp       46.0  0.065217  0.326747  0.0  0.0  0.0  0.0  2.0\n",
      "tn    28810.0  0.002083  0.069180  0.0  0.0  0.0  0.0  7.0\n",
      "tp       80.0  0.612500  0.987180  0.0  0.0  0.0  1.0  5.0\n",
      "m6\n",
      "        count      mean       std  min  25%  50%  75%  max\n",
      "flag                                                      \n",
      "fn       79.0  0.113924  0.391818  0.0  0.0  0.0  0.0  2.0\n",
      "fp       46.0  0.086957  0.463134  0.0  0.0  0.0  0.0  3.0\n",
      "tn    28810.0  0.001354  0.048206  0.0  0.0  0.0  0.0  4.0\n",
      "tp       80.0  0.625000  1.236318  0.0  0.0  0.0  1.0  6.0\n",
      "m7\n",
      "        count      mean       std  min  25%  50%  75%  max\n",
      "flag                                                      \n",
      "fn       79.0  0.088608  0.398390  0.0  0.0  0.0  0.0  3.0\n",
      "fp       46.0  0.086957  0.284885  0.0  0.0  0.0  0.0  1.0\n",
      "tn    28810.0  0.001631  0.057401  0.0  0.0  0.0  0.0  5.0\n",
      "tp       80.0  0.900000  1.419574  0.0  0.0  0.0  1.0  7.0\n",
      "m8\n",
      "        count      mean       std  min  25%  50%  75%  max\n",
      "flag                                                      \n",
      "fn       79.0  0.139241  0.548522  0.0  0.0  0.0  0.0  4.0\n",
      "fp       46.0  0.086957  0.284885  0.0  0.0  0.0  0.0  1.0\n",
      "tn    28810.0  0.001736  0.054609  0.0  0.0  0.0  0.0  6.0\n",
      "tp       80.0  0.937500  1.503950  0.0  0.0  0.0  1.0  7.0\n",
      "m9\n",
      "        count      mean       std  min  25%  50%   75%  max\n",
      "flag                                                       \n",
      "fn       79.0  0.202532  0.722881  0.0  0.0  0.0  0.00  5.0\n",
      "fp       46.0  0.021739  0.147442  0.0  0.0  0.0  0.00  1.0\n",
      "tn    28810.0  0.001701  0.057399  0.0  0.0  0.0  0.00  7.0\n",
      "tp       80.0  1.237500  1.678183  0.0  0.0  1.0  1.25  8.0\n",
      "m10\n",
      "        count      mean       std  min  25%  50%  75%  max\n",
      "flag                                                      \n",
      "fn       79.0  0.240506  0.894645  0.0  0.0  0.0  0.0  6.0\n",
      "fp       46.0  0.065217  0.249637  0.0  0.0  0.0  0.0  1.0\n",
      "tn    28810.0  0.002326  0.068415  0.0  0.0  0.0  0.0  8.0\n",
      "tp       80.0  1.412500  1.913931  0.0  0.0  1.0  2.0  9.0\n",
      "m11\n",
      "        count      mean       std  min  25%  50%  75%   max\n",
      "flag                                                       \n",
      "fn       79.0  0.303797  1.042119  0.0  0.0  0.0  0.0   7.0\n",
      "fp       46.0  0.108696  0.314696  0.0  0.0  0.0  0.0   1.0\n",
      "tn    28810.0  0.002048  0.060909  0.0  0.0  0.0  0.0   7.0\n",
      "tp       80.0  1.700000  2.008841  0.0  0.0  1.0  2.0  10.0\n",
      "m12\n",
      "        count    mean       std  min  25%  50%  75%   max\n",
      "flag                                                     \n",
      "fn       79.0  0.0000  0.000000  0.0  0.0  0.0  0.0   0.0\n",
      "fp       46.0  1.0000  0.000000  1.0  1.0  1.0  1.0   1.0\n",
      "tn    28810.0  0.0000  0.000000  0.0  0.0  0.0  0.0   0.0\n",
      "tp       80.0  2.2625  2.011006  1.0  1.0  1.0  3.0  11.0\n",
      "source_Y\n",
      "        count      mean       std  min  25%  50%  75%  max\n",
      "flag                                                      \n",
      "fn       79.0  0.379747  0.488425  0.0  0.0  0.0  1.0  1.0\n",
      "fp       46.0  0.500000  0.505525  0.0  0.0  0.5  1.0  1.0\n",
      "tn    28810.0  0.326102  0.468793  0.0  0.0  0.0  1.0  1.0\n",
      "tp       80.0  0.350000  0.479979  0.0  0.0  0.0  1.0  1.0\n",
      "source_Z\n",
      "        count      mean       std  min  25%  50%  75%  max\n",
      "flag                                                      \n",
      "fn       79.0  0.113924  0.319749  0.0  0.0  0.0  0.0  1.0\n",
      "fp       46.0  0.086957  0.284885  0.0  0.0  0.0  0.0  1.0\n",
      "tn    28810.0  0.124714  0.330400  0.0  0.0  0.0  0.0  1.0\n",
      "tp       80.0  0.112500  0.317974  0.0  0.0  0.0  0.0  1.0\n",
      "financial_institution_Browning-Hart\n",
      "        count      mean       std  min  25%  50%   75%  max\n",
      "flag                                                       \n",
      "fn       79.0  0.316456  0.468065  0.0  0.0  0.0  1.00  1.0\n",
      "fp       46.0  0.260870  0.443961  0.0  0.0  0.0  0.75  1.0\n",
      "tn    28810.0  0.276883  0.447466  0.0  0.0  0.0  1.00  1.0\n",
      "tp       80.0  0.325000  0.471330  0.0  0.0  0.0  1.00  1.0\n",
      "financial_institution_Chapman-Mcmahon\n",
      "        count      mean      std  min  25%  50%  75%  max\n",
      "flag                                                     \n",
      "fn       79.0  0.000000  0.00000  0.0  0.0  0.0  0.0  0.0\n",
      "fp       46.0  0.000000  0.00000  0.0  0.0  0.0  0.0  0.0\n",
      "tn    28810.0  0.003297  0.05733  0.0  0.0  0.0  0.0  1.0\n",
      "tp       80.0  0.000000  0.00000  0.0  0.0  0.0  0.0  0.0\n",
      "financial_institution_Cole, Brooks and Vincent\n",
      "        count      mean       std  min  25%  50%  75%  max\n",
      "flag                                                      \n",
      "fn       79.0  0.000000  0.000000  0.0  0.0  0.0  0.0  0.0\n",
      "fp       46.0  0.000000  0.000000  0.0  0.0  0.0  0.0  0.0\n",
      "tn    28810.0  0.014127  0.118017  0.0  0.0  0.0  0.0  1.0\n",
      "tp       80.0  0.037500  0.191182  0.0  0.0  0.0  0.0  1.0\n",
      "financial_institution_Edwards-Hoffman\n",
      "        count      mean       std  min  25%  50%  75%  max\n",
      "flag                                                      \n",
      "fn       79.0  0.088608  0.285992  0.0  0.0  0.0  0.0  1.0\n",
      "fp       46.0  0.065217  0.249637  0.0  0.0  0.0  0.0  1.0\n",
      "tn    28810.0  0.043735  0.204508  0.0  0.0  0.0  0.0  1.0\n",
      "tp       80.0  0.025000  0.157110  0.0  0.0  0.0  0.0  1.0\n",
      "financial_institution_Martinez, Duffy and Bird\n",
      "        count      mean       std  min  25%  50%  75%  max\n",
      "flag                                                      \n",
      "fn       79.0  0.063291  0.245042  0.0  0.0  0.0  0.0  1.0\n",
      "fp       46.0  0.021739  0.147442  0.0  0.0  0.0  0.0  1.0\n",
      "tn    28810.0  0.040993  0.198277  0.0  0.0  0.0  0.0  1.0\n",
      "tp       80.0  0.037500  0.191182  0.0  0.0  0.0  0.0  1.0\n",
      "financial_institution_Miller, Mcclure and Allen\n",
      "        count      mean       std  min  25%  50%  75%  max\n",
      "flag                                                      \n",
      "fn       79.0  0.000000  0.000000  0.0  0.0  0.0  0.0  0.0\n",
      "fp       46.0  0.000000  0.000000  0.0  0.0  0.0  0.0  0.0\n",
      "tn    28810.0  0.027213  0.162706  0.0  0.0  0.0  0.0  1.0\n",
      "tp       80.0  0.050000  0.219320  0.0  0.0  0.0  0.0  1.0\n",
      "financial_institution_Nicholson Group\n",
      "        count      mean       std  min  25%  50%  75%  max\n",
      "flag                                                      \n",
      "fn       79.0  0.025316  0.158088  0.0  0.0  0.0  0.0  1.0\n",
      "fp       46.0  0.000000  0.000000  0.0  0.0  0.0  0.0  0.0\n",
      "tn    28810.0  0.018327  0.134133  0.0  0.0  0.0  0.0  1.0\n",
      "tp       80.0  0.025000  0.157110  0.0  0.0  0.0  0.0  1.0\n",
      "financial_institution_OTHER\n",
      "        count      mean       std  min  25%  50%  75%  max\n",
      "flag                                                      \n",
      "fn       79.0  0.430380  0.498293  0.0  0.0  0.0  1.0  1.0\n",
      "fp       46.0  0.456522  0.503610  0.0  0.0  0.0  1.0  1.0\n",
      "tn    28810.0  0.424852  0.494329  0.0  0.0  0.0  1.0  1.0\n",
      "tp       80.0  0.437500  0.499208  0.0  0.0  0.0  1.0  1.0\n",
      "financial_institution_Richards-Walters\n",
      "        count      mean       std  min  25%  50%  75%  max\n",
      "flag                                                      \n",
      "fn       79.0  0.000000  0.000000  0.0  0.0  0.0  0.0  0.0\n",
      "fp       46.0  0.000000  0.000000  0.0  0.0  0.0  0.0  0.0\n",
      "tn    28810.0  0.012183  0.109705  0.0  0.0  0.0  0.0  1.0\n",
      "tp       80.0  0.000000  0.000000  0.0  0.0  0.0  0.0  0.0\n",
      "financial_institution_Richardson Ltd\n",
      "        count    mean       std  min  25%  50%  75%  max\n",
      "flag                                                    \n",
      "fn       79.0  0.0000  0.000000  0.0  0.0  0.0  0.0  0.0\n",
      "fp       46.0  0.0000  0.000000  0.0  0.0  0.0  0.0  0.0\n",
      "tn    28810.0  0.0042  0.064672  0.0  0.0  0.0  0.0  1.0\n",
      "tp       80.0  0.0000  0.000000  0.0  0.0  0.0  0.0  0.0\n",
      "financial_institution_Romero, Woods and Johnson\n",
      "        count      mean       std  min  25%  50%  75%  max\n",
      "flag                                                      \n",
      "fn       79.0  0.000000  0.000000  0.0  0.0  0.0  0.0  0.0\n",
      "fp       46.0  0.000000  0.000000  0.0  0.0  0.0  0.0  0.0\n",
      "tn    28810.0  0.006768  0.081993  0.0  0.0  0.0  0.0  1.0\n",
      "tp       80.0  0.000000  0.000000  0.0  0.0  0.0  0.0  0.0\n",
      "financial_institution_Sanchez, Hays and Wilkerson\n",
      "        count      mean       std  min  25%  50%  75%  max\n",
      "flag                                                      \n",
      "fn       79.0  0.012658  0.112509  0.0  0.0  0.0  0.0  1.0\n",
      "fp       46.0  0.000000  0.000000  0.0  0.0  0.0  0.0  0.0\n",
      "tn    28810.0  0.006838  0.082410  0.0  0.0  0.0  0.0  1.0\n",
      "tp       80.0  0.000000  0.000000  0.0  0.0  0.0  0.0  0.0\n",
      "financial_institution_Sanchez-Robinson\n",
      "        count      mean       std  min  25%  50%  75%  max\n",
      "flag                                                      \n",
      "fn       79.0  0.000000  0.000000  0.0  0.0  0.0  0.0  0.0\n",
      "fp       46.0  0.000000  0.000000  0.0  0.0  0.0  0.0  0.0\n",
      "tn    28810.0  0.010656  0.102678  0.0  0.0  0.0  0.0  1.0\n",
      "tp       80.0  0.000000  0.000000  0.0  0.0  0.0  0.0  0.0\n",
      "financial_institution_Suarez Inc\n",
      "        count      mean       std  min  25%  50%  75%  max\n",
      "flag                                                      \n",
      "fn       79.0  0.000000  0.000000  0.0  0.0  0.0  0.0  0.0\n",
      "fp       46.0  0.000000  0.000000  0.0  0.0  0.0  0.0  0.0\n",
      "tn    28810.0  0.014752  0.120560  0.0  0.0  0.0  0.0  1.0\n",
      "tp       80.0  0.012500  0.111803  0.0  0.0  0.0  0.0  1.0\n",
      "financial_institution_Swanson, Newton and Miller\n",
      "        count      mean       std  min  25%  50%  75%  max\n",
      "flag                                                      \n",
      "fn       79.0  0.050633  0.220648  0.0  0.0  0.0  0.0  1.0\n",
      "fp       46.0  0.108696  0.314696  0.0  0.0  0.0  0.0  1.0\n",
      "tn    28810.0  0.059389  0.236356  0.0  0.0  0.0  0.0  1.0\n",
      "tp       80.0  0.037500  0.191182  0.0  0.0  0.0  0.0  1.0\n",
      "financial_institution_Taylor, Hunt and Rodriguez\n",
      "        count      mean       std  min  25%  50%  75%  max\n",
      "flag                                                      \n",
      "fn       79.0  0.000000  0.000000  0.0  0.0  0.0  0.0  0.0\n",
      "fp       46.0  0.043478  0.206185  0.0  0.0  0.0  0.0  1.0\n",
      "tn    28810.0  0.010587  0.102347  0.0  0.0  0.0  0.0  1.0\n",
      "tp       80.0  0.012500  0.111803  0.0  0.0  0.0  0.0  1.0\n",
      "financial_institution_Thornton-Davis\n",
      "        count      mean       std  min  25%  50%  75%  max\n",
      "flag                                                      \n",
      "fn       79.0  0.012658  0.112509  0.0  0.0  0.0  0.0  1.0\n",
      "fp       46.0  0.000000  0.000000  0.0  0.0  0.0  0.0  0.0\n",
      "tn    28810.0  0.004998  0.070523  0.0  0.0  0.0  0.0  1.0\n",
      "tp       80.0  0.000000  0.000000  0.0  0.0  0.0  0.0  0.0\n",
      "financial_institution_Turner, Baldwin and Rhodes\n",
      "        count      mean       std  min  25%  50%  75%  max\n",
      "flag                                                      \n",
      "fn       79.0  0.000000  0.000000  0.0  0.0  0.0  0.0  0.0\n",
      "fp       46.0  0.043478  0.206185  0.0  0.0  0.0  0.0  1.0\n",
      "tn    28810.0  0.016383  0.126946  0.0  0.0  0.0  0.0  1.0\n",
      "tp       80.0  0.000000  0.000000  0.0  0.0  0.0  0.0  0.0\n",
      "loan_purpose_B12\n",
      "        count      mean       std  min  25%  50%  75%  max\n",
      "flag                                                      \n",
      "fn       79.0  0.367089  0.485091  0.0  0.0  0.0  1.0  1.0\n",
      "fp       46.0  0.326087  0.473960  0.0  0.0  0.0  1.0  1.0\n",
      "tn    28810.0  0.254842  0.435780  0.0  0.0  0.0  1.0  1.0\n",
      "tp       80.0  0.362500  0.483755  0.0  0.0  0.0  1.0  1.0\n",
      "loan_purpose_C86\n",
      "        count      mean       std  min  25%  50%   75%  max\n",
      "flag                                                       \n",
      "fn       79.0  0.253165  0.437603  0.0  0.0  0.0  0.50  1.0\n",
      "fp       46.0  0.260870  0.443961  0.0  0.0  0.0  0.75  1.0\n",
      "tn    28810.0  0.242346  0.428510  0.0  0.0  0.0  0.00  1.0\n",
      "tp       80.0  0.300000  0.461149  0.0  0.0  0.0  1.00  1.0\n",
      "insurance_type_1.0\n",
      "        count      mean       std  min  25%  50%  75%  max\n",
      "flag                                                      \n",
      "fn       79.0  0.000000  0.000000  0.0  0.0  0.0  0.0  0.0\n",
      "fp       46.0  0.021739  0.147442  0.0  0.0  0.0  0.0  1.0\n",
      "tn    28810.0  0.003506  0.059106  0.0  0.0  0.0  0.0  1.0\n",
      "tp       80.0  0.000000  0.000000  0.0  0.0  0.0  0.0  0.0\n",
      "total_delinquencies\n",
      "        count      mean        std  min  25%  50%   75%   max\n",
      "flag                                                         \n",
      "fn       79.0  1.417722   3.985897  0.0  0.0  0.0   1.0  29.0\n",
      "fp       46.0  0.586957   1.694122  0.0  0.0  0.0   0.0  10.0\n",
      "tn    28810.0  0.019021   0.373438  0.0  0.0  0.0   0.0  46.0\n",
      "tp       80.0  8.362500  10.537749  0.0  2.0  5.0  10.0  55.0\n",
      "max_delinquencies\n",
      "        count      mean       std  min  25%  50%   75%   max\n",
      "flag                                                        \n",
      "fn       79.0  0.493671  1.096304  0.0  0.0  0.0  1.00   7.0\n",
      "fp       46.0  0.239130  0.565087  0.0  0.0  0.0  0.00   3.0\n",
      "tn    28810.0  0.012947  0.140682  0.0  0.0  0.0  0.00   8.0\n",
      "tp       80.0  2.125000  2.113100  0.0  1.0  1.0  2.25  10.0\n",
      "delinquency_cnt\n",
      "        count      mean       std  min  25%  50%  75%   max\n",
      "flag                                                       \n",
      "fn       79.0  0.911392  1.820044  0.0  0.0  0.0  1.0   8.0\n",
      "fp       46.0  0.521739  1.345596  0.0  0.0  0.0  0.0   7.0\n",
      "tn    28810.0  0.015515  0.183121  0.0  0.0  0.0  0.0  11.0\n",
      "tp       80.0  4.362500  3.032498  0.0  2.0  4.0  7.0  11.0\n",
      "m13\n",
      "        count  mean  std  min  25%  50%  75%  max\n",
      "flag                                             \n",
      "fn       79.0   1.0  0.0  1.0  1.0  1.0  1.0  1.0\n",
      "fp       46.0   0.0  0.0  0.0  0.0  0.0  0.0  0.0\n",
      "tn    28810.0   0.0  0.0  0.0  0.0  0.0  0.0  0.0\n",
      "tp       80.0   1.0  0.0  1.0  1.0  1.0  1.0  1.0\n",
      "m13_pred\n",
      "        count      mean       std  min  25%  50%  75%  max\n",
      "flag                                                      \n",
      "fn       79.0  0.126582  0.334629  0.0  0.0  0.0  0.0  1.0\n",
      "fp       46.0  0.782609  0.417029  0.0  1.0  1.0  1.0  1.0\n",
      "tn    28810.0  0.001701  0.041206  0.0  0.0  0.0  0.0  1.0\n",
      "tp       80.0  0.950000  0.219320  0.0  1.0  1.0  1.0  1.0\n",
      "m13_ensemble\n",
      "        count      mean       std  min  25%  50%  75%  max\n",
      "flag                                                      \n",
      "fn       79.0  0.139241  0.348409  0.0  0.0  0.0  0.0  1.0\n",
      "fp       46.0  1.000000  0.000000  1.0  1.0  1.0  1.0  1.0\n",
      "tn    28810.0  0.001770  0.042037  0.0  0.0  0.0  0.0  1.0\n",
      "tp       80.0  1.000000  0.000000  1.0  1.0  1.0  1.0  1.0\n"
     ]
    }
   ],
   "source": [
    "for col_ in list(val_explore.drop(columns=drop_cols)):\n",
    "    if col_ == \"flag\":\n",
    "        continue\n",
    "    else:\n",
    "        print(col_)\n",
    "        print(col_level_summary[col_])"
   ]
  },
  {
   "cell_type": "markdown",
   "metadata": {},
   "source": [
    "m1 seems to be another important case. If someone defaults within m1, they are more likely to be delinquent. So if we add a flag that m1 >0 => then it might improve our recall"
   ]
  },
  {
   "cell_type": "markdown",
   "metadata": {},
   "source": [
    "# Difference between val and test datasets?\n",
    "Why is there so much difference in val error and leaderboard score? "
   ]
  },
  {
   "cell_type": "code",
   "execution_count": 98,
   "metadata": {},
   "outputs": [],
   "source": [
    "val_describe = val_explore.groupby(\"m12\").describe()\n",
    "test_describe = test_data.groupby(\"m12\").describe()"
   ]
  },
  {
   "cell_type": "code",
   "execution_count": 120,
   "metadata": {},
   "outputs": [
    {
     "data": {
      "text/plain": [
       "<matplotlib.axes._subplots.AxesSubplot at 0x2603fd71278>"
      ]
     },
     "execution_count": 120,
     "metadata": {},
     "output_type": "execute_result"
    },
    {
     "data": {
      "image/png": "[encoded data removed]",
      "text/plain": [
       "<Figure size 432x288 with 1 Axes>"
      ]
     },
     "metadata": {
      "needs_background": "light"
     },
     "output_type": "display_data"
    }
   ],
   "source": [
    "test_describe[\"m1\"][\"mean\"].plot()\n",
    "val_describe[\"m1\"][\"mean\"].plot()"
   ]
  },
  {
   "cell_type": "code",
   "execution_count": 106,
   "metadata": {},
   "outputs": [
    {
     "name": "stdout",
     "output_type": "stream",
     "text": [
      "interest_rate\n",
      "Test\n",
      "       count      mean       std    min      25%     50%      75%    max\n",
      "m12                                                                     \n",
      "0    35724.0  3.871759  0.460194  2.375  3.50000  3.8750  4.12500  6.625\n",
      "1      103.0  4.102854  0.449253  3.000  3.87500  4.1250  4.37500  5.125\n",
      "2       11.0  4.279545  0.460546  3.700  4.06250  4.2500  4.37500  5.500\n",
      "3       11.0  4.079545  0.720834  2.500  3.81250  4.0000  4.43750  5.125\n",
      "4        2.0  4.375000  0.176777  4.250  4.31250  4.3750  4.43750  4.500\n",
      "5        4.0  4.185000  0.256223  3.875  4.06250  4.1875  4.31000  4.490\n",
      "6        4.0  4.375000  0.102062  4.250  4.34375  4.3750  4.40625  4.500\n",
      "7        4.0  4.500000  0.568258  4.000  4.09375  4.3750  4.78125  5.250\n",
      "8        2.0  4.437500  0.088388  4.375  4.40625  4.4375  4.46875  4.500\n",
      "9        1.0  4.500000       NaN  4.500  4.50000  4.5000  4.50000  4.500\n",
      "\n",
      "Val\n",
      "       count      mean       std    min     25%    50%      75%    max\n",
      "m12                                                                   \n",
      "0    28889.0  3.865776  0.460857  2.250  3.5000  3.875  4.12500  6.750\n",
      "1       88.0  4.205227  0.472736  2.875  3.8750  4.250  4.50000  5.750\n",
      "2       13.0  4.269231  0.525015  3.375  4.0000  4.375  4.62500  5.000\n",
      "3       15.0  4.391667  0.414219  3.750  4.1875  4.375  4.50000  5.250\n",
      "4        1.0  4.500000       NaN  4.500  4.5000  4.500  4.50000  4.500\n",
      "5        1.0  4.375000       NaN  4.375  4.3750  4.375  4.37500  4.375\n",
      "6        4.0  4.156250  0.328744  3.875  3.8750  4.125  4.40625  4.500\n",
      "7        1.0  3.875000       NaN  3.875  3.8750  3.875  3.87500  3.875\n",
      "8        1.0  3.750000       NaN  3.750  3.7500  3.750  3.75000  3.750\n",
      "9        1.0  3.875000       NaN  3.875  3.8750  3.875  3.87500  3.875\n",
      "11       1.0  4.625000       NaN  4.625  4.6250  4.625  4.62500  4.625\n",
      "\n",
      "\n",
      "\n",
      "unpaid_principal_bal\n",
      "Test\n",
      "       count           mean            std       min       25%       50%  \\\n",
      "m12                                                                        \n",
      "0    35724.0  207834.089128  114558.937090   15000.0  120000.0  182000.0   \n",
      "1      103.0  186611.650485  104574.603543   33000.0  104000.0  159000.0   \n",
      "2       11.0  216727.272727  211109.967036   60000.0  118500.0  137000.0   \n",
      "3       11.0  186636.363636   87418.845482   94000.0  128500.0  157000.0   \n",
      "4        2.0  178000.000000   82024.386618  120000.0  149000.0  178000.0   \n",
      "5        4.0  151500.000000   90864.367787   85000.0   97000.0  118500.0   \n",
      "6        4.0  232000.000000  137799.371068   63000.0  183000.0  232500.0   \n",
      "7        4.0  217250.000000  149424.172520   75000.0  116250.0  191000.0   \n",
      "8        2.0  198000.000000  155563.491861   88000.0  143000.0  198000.0   \n",
      "9        1.0  216000.000000            NaN  216000.0  216000.0  216000.0   \n",
      "\n",
      "          75%       max  \n",
      "m12                      \n",
      "0    278000.0  802000.0  \n",
      "1    244000.0  484000.0  \n",
      "2    232500.0  800000.0  \n",
      "3    222500.0  382000.0  \n",
      "4    207000.0  236000.0  \n",
      "5    173000.0  284000.0  \n",
      "6    281500.0  400000.0  \n",
      "7    292000.0  412000.0  \n",
      "8    253000.0  308000.0  \n",
      "9    216000.0  216000.0  \n",
      "\n",
      "Val\n",
      "       count           mean            std       min       25%       50%  \\\n",
      "m12                                                                        \n",
      "0    28889.0  208365.883208  114820.825136   14000.0  120000.0  183000.0   \n",
      "1       88.0  192079.545455  118232.016357   38000.0  113750.0  155500.0   \n",
      "2       13.0  139923.076923   44468.081321   72000.0  119000.0  138000.0   \n",
      "3       15.0  154000.000000   85544.474648   55000.0  101500.0  148000.0   \n",
      "4        1.0  137000.000000            NaN  137000.0  137000.0  137000.0   \n",
      "5        1.0  153000.000000            NaN  153000.0  153000.0  153000.0   \n",
      "6        4.0  164750.000000   89712.039326   71000.0   96500.0  172500.0   \n",
      "7        1.0  143000.000000            NaN  143000.0  143000.0  143000.0   \n",
      "8        1.0   74000.000000            NaN   74000.0   74000.0   74000.0   \n",
      "9        1.0  300000.000000            NaN  300000.0  300000.0  300000.0   \n",
      "11       1.0   71000.000000            NaN   71000.0   71000.0   71000.0   \n",
      "\n",
      "          75%       max  \n",
      "m12                      \n",
      "0    277000.0  720000.0  \n",
      "1    245000.0  610000.0  \n",
      "2    154000.0  214000.0  \n",
      "3    193500.0  380000.0  \n",
      "4    137000.0  137000.0  \n",
      "5    153000.0  153000.0  \n",
      "6    240750.0  243000.0  \n",
      "7    143000.0  143000.0  \n",
      "8     74000.0   74000.0  \n",
      "9    300000.0  300000.0  \n",
      "11    71000.0   71000.0  \n",
      "\n",
      "\n",
      "\n",
      "loan_term\n",
      "Test\n",
      "       count        mean        std    min    25%    50%    75%    max\n",
      "m12                                                                   \n",
      "0    35724.0  293.038993  89.334846   60.0  180.0  360.0  360.0  360.0\n",
      "1      103.0  309.902913  80.628598  120.0  240.0  360.0  360.0  360.0\n",
      "2       11.0  349.090909  36.181361  240.0  360.0  360.0  360.0  360.0\n",
      "3       11.0  294.545455  90.814496  180.0  180.0  360.0  360.0  360.0\n",
      "4        2.0  360.000000   0.000000  360.0  360.0  360.0  360.0  360.0\n",
      "5        4.0  345.000000  30.000000  300.0  345.0  360.0  360.0  360.0\n",
      "6        4.0  360.000000   0.000000  360.0  360.0  360.0  360.0  360.0\n",
      "7        4.0  315.000000  90.000000  180.0  315.0  360.0  360.0  360.0\n",
      "8        2.0  360.000000   0.000000  360.0  360.0  360.0  360.0  360.0\n",
      "9        1.0  360.000000        NaN  360.0  360.0  360.0  360.0  360.0\n",
      "\n",
      "Val\n",
      "       count        mean        std    min    25%    50%    75%    max\n",
      "m12                                                                   \n",
      "0    28889.0  292.128076  89.880660   60.0  180.0  360.0  360.0  360.0\n",
      "1       88.0  322.500000  76.282144  120.0  360.0  360.0  360.0  360.0\n",
      "2       13.0  332.307692  67.596085  180.0  360.0  360.0  360.0  360.0\n",
      "3       15.0  346.400000  52.672574  156.0  360.0  360.0  360.0  360.0\n",
      "4        1.0  360.000000        NaN  360.0  360.0  360.0  360.0  360.0\n",
      "5        1.0  360.000000        NaN  360.0  360.0  360.0  360.0  360.0\n",
      "6        4.0  315.000000  90.000000  180.0  315.0  360.0  360.0  360.0\n",
      "7        1.0  180.000000        NaN  180.0  180.0  180.0  180.0  180.0\n",
      "8        1.0  180.000000        NaN  180.0  180.0  180.0  180.0  180.0\n",
      "9        1.0  240.000000        NaN  240.0  240.0  240.0  240.0  240.0\n",
      "11       1.0  180.000000        NaN  180.0  180.0  180.0  180.0  180.0\n",
      "\n",
      "\n",
      "\n",
      "loan_to_value\n",
      "Test\n",
      "       count       mean        std   min    25%   50%    75%   max\n",
      "m12                                                               \n",
      "0    35724.0  67.363873  17.248458   5.0  57.00  72.0  80.00  97.0\n",
      "1      103.0  72.650485  15.935968  34.0  64.50  77.0  80.00  97.0\n",
      "2       11.0  77.545455  12.452820  55.0  70.50  80.0  84.50  95.0\n",
      "3       11.0  80.090909  17.172388  33.0  80.00  80.0  91.00  95.0\n",
      "4        2.0  67.000000  18.384776  54.0  60.50  67.0  73.50  80.0\n",
      "5        4.0  56.000000  17.224014  39.0  48.75  52.5  59.75  80.0\n",
      "6        4.0  78.750000  14.361407  60.0  75.00  80.0  83.75  95.0\n",
      "7        4.0  77.500000   5.000000  70.0  77.50  80.0  80.00  80.0\n",
      "8        2.0  81.500000   3.535534  79.0  80.25  81.5  82.75  84.0\n",
      "9        1.0  80.000000        NaN  80.0  80.00  80.0  80.00  80.0\n",
      "\n",
      "Val\n",
      "       count       mean        std   min    25%   50%   75%   max\n",
      "m12                                                              \n",
      "0    28889.0  67.432102  17.348822   6.0  57.00  72.0  80.0  97.0\n",
      "1       88.0  70.284091  16.355918  17.0  63.75  75.0  80.0  95.0\n",
      "2       13.0  72.923077  14.209513  43.0  72.00  75.0  80.0  95.0\n",
      "3       15.0  77.466667   5.316641  70.0  73.50  77.0  80.0  87.0\n",
      "4        1.0  67.000000        NaN  67.0  67.00  67.0  67.0  67.0\n",
      "5        1.0  71.000000        NaN  71.0  71.00  71.0  71.0  71.0\n",
      "6        4.0  58.500000  21.126603  32.0  47.00  61.0  72.5  80.0\n",
      "7        1.0  80.000000        NaN  80.0  80.00  80.0  80.0  80.0\n",
      "8        1.0  43.000000        NaN  43.0  43.00  43.0  43.0  43.0\n",
      "9        1.0  69.000000        NaN  69.0  69.00  69.0  69.0  69.0\n",
      "11       1.0  76.000000        NaN  76.0  76.00  76.0  76.0  76.0\n",
      "\n",
      "\n",
      "\n",
      "number_of_borrowers\n",
      "Test\n",
      "       count      mean       std  min   25%  50%   75%  max\n",
      "m12                                                        \n",
      "0    35724.0  1.597637  0.490381  1.0  1.00  2.0  2.00  2.0\n",
      "1      103.0  1.407767  0.493822  1.0  1.00  1.0  2.00  2.0\n",
      "2       11.0  1.363636  0.504525  1.0  1.00  1.0  2.00  2.0\n",
      "3       11.0  1.363636  0.504525  1.0  1.00  1.0  2.00  2.0\n",
      "4        2.0  1.000000  0.000000  1.0  1.00  1.0  1.00  1.0\n",
      "5        4.0  1.500000  0.577350  1.0  1.00  1.5  2.00  2.0\n",
      "6        4.0  1.250000  0.500000  1.0  1.00  1.0  1.25  2.0\n",
      "7        4.0  1.250000  0.500000  1.0  1.00  1.0  1.25  2.0\n",
      "8        2.0  1.500000  0.707107  1.0  1.25  1.5  1.75  2.0\n",
      "9        1.0  1.000000       NaN  1.0  1.00  1.0  1.00  1.0\n",
      "\n",
      "Val\n",
      "       count      mean       std  min  25%  50%   75%  max\n",
      "m12                                                       \n",
      "0    28889.0  1.597148  0.490480  1.0  1.0  2.0  2.00  2.0\n",
      "1       88.0  1.477273  0.502346  1.0  1.0  1.0  2.00  2.0\n",
      "2       13.0  1.307692  0.480384  1.0  1.0  1.0  2.00  2.0\n",
      "3       15.0  1.266667  0.457738  1.0  1.0  1.0  1.50  2.0\n",
      "4        1.0  1.000000       NaN  1.0  1.0  1.0  1.00  1.0\n",
      "5        1.0  1.000000       NaN  1.0  1.0  1.0  1.00  1.0\n",
      "6        4.0  1.250000  0.500000  1.0  1.0  1.0  1.25  2.0\n",
      "7        1.0  1.000000       NaN  1.0  1.0  1.0  1.00  1.0\n",
      "8        1.0  1.000000       NaN  1.0  1.0  1.0  1.00  1.0\n",
      "9        1.0  1.000000       NaN  1.0  1.0  1.0  1.00  1.0\n",
      "11       1.0  1.000000       NaN  1.0  1.0  1.0  1.00  1.0\n",
      "\n",
      "\n",
      "\n",
      "debt_to_income_ratio\n",
      "Test\n",
      "       count       mean       std   min    25%   50%    75%   max\n",
      "m12                                                              \n",
      "0    35724.0  30.747537  9.724840   1.0  23.00  31.0  39.00  55.0\n",
      "1      103.0  34.077670  9.852530   5.0  29.00  36.0  41.00  50.0\n",
      "2       11.0  36.545455  8.079154  22.0  32.00  39.0  42.00  47.0\n",
      "3       11.0  36.000000  7.874008  20.0  32.50  40.0  40.50  44.0\n",
      "4        2.0  39.500000  6.363961  35.0  37.25  39.5  41.75  44.0\n",
      "5        4.0  34.250000  7.889867  26.0  31.25  33.0  36.00  45.0\n",
      "6        4.0  36.000000  8.906926  26.0  29.75  37.0  43.25  44.0\n",
      "7        4.0  37.750000  7.455423  27.0  36.00  40.0  41.75  44.0\n",
      "8        2.0  38.000000  4.242641  35.0  36.50  38.0  39.50  41.0\n",
      "9        1.0  21.000000       NaN  21.0  21.00  21.0  21.00  21.0\n",
      "\n",
      "Val\n",
      "       count       mean        std   min   25%   50%    75%   max\n",
      "m12                                                              \n",
      "0    28889.0  30.737720   9.693720   2.0  23.0  31.0  39.00  64.0\n",
      "1       88.0  34.363636   8.830696   9.0  29.0  35.5  42.00  49.0\n",
      "2       13.0  36.000000  10.107753  14.0  35.0  38.0  41.00  48.0\n",
      "3       15.0  41.400000   5.754501  30.0  39.5  41.0  44.50  50.0\n",
      "4        1.0  32.000000        NaN  32.0  32.0  32.0  32.00  32.0\n",
      "5        1.0  42.000000        NaN  42.0  42.0  42.0  42.00  42.0\n",
      "6        4.0  44.250000   1.500000  43.0  43.0  44.0  45.25  46.0\n",
      "7        1.0  43.000000        NaN  43.0  43.0  43.0  43.00  43.0\n",
      "8        1.0  38.000000        NaN  38.0  38.0  38.0  38.00  38.0\n",
      "9        1.0  43.000000        NaN  43.0  43.0  43.0  43.00  43.0\n",
      "11       1.0  30.000000        NaN  30.0  30.0  30.0  30.00  30.0\n",
      "\n",
      "\n",
      "\n",
      "borrower_credit_score\n",
      "Test\n",
      "       count        mean         std    min     25%    50%     75%    max\n",
      "m12                                                                      \n",
      "0    35724.0  770.184918   41.191295    0.0  751.00  782.0  799.00  839.0\n",
      "1      103.0  705.145631  113.298531    0.0  671.00  715.0  765.00  810.0\n",
      "2       11.0  711.181818   52.222252  623.0  679.50  704.0  754.50  787.0\n",
      "3       11.0  702.909091   44.128119  633.0  675.50  701.0  725.50  770.0\n",
      "4        2.0  700.000000   28.284271  680.0  690.00  700.0  710.00  720.0\n",
      "5        4.0  686.500000   43.378182  646.0  654.25  680.0  712.25  740.0\n",
      "6        4.0  714.000000   61.822326  644.0  680.75  710.5  743.75  791.0\n",
      "7        4.0  679.500000   31.859065  645.0  659.25  677.5  697.75  718.0\n",
      "8        2.0  701.500000   12.020815  693.0  697.25  701.5  705.75  710.0\n",
      "9        1.0  790.000000         NaN  790.0  790.00  790.0  790.00  790.0\n",
      "\n",
      "Val\n",
      "       count        mean        std    min     25%    50%     75%    max\n",
      "m12                                                                     \n",
      "0    28889.0  770.346083  41.825470    0.0  751.00  782.0  800.00  834.0\n",
      "1       88.0  712.386364  50.698666  620.0  676.25  703.5  754.50  811.0\n",
      "2       13.0  688.153846  51.542614  627.0  654.00  667.0  721.00  805.0\n",
      "3       15.0  708.800000  48.308828  649.0  665.50  727.0  732.50  795.0\n",
      "4        1.0  635.000000        NaN  635.0  635.00  635.0  635.00  635.0\n",
      "5        1.0  764.000000        NaN  764.0  764.00  764.0  764.00  764.0\n",
      "6        4.0  692.750000  62.216691  629.0  665.00  682.0  709.75  778.0\n",
      "7        1.0  699.000000        NaN  699.0  699.00  699.0  699.00  699.0\n",
      "8        1.0  679.000000        NaN  679.0  679.00  679.0  679.00  679.0\n",
      "9        1.0  720.000000        NaN  720.0  720.00  720.0  720.00  720.0\n",
      "11       1.0  651.000000        NaN  651.0  651.00  651.0  651.00  651.0\n",
      "\n",
      "\n",
      "\n",
      "insurance_percent\n",
      "Test\n",
      "       count      mean        std  min  25%  50%   75%   max\n",
      "m12                                                         \n",
      "0    35724.0  2.717697   8.013432  0.0  0.0  0.0   0.0  35.0\n",
      "1      103.0  5.601942  10.826927  0.0  0.0  0.0   0.0  35.0\n",
      "2       11.0  7.727273  13.297300  0.0  0.0  0.0  12.5  30.0\n",
      "3       11.0  9.272727  13.777452  0.0  0.0  0.0  21.0  30.0\n",
      "4        2.0  0.000000   0.000000  0.0  0.0  0.0   0.0   0.0\n",
      "5        4.0  0.000000   0.000000  0.0  0.0  0.0   0.0   0.0\n",
      "6        4.0  7.500000  15.000000  0.0  0.0  0.0   7.5  30.0\n",
      "7        4.0  0.000000   0.000000  0.0  0.0  0.0   0.0   0.0\n",
      "8        2.0  6.000000   8.485281  0.0  3.0  6.0   9.0  12.0\n",
      "9        1.0  0.000000        NaN  0.0  0.0  0.0   0.0   0.0\n",
      "\n",
      "Val\n",
      "       count      mean       std  min  25%  50%  75%   max\n",
      "m12                                                       \n",
      "0    28889.0  2.828793  8.133176  0.0  0.0  0.0  0.0  35.0\n",
      "1       88.0  3.147727  8.541366  0.0  0.0  0.0  0.0  30.0\n",
      "2       13.0  2.769231  8.348192  0.0  0.0  0.0  0.0  30.0\n",
      "3       15.0  2.400000  4.968472  0.0  0.0  0.0  0.0  12.0\n",
      "4        1.0  0.000000       NaN  0.0  0.0  0.0  0.0   0.0\n",
      "5        1.0  0.000000       NaN  0.0  0.0  0.0  0.0   0.0\n",
      "6        4.0  0.000000  0.000000  0.0  0.0  0.0  0.0   0.0\n",
      "7        1.0  0.000000       NaN  0.0  0.0  0.0  0.0   0.0\n",
      "8        1.0  0.000000       NaN  0.0  0.0  0.0  0.0   0.0\n",
      "9        1.0  0.000000       NaN  0.0  0.0  0.0  0.0   0.0\n",
      "11       1.0  0.000000       NaN  0.0  0.0  0.0  0.0   0.0\n",
      "\n",
      "\n",
      "\n",
      "co-borrower_credit_score\n",
      "Test\n",
      "       count        mean         std  min     25%    50%     75%    max\n",
      "m12                                                                    \n",
      "0    35724.0  463.163056  381.247610  0.0    0.00  742.0  791.00  832.0\n",
      "1      103.0  293.621359  357.292244  0.0    0.00    0.0  699.50  804.0\n",
      "2       11.0  270.727273  375.730247  0.0    0.00    0.0  732.00  762.0\n",
      "3       11.0  256.909091  357.479637  0.0    0.00    0.0  672.00  776.0\n",
      "4        2.0    0.000000    0.000000  0.0    0.00    0.0    0.00    0.0\n",
      "5        4.0  359.000000  418.459078  0.0    0.00  324.0  683.00  788.0\n",
      "6        4.0  189.250000  378.500000  0.0    0.00    0.0  189.25  757.0\n",
      "7        4.0  181.500000  363.000000  0.0    0.00    0.0  181.50  726.0\n",
      "8        2.0  375.500000  531.037193  0.0  187.75  375.5  563.25  751.0\n",
      "9        1.0    0.000000         NaN  0.0    0.00    0.0    0.00    0.0\n",
      "\n",
      "Val\n",
      "       count        mean         std  min  25%    50%     75%    max\n",
      "m12                                                                 \n",
      "0    28889.0  462.914223  381.393524  0.0  0.0  742.0  791.00  832.0\n",
      "1       88.0  345.443182  365.160644  0.0  0.0    0.0  715.00  809.0\n",
      "2       13.0  220.384615  345.202486  0.0  0.0    0.0  683.00  799.0\n",
      "3       15.0  185.800000  321.074357  0.0  0.0    0.0  312.50  793.0\n",
      "4        1.0    0.000000         NaN  0.0  0.0    0.0    0.00    0.0\n",
      "5        1.0    0.000000         NaN  0.0  0.0    0.0    0.00    0.0\n",
      "6        4.0  191.750000  383.500000  0.0  0.0    0.0  191.75  767.0\n",
      "7        1.0    0.000000         NaN  0.0  0.0    0.0    0.00    0.0\n",
      "8        1.0    0.000000         NaN  0.0  0.0    0.0    0.00    0.0\n",
      "9        1.0    0.000000         NaN  0.0  0.0    0.0    0.00    0.0\n",
      "11       1.0    0.000000         NaN  0.0  0.0    0.0    0.00    0.0\n",
      "\n",
      "\n",
      "\n",
      "m1\n",
      "Test\n",
      "       count      mean       std  min   25%  50%   75%  max\n",
      "m12                                                        \n",
      "0    35724.0  0.002715  0.059091  0.0  0.00  0.0  0.00  3.0\n",
      "1      103.0  0.038835  0.239375  0.0  0.00  0.0  0.00  2.0\n",
      "2       11.0  0.000000  0.000000  0.0  0.00  0.0  0.00  0.0\n",
      "3       11.0  0.000000  0.000000  0.0  0.00  0.0  0.00  0.0\n",
      "4        2.0  0.500000  0.707107  0.0  0.25  0.5  0.75  1.0\n",
      "5        4.0  0.000000  0.000000  0.0  0.00  0.0  0.00  0.0\n",
      "6        4.0  0.000000  0.000000  0.0  0.00  0.0  0.00  0.0\n",
      "7        4.0  0.000000  0.000000  0.0  0.00  0.0  0.00  0.0\n",
      "8        2.0  0.000000  0.000000  0.0  0.00  0.0  0.00  0.0\n",
      "9        1.0  0.000000       NaN  0.0  0.00  0.0  0.00  0.0\n",
      "\n",
      "Val\n",
      "       count      mean       std  min  25%  50%   75%  max\n",
      "m12                                                       \n",
      "0    28889.0  0.002908  0.062198  0.0  0.0  0.0  0.00  3.0\n",
      "1       88.0  0.045455  0.258603  0.0  0.0  0.0  0.00  2.0\n",
      "2       13.0  0.076923  0.277350  0.0  0.0  0.0  0.00  1.0\n",
      "3       15.0  0.066667  0.258199  0.0  0.0  0.0  0.00  1.0\n",
      "4        1.0  0.000000       NaN  0.0  0.0  0.0  0.00  0.0\n",
      "5        1.0  0.000000       NaN  0.0  0.0  0.0  0.00  0.0\n",
      "6        4.0  0.250000  0.500000  0.0  0.0  0.0  0.25  1.0\n",
      "7        1.0  0.000000       NaN  0.0  0.0  0.0  0.00  0.0\n",
      "8        1.0  0.000000       NaN  0.0  0.0  0.0  0.00  0.0\n",
      "9        1.0  1.000000       NaN  1.0  1.0  1.0  1.00  1.0\n",
      "11       1.0  0.000000       NaN  0.0  0.0  0.0  0.00  0.0\n",
      "\n",
      "\n",
      "\n",
      "m2\n",
      "Test\n",
      "       count      mean       std  min  25%  50%  75%  max\n",
      "m12                                                      \n",
      "0    35724.0  0.001987  0.054179  0.0  0.0  0.0  0.0  4.0\n",
      "1      103.0  0.087379  0.373295  0.0  0.0  0.0  0.0  3.0\n",
      "2       11.0  0.090909  0.301511  0.0  0.0  0.0  0.0  1.0\n",
      "3       11.0  0.000000  0.000000  0.0  0.0  0.0  0.0  0.0\n",
      "4        2.0  1.000000  1.414214  0.0  0.5  1.0  1.5  2.0\n",
      "5        4.0  0.000000  0.000000  0.0  0.0  0.0  0.0  0.0\n",
      "6        4.0  0.000000  0.000000  0.0  0.0  0.0  0.0  0.0\n",
      "7        4.0  0.000000  0.000000  0.0  0.0  0.0  0.0  0.0\n",
      "8        2.0  0.000000  0.000000  0.0  0.0  0.0  0.0  0.0\n",
      "9        1.0  0.000000       NaN  0.0  0.0  0.0  0.0  0.0\n",
      "\n",
      "Val\n",
      "       count      mean       std  min  25%  50%  75%  max\n",
      "m12                                                      \n",
      "0    28889.0  0.001246  0.041584  0.0  0.0  0.0  0.0  4.0\n",
      "1       88.0  0.113636  0.384523  0.0  0.0  0.0  0.0  2.0\n",
      "2       13.0  0.230769  0.599145  0.0  0.0  0.0  0.0  2.0\n",
      "3       15.0  0.200000  0.414039  0.0  0.0  0.0  0.0  1.0\n",
      "4        1.0  0.000000       NaN  0.0  0.0  0.0  0.0  0.0\n",
      "5        1.0  0.000000       NaN  0.0  0.0  0.0  0.0  0.0\n",
      "6        4.0  0.500000  1.000000  0.0  0.0  0.0  0.5  2.0\n",
      "7        1.0  0.000000       NaN  0.0  0.0  0.0  0.0  0.0\n",
      "8        1.0  0.000000       NaN  0.0  0.0  0.0  0.0  0.0\n",
      "9        1.0  0.000000       NaN  0.0  0.0  0.0  0.0  0.0\n",
      "11       1.0  1.000000       NaN  1.0  1.0  1.0  1.0  1.0\n",
      "\n",
      "\n",
      "\n",
      "m3\n",
      "Test\n",
      "       count      mean       std  min   25%  50%   75%  max\n",
      "m12                                                        \n",
      "0    35724.0  0.001708  0.054702  0.0  0.00  0.0  0.00  5.0\n",
      "1      103.0  0.048544  0.215963  0.0  0.00  0.0  0.00  1.0\n",
      "2       11.0  0.000000  0.000000  0.0  0.00  0.0  0.00  0.0\n",
      "3       11.0  0.090909  0.301511  0.0  0.00  0.0  0.00  1.0\n",
      "4        2.0  0.500000  0.707107  0.0  0.25  0.5  0.75  1.0\n",
      "5        4.0  0.250000  0.500000  0.0  0.00  0.0  0.25  1.0\n",
      "6        4.0  0.000000  0.000000  0.0  0.00  0.0  0.00  0.0\n",
      "7        4.0  0.250000  0.500000  0.0  0.00  0.0  0.25  1.0\n",
      "8        2.0  0.000000  0.000000  0.0  0.00  0.0  0.00  0.0\n",
      "9        1.0  0.000000       NaN  0.0  0.00  0.0  0.00  0.0\n",
      "\n",
      "Val\n",
      "       count      mean       std  min  25%  50%  75%  max\n",
      "m12                                                      \n",
      "0    28889.0  0.001108  0.043221  0.0  0.0  0.0  0.0  5.0\n",
      "1       88.0  0.113636  0.413336  0.0  0.0  0.0  0.0  3.0\n",
      "2       13.0  0.307692  0.630425  0.0  0.0  0.0  0.0  2.0\n",
      "3       15.0  0.400000  0.736788  0.0  0.0  0.0  0.5  2.0\n",
      "4        1.0  0.000000       NaN  0.0  0.0  0.0  0.0  0.0\n",
      "5        1.0  0.000000       NaN  0.0  0.0  0.0  0.0  0.0\n",
      "6        4.0  0.000000  0.000000  0.0  0.0  0.0  0.0  0.0\n",
      "7        1.0  0.000000       NaN  0.0  0.0  0.0  0.0  0.0\n",
      "8        1.0  0.000000       NaN  0.0  0.0  0.0  0.0  0.0\n",
      "9        1.0  0.000000       NaN  0.0  0.0  0.0  0.0  0.0\n",
      "11       1.0  2.000000       NaN  2.0  2.0  2.0  2.0  2.0\n",
      "\n",
      "\n",
      "\n",
      "m4\n",
      "Test\n",
      "       count      mean       std  min  25%  50%   75%  max\n",
      "m12                                                       \n",
      "0    35724.0  0.001400  0.051278  0.0  0.0  0.0  0.00  5.0\n",
      "1      103.0  0.106796  0.393890  0.0  0.0  0.0  0.00  3.0\n",
      "2       11.0  0.181818  0.404520  0.0  0.0  0.0  0.00  1.0\n",
      "3       11.0  0.181818  0.404520  0.0  0.0  0.0  0.00  1.0\n",
      "4        2.0  0.000000  0.000000  0.0  0.0  0.0  0.00  0.0\n",
      "5        4.0  0.750000  0.957427  0.0  0.0  0.5  1.25  2.0\n",
      "6        4.0  0.250000  0.500000  0.0  0.0  0.0  0.25  1.0\n",
      "7        4.0  0.500000  1.000000  0.0  0.0  0.0  0.50  2.0\n",
      "8        2.0  0.000000  0.000000  0.0  0.0  0.0  0.00  0.0\n",
      "9        1.0  1.000000       NaN  1.0  1.0  1.0  1.00  1.0\n",
      "\n",
      "Val\n",
      "       count      mean       std  min  25%  50%   75%  max\n",
      "m12                                                       \n",
      "0    28889.0  0.001454  0.053258  0.0  0.0  0.0  0.00  6.0\n",
      "1       88.0  0.136364  0.507004  0.0  0.0  0.0  0.00  4.0\n",
      "2       13.0  0.538462  0.660225  0.0  0.0  0.0  1.00  2.0\n",
      "3       15.0  0.133333  0.351866  0.0  0.0  0.0  0.00  1.0\n",
      "4        1.0  0.000000       NaN  0.0  0.0  0.0  0.00  0.0\n",
      "5        1.0  0.000000       NaN  0.0  0.0  0.0  0.00  0.0\n",
      "6        4.0  0.750000  1.500000  0.0  0.0  0.0  0.75  3.0\n",
      "7        1.0  1.000000       NaN  1.0  1.0  1.0  1.00  1.0\n",
      "8        1.0  0.000000       NaN  0.0  0.0  0.0  0.00  0.0\n",
      "9        1.0  1.000000       NaN  1.0  1.0  1.0  1.00  1.0\n",
      "11       1.0  3.000000       NaN  3.0  3.0  3.0  3.00  3.0\n",
      "\n",
      "\n",
      "\n",
      "m5\n",
      "Test\n",
      "       count      mean       std  min   25%  50%   75%  max\n",
      "m12                                                        \n",
      "0    35724.0  0.001792  0.062128  0.0  0.00  0.0  0.00  6.0\n",
      "1      103.0  0.135922  0.371762  0.0  0.00  0.0  0.00  2.0\n",
      "2       11.0  0.181818  0.404520  0.0  0.00  0.0  0.00  1.0\n",
      "3       11.0  0.272727  0.646670  0.0  0.00  0.0  0.00  2.0\n",
      "4        2.0  0.500000  0.707107  0.0  0.25  0.5  0.75  1.0\n",
      "5        4.0  0.500000  1.000000  0.0  0.00  0.0  0.50  2.0\n",
      "6        4.0  0.750000  0.500000  0.0  0.75  1.0  1.00  1.0\n",
      "7        4.0  1.000000  1.414214  0.0  0.00  0.5  1.50  3.0\n",
      "8        2.0  1.000000  0.000000  1.0  1.00  1.0  1.00  1.0\n",
      "9        1.0  2.000000       NaN  2.0  2.00  2.0  2.00  2.0\n",
      "\n",
      "Val\n",
      "       count      mean       std  min  25%  50%   75%  max\n",
      "m12                                                       \n",
      "0    28889.0  0.002388  0.071778  0.0  0.0  0.0  0.00  7.0\n",
      "1       88.0  0.250000  0.682288  0.0  0.0  0.0  0.00  5.0\n",
      "2       13.0  0.769231  0.832050  0.0  0.0  1.0  1.00  2.0\n",
      "3       15.0  0.400000  0.736788  0.0  0.0  0.0  0.50  2.0\n",
      "4        1.0  1.000000       NaN  1.0  1.0  1.0  1.00  1.0\n",
      "5        1.0  0.000000       NaN  0.0  0.0  0.0  0.00  0.0\n",
      "6        4.0  1.250000  1.892969  0.0  0.0  0.5  1.75  4.0\n",
      "7        1.0  1.000000       NaN  1.0  1.0  1.0  1.00  1.0\n",
      "8        1.0  1.000000       NaN  1.0  1.0  1.0  1.00  1.0\n",
      "9        1.0  2.000000       NaN  2.0  2.0  2.0  2.00  2.0\n",
      "11       1.0  4.000000       NaN  4.0  4.0  4.0  4.00  4.0\n",
      "\n",
      "\n",
      "\n",
      "m6\n",
      "Test\n",
      "       count      mean       std  min   25%  50%   75%  max\n",
      "m12                                                        \n",
      "0    35724.0  0.001372  0.049895  0.0  0.00  0.0  0.00  6.0\n",
      "1      103.0  0.126214  0.412539  0.0  0.00  0.0  0.00  3.0\n",
      "2       11.0  0.181818  0.404520  0.0  0.00  0.0  0.00  1.0\n",
      "3       11.0  0.090909  0.301511  0.0  0.00  0.0  0.00  1.0\n",
      "4        2.0  0.500000  0.707107  0.0  0.25  0.5  0.75  1.0\n",
      "5        4.0  0.000000  0.000000  0.0  0.00  0.0  0.00  0.0\n",
      "6        4.0  1.000000  1.414214  0.0  0.00  0.5  1.50  3.0\n",
      "7        4.0  2.000000  1.414214  1.0  1.00  1.5  2.50  4.0\n",
      "8        2.0  2.000000  0.000000  2.0  2.00  2.0  2.00  2.0\n",
      "9        1.0  3.000000       NaN  3.0  3.00  3.0  3.00  3.0\n",
      "\n",
      "Val\n",
      "       count      mean       std  min  25%  50%   75%  max\n",
      "m12                                                       \n",
      "0    28889.0  0.001662  0.052598  0.0  0.0  0.0  0.00  4.0\n",
      "1       88.0  0.181818  0.751175  0.0  0.0  0.0  0.00  6.0\n",
      "2       13.0  0.846154  0.987096  0.0  0.0  1.0  1.00  3.0\n",
      "3       15.0  0.533333  1.060099  0.0  0.0  0.0  0.50  3.0\n",
      "4        1.0  1.000000       NaN  1.0  1.0  1.0  1.00  1.0\n",
      "5        1.0  0.000000       NaN  0.0  0.0  0.0  0.00  0.0\n",
      "6        4.0  1.750000  2.362908  0.0  0.0  1.0  2.75  5.0\n",
      "7        1.0  1.000000       NaN  1.0  1.0  1.0  1.00  1.0\n",
      "8        1.0  2.000000       NaN  2.0  2.0  2.0  2.00  2.0\n",
      "9        1.0  3.000000       NaN  3.0  3.0  3.0  3.00  3.0\n",
      "11       1.0  5.000000       NaN  5.0  5.0  5.0  5.00  5.0\n",
      "\n",
      "\n",
      "\n",
      "m7\n",
      "Test\n",
      "       count      mean       std  min  25%  50%   75%  max\n",
      "m12                                                       \n",
      "0    35724.0  0.002043  0.066263  0.0  0.0  0.0  0.00  7.0\n",
      "1      103.0  0.165049  0.506760  0.0  0.0  0.0  0.00  4.0\n",
      "2       11.0  0.090909  0.301511  0.0  0.0  0.0  0.00  1.0\n",
      "3       11.0  0.090909  0.301511  0.0  0.0  0.0  0.00  1.0\n",
      "4        2.0  1.000000  1.414214  0.0  0.5  1.0  1.50  2.0\n",
      "5        4.0  0.000000  0.000000  0.0  0.0  0.0  0.00  0.0\n",
      "6        4.0  2.000000  1.414214  1.0  1.0  1.5  2.50  4.0\n",
      "7        4.0  2.250000  0.500000  2.0  2.0  2.0  2.25  3.0\n",
      "8        2.0  3.000000  0.000000  3.0  3.0  3.0  3.00  3.0\n",
      "9        1.0  4.000000       NaN  4.0  4.0  4.0  4.00  4.0\n",
      "\n",
      "Val\n",
      "       count      mean       std  min  25%  50%   75%  max\n",
      "m12                                                       \n",
      "0    28889.0  0.001869  0.061115  0.0  0.0  0.0  0.00  5.0\n",
      "1       88.0  0.272727  0.826671  0.0  0.0  0.0  0.00  7.0\n",
      "2       13.0  1.000000  1.080123  0.0  0.0  1.0  1.00  4.0\n",
      "3       15.0  0.733333  0.883715  0.0  0.0  0.0  1.50  2.0\n",
      "4        1.0  2.000000       NaN  2.0  2.0  2.0  2.00  2.0\n",
      "5        1.0  0.000000       NaN  0.0  0.0  0.0  0.00  0.0\n",
      "6        4.0  2.750000  2.362908  1.0  1.0  2.0  3.75  6.0\n",
      "7        1.0  2.000000       NaN  2.0  2.0  2.0  2.00  2.0\n",
      "8        1.0  3.000000       NaN  3.0  3.0  3.0  3.00  3.0\n",
      "9        1.0  4.000000       NaN  4.0  4.0  4.0  4.00  4.0\n",
      "11       1.0  6.000000       NaN  6.0  6.0  6.0  6.00  6.0\n",
      "\n",
      "\n",
      "\n",
      "m8\n",
      "Test\n",
      "       count      mean       std  min   25%  50%   75%  max\n",
      "m12                                                        \n",
      "0    35724.0  0.001792  0.059363  0.0  0.00  0.0  0.00  5.0\n",
      "1      103.0  0.145631  0.381117  0.0  0.00  0.0  0.00  2.0\n",
      "2       11.0  0.454545  0.687552  0.0  0.00  0.0  1.00  2.0\n",
      "3       11.0  0.181818  0.404520  0.0  0.00  0.0  0.00  1.0\n",
      "4        2.0  2.000000  1.414214  1.0  1.50  2.0  2.50  3.0\n",
      "5        4.0  1.000000  0.816497  0.0  0.75  1.0  1.25  2.0\n",
      "6        4.0  3.000000  1.414214  2.0  2.00  2.5  3.50  5.0\n",
      "7        4.0  3.250000  0.500000  3.0  3.00  3.0  3.25  4.0\n",
      "8        2.0  4.000000  0.000000  4.0  4.00  4.0  4.00  4.0\n",
      "9        1.0  5.000000       NaN  5.0  5.00  5.0  5.00  5.0\n",
      "\n",
      "Val\n",
      "       count      mean       std  min  25%  50%   75%  max\n",
      "m12                                                       \n",
      "0    28889.0  0.002112  0.061951  0.0  0.0  0.0  0.00  6.0\n",
      "1       88.0  0.193182  0.425021  0.0  0.0  0.0  0.00  2.0\n",
      "2       13.0  1.153846  1.405119  0.0  0.0  1.0  2.00  5.0\n",
      "3       15.0  0.666667  0.816497  0.0  0.0  0.0  1.00  2.0\n",
      "4        1.0  2.000000       NaN  2.0  2.0  2.0  2.00  2.0\n",
      "5        1.0  1.000000       NaN  1.0  1.0  1.0  1.00  1.0\n",
      "6        4.0  3.750000  2.362908  2.0  2.0  3.0  4.75  7.0\n",
      "7        1.0  3.000000       NaN  3.0  3.0  3.0  3.00  3.0\n",
      "8        1.0  4.000000       NaN  4.0  4.0  4.0  4.00  4.0\n",
      "9        1.0  5.000000       NaN  5.0  5.0  5.0  5.00  5.0\n",
      "11       1.0  7.000000       NaN  7.0  7.0  7.0  7.00  7.0\n",
      "\n",
      "\n",
      "\n",
      "m9\n",
      "Test\n",
      "       count      mean       std  min  25%  50%   75%  max\n",
      "m12                                                       \n",
      "0    35724.0  0.001987  0.048161  0.0  0.0  0.0  0.00  3.0\n",
      "1      103.0  0.145631  0.354461  0.0  0.0  0.0  0.00  1.0\n",
      "2       11.0  0.545455  0.687552  0.0  0.0  0.0  1.00  2.0\n",
      "3       11.0  0.272727  0.467099  0.0  0.0  0.0  0.50  1.0\n",
      "4        2.0  2.000000  1.414214  1.0  1.5  2.0  2.50  3.0\n",
      "5        4.0  2.000000  0.000000  2.0  2.0  2.0  2.00  2.0\n",
      "6        4.0  3.750000  1.500000  3.0  3.0  3.0  3.75  6.0\n",
      "7        4.0  4.250000  0.500000  4.0  4.0  4.0  4.25  5.0\n",
      "8        2.0  5.000000  0.000000  5.0  5.0  5.0  5.00  5.0\n",
      "9        1.0  6.000000       NaN  6.0  6.0  6.0  6.00  6.0\n",
      "\n",
      "Val\n",
      "       count      mean       std  min  25%  50%   75%  max\n",
      "m12                                                       \n",
      "0    28889.0  0.002250  0.069330  0.0  0.0  0.0  0.00  7.0\n",
      "1       88.0  0.284091  0.566272  0.0  0.0  0.0  0.00  3.0\n",
      "2       13.0  0.923077  0.954074  0.0  0.0  1.0  1.00  3.0\n",
      "3       15.0  1.066667  0.883715  0.0  0.5  1.0  1.50  3.0\n",
      "4        1.0  3.000000       NaN  3.0  3.0  3.0  3.00  3.0\n",
      "5        1.0  2.000000       NaN  2.0  2.0  2.0  2.00  2.0\n",
      "6        4.0  4.750000  2.362908  3.0  3.0  4.0  5.75  8.0\n",
      "7        1.0  4.000000       NaN  4.0  4.0  4.0  4.00  4.0\n",
      "8        1.0  5.000000       NaN  5.0  5.0  5.0  5.00  5.0\n",
      "9        1.0  6.000000       NaN  6.0  6.0  6.0  6.00  6.0\n",
      "11       1.0  8.000000       NaN  8.0  8.0  8.0  8.00  8.0\n",
      "\n",
      "\n",
      "\n",
      "m10\n",
      "Test\n",
      "       count      mean       std  min   25%  50%   75%  max\n",
      "m12                                                        \n",
      "0    35724.0  0.002211  0.052062  0.0  0.00  0.0  0.00  3.0\n",
      "1      103.0  0.233010  0.468705  0.0  0.00  0.0  0.00  2.0\n",
      "2       11.0  0.545455  0.522233  0.0  0.00  1.0  1.00  1.0\n",
      "3       11.0  1.272727  0.467099  1.0  1.00  1.0  1.50  2.0\n",
      "4        2.0  2.500000  0.707107  2.0  2.25  2.5  2.75  3.0\n",
      "5        4.0  3.000000  0.000000  3.0  3.00  3.0  3.00  3.0\n",
      "6        4.0  4.750000  1.500000  4.0  4.00  4.0  4.75  7.0\n",
      "7        4.0  5.250000  0.500000  5.0  5.00  5.0  5.25  6.0\n",
      "8        2.0  6.000000  0.000000  6.0  6.00  6.0  6.00  6.0\n",
      "9        1.0  7.000000       NaN  7.0  7.00  7.0  7.00  7.0\n",
      "\n",
      "Val\n",
      "       count      mean       std  min  25%  50%   75%  max\n",
      "m12                                                       \n",
      "0    28889.0  0.002977  0.083568  0.0  0.0  0.0  0.00  8.0\n",
      "1       88.0  0.306818  0.554147  0.0  0.0  0.0  1.00  2.0\n",
      "2       13.0  0.846154  0.800641  0.0  0.0  1.0  1.00  2.0\n",
      "3       15.0  1.466667  0.833809  1.0  1.0  1.0  1.50  3.0\n",
      "4        1.0  3.000000       NaN  3.0  3.0  3.0  3.00  3.0\n",
      "5        1.0  3.000000       NaN  3.0  3.0  3.0  3.00  3.0\n",
      "6        4.0  5.750000  2.362908  4.0  4.0  5.0  6.75  9.0\n",
      "7        1.0  5.000000       NaN  5.0  5.0  5.0  5.00  5.0\n",
      "8        1.0  6.000000       NaN  6.0  6.0  6.0  6.00  6.0\n",
      "9        1.0  7.000000       NaN  7.0  7.0  7.0  7.00  7.0\n",
      "11       1.0  9.000000       NaN  9.0  9.0  9.0  9.00  9.0\n",
      "\n",
      "\n",
      "\n",
      "m11\n",
      "Test\n",
      "       count      mean       std  min  25%  50%   75%  max\n",
      "m12                                                       \n",
      "0    35724.0  0.001736  0.047879  0.0  0.0  0.0  0.00  4.0\n",
      "1      103.0  0.320388  0.489369  0.0  0.0  0.0  1.00  2.0\n",
      "2       11.0  1.000000  0.447214  0.0  1.0  1.0  1.00  2.0\n",
      "3       11.0  2.090909  0.301511  2.0  2.0  2.0  2.00  3.0\n",
      "4        2.0  3.000000  0.000000  3.0  3.0  3.0  3.00  3.0\n",
      "5        4.0  4.000000  0.000000  4.0  4.0  4.0  4.00  4.0\n",
      "6        4.0  5.750000  1.500000  5.0  5.0  5.0  5.75  8.0\n",
      "7        4.0  6.250000  0.500000  6.0  6.0  6.0  6.25  7.0\n",
      "8        2.0  7.000000  0.000000  7.0  7.0  7.0  7.00  7.0\n",
      "9        1.0  8.000000       NaN  8.0  8.0  8.0  8.00  8.0\n",
      "\n",
      "Val\n",
      "       count       mean       std   min   25%   50%    75%   max\n",
      "m12                                                             \n",
      "0    28889.0   0.002873  0.082948   0.0   0.0   0.0   0.00   7.0\n",
      "1       88.0   0.329545  0.581745   0.0   0.0   0.0   1.00   3.0\n",
      "2       13.0   1.307692  0.480384   1.0   1.0   1.0   2.00   2.0\n",
      "3       15.0   2.200000  0.414039   2.0   2.0   2.0   2.00   3.0\n",
      "4        1.0   4.000000       NaN   4.0   4.0   4.0   4.00   4.0\n",
      "5        1.0   4.000000       NaN   4.0   4.0   4.0   4.00   4.0\n",
      "6        4.0   5.750000  0.957427   5.0   5.0   5.5   6.25   7.0\n",
      "7        1.0   6.000000       NaN   6.0   6.0   6.0   6.00   6.0\n",
      "8        1.0   7.000000       NaN   7.0   7.0   7.0   7.00   7.0\n",
      "9        1.0   8.000000       NaN   8.0   8.0   8.0   8.00   8.0\n",
      "11       1.0  10.000000       NaN  10.0  10.0  10.0  10.00  10.0\n",
      "\n",
      "\n",
      "\n",
      "m12\n",
      "Test\n"
     ]
    },
    {
     "ename": "KeyError",
     "evalue": "'m12'",
     "output_type": "error",
     "traceback": [
      "\u001b[1;31m---------------------------------------------------------------------------\u001b[0m",
      "\u001b[1;31mKeyError\u001b[0m                                  Traceback (most recent call last)",
      "\u001b[1;32m~\\Anaconda3\\lib\\site-packages\\pandas\\core\\indexes\\base.py\u001b[0m in \u001b[0;36mget_loc\u001b[1;34m(self, key, method, tolerance)\u001b[0m\n\u001b[0;32m   3077\u001b[0m             \u001b[1;32mtry\u001b[0m\u001b[1;33m:\u001b[0m\u001b[1;33m\u001b[0m\u001b[1;33m\u001b[0m\u001b[0m\n\u001b[1;32m-> 3078\u001b[1;33m                 \u001b[1;32mreturn\u001b[0m \u001b[0mself\u001b[0m\u001b[1;33m.\u001b[0m\u001b[0m_engine\u001b[0m\u001b[1;33m.\u001b[0m\u001b[0mget_loc\u001b[0m\u001b[1;33m(\u001b[0m\u001b[0mkey\u001b[0m\u001b[1;33m)\u001b[0m\u001b[1;33m\u001b[0m\u001b[1;33m\u001b[0m\u001b[0m\n\u001b[0m\u001b[0;32m   3079\u001b[0m             \u001b[1;32mexcept\u001b[0m \u001b[0mKeyError\u001b[0m\u001b[1;33m:\u001b[0m\u001b[1;33m\u001b[0m\u001b[1;33m\u001b[0m\u001b[0m\n",
      "\u001b[1;32mpandas\\_libs\\index.pyx\u001b[0m in \u001b[0;36mpandas._libs.index.IndexEngine.get_loc\u001b[1;34m()\u001b[0m\n",
      "\u001b[1;32mpandas\\_libs\\index.pyx\u001b[0m in \u001b[0;36mpandas._libs.index.IndexEngine.get_loc\u001b[1;34m()\u001b[0m\n",
      "\u001b[1;32mpandas\\_libs\\hashtable_class_helper.pxi\u001b[0m in \u001b[0;36mpandas._libs.hashtable.PyObjectHashTable.get_item\u001b[1;34m()\u001b[0m\n",
      "\u001b[1;32mpandas\\_libs\\hashtable_class_helper.pxi\u001b[0m in \u001b[0;36mpandas._libs.hashtable.PyObjectHashTable.get_item\u001b[1;34m()\u001b[0m\n",
      "\u001b[1;31mKeyError\u001b[0m: 'm12'",
      "\nDuring handling of the above exception, another exception occurred:\n",
      "\u001b[1;31mKeyError\u001b[0m                                  Traceback (most recent call last)",
      "\u001b[1;32m<ipython-input-106-6dc4706644e6>\u001b[0m in \u001b[0;36m<module>\u001b[1;34m\u001b[0m\n\u001b[0;32m      2\u001b[0m     \u001b[0mprint\u001b[0m\u001b[1;33m(\u001b[0m\u001b[0mcol_\u001b[0m\u001b[1;33m)\u001b[0m\u001b[1;33m\u001b[0m\u001b[1;33m\u001b[0m\u001b[0m\n\u001b[0;32m      3\u001b[0m     \u001b[0mprint\u001b[0m\u001b[1;33m(\u001b[0m\u001b[1;34m\"Test\"\u001b[0m\u001b[1;33m)\u001b[0m\u001b[1;33m\u001b[0m\u001b[1;33m\u001b[0m\u001b[0m\n\u001b[1;32m----> 4\u001b[1;33m     \u001b[0mprint\u001b[0m\u001b[1;33m(\u001b[0m\u001b[0mtest_describe\u001b[0m\u001b[1;33m[\u001b[0m\u001b[0mcol_\u001b[0m\u001b[1;33m]\u001b[0m\u001b[1;33m)\u001b[0m\u001b[1;33m\u001b[0m\u001b[1;33m\u001b[0m\u001b[0m\n\u001b[0m\u001b[0;32m      5\u001b[0m     \u001b[0mprint\u001b[0m\u001b[1;33m(\u001b[0m\u001b[1;34m\"\\nVal\"\u001b[0m\u001b[1;33m)\u001b[0m\u001b[1;33m\u001b[0m\u001b[1;33m\u001b[0m\u001b[0m\n\u001b[0;32m      6\u001b[0m     \u001b[0mprint\u001b[0m\u001b[1;33m(\u001b[0m\u001b[0mval_describe\u001b[0m\u001b[1;33m[\u001b[0m\u001b[0mcol_\u001b[0m\u001b[1;33m]\u001b[0m\u001b[1;33m)\u001b[0m\u001b[1;33m\u001b[0m\u001b[1;33m\u001b[0m\u001b[0m\n",
      "\u001b[1;32m~\\Anaconda3\\lib\\site-packages\\pandas\\core\\frame.py\u001b[0m in \u001b[0;36m__getitem__\u001b[1;34m(self, key)\u001b[0m\n\u001b[0;32m   2684\u001b[0m             \u001b[1;32mreturn\u001b[0m \u001b[0mself\u001b[0m\u001b[1;33m.\u001b[0m\u001b[0m_getitem_frame\u001b[0m\u001b[1;33m(\u001b[0m\u001b[0mkey\u001b[0m\u001b[1;33m)\u001b[0m\u001b[1;33m\u001b[0m\u001b[1;33m\u001b[0m\u001b[0m\n\u001b[0;32m   2685\u001b[0m         \u001b[1;32melif\u001b[0m \u001b[0mis_mi_columns\u001b[0m\u001b[1;33m:\u001b[0m\u001b[1;33m\u001b[0m\u001b[1;33m\u001b[0m\u001b[0m\n\u001b[1;32m-> 2686\u001b[1;33m             \u001b[1;32mreturn\u001b[0m \u001b[0mself\u001b[0m\u001b[1;33m.\u001b[0m\u001b[0m_getitem_multilevel\u001b[0m\u001b[1;33m(\u001b[0m\u001b[0mkey\u001b[0m\u001b[1;33m)\u001b[0m\u001b[1;33m\u001b[0m\u001b[1;33m\u001b[0m\u001b[0m\n\u001b[0m\u001b[0;32m   2687\u001b[0m         \u001b[1;32melse\u001b[0m\u001b[1;33m:\u001b[0m\u001b[1;33m\u001b[0m\u001b[1;33m\u001b[0m\u001b[0m\n\u001b[0;32m   2688\u001b[0m             \u001b[1;32mreturn\u001b[0m \u001b[0mself\u001b[0m\u001b[1;33m.\u001b[0m\u001b[0m_getitem_column\u001b[0m\u001b[1;33m(\u001b[0m\u001b[0mkey\u001b[0m\u001b[1;33m)\u001b[0m\u001b[1;33m\u001b[0m\u001b[1;33m\u001b[0m\u001b[0m\n",
      "\u001b[1;32m~\\Anaconda3\\lib\\site-packages\\pandas\\core\\frame.py\u001b[0m in \u001b[0;36m_getitem_multilevel\u001b[1;34m(self, key)\u001b[0m\n\u001b[0;32m   2728\u001b[0m \u001b[1;33m\u001b[0m\u001b[0m\n\u001b[0;32m   2729\u001b[0m     \u001b[1;32mdef\u001b[0m \u001b[0m_getitem_multilevel\u001b[0m\u001b[1;33m(\u001b[0m\u001b[0mself\u001b[0m\u001b[1;33m,\u001b[0m \u001b[0mkey\u001b[0m\u001b[1;33m)\u001b[0m\u001b[1;33m:\u001b[0m\u001b[1;33m\u001b[0m\u001b[1;33m\u001b[0m\u001b[0m\n\u001b[1;32m-> 2730\u001b[1;33m         \u001b[0mloc\u001b[0m \u001b[1;33m=\u001b[0m \u001b[0mself\u001b[0m\u001b[1;33m.\u001b[0m\u001b[0mcolumns\u001b[0m\u001b[1;33m.\u001b[0m\u001b[0mget_loc\u001b[0m\u001b[1;33m(\u001b[0m\u001b[0mkey\u001b[0m\u001b[1;33m)\u001b[0m\u001b[1;33m\u001b[0m\u001b[1;33m\u001b[0m\u001b[0m\n\u001b[0m\u001b[0;32m   2731\u001b[0m         \u001b[1;32mif\u001b[0m \u001b[0misinstance\u001b[0m\u001b[1;33m(\u001b[0m\u001b[0mloc\u001b[0m\u001b[1;33m,\u001b[0m \u001b[1;33m(\u001b[0m\u001b[0mslice\u001b[0m\u001b[1;33m,\u001b[0m \u001b[0mSeries\u001b[0m\u001b[1;33m,\u001b[0m \u001b[0mnp\u001b[0m\u001b[1;33m.\u001b[0m\u001b[0mndarray\u001b[0m\u001b[1;33m,\u001b[0m \u001b[0mIndex\u001b[0m\u001b[1;33m)\u001b[0m\u001b[1;33m)\u001b[0m\u001b[1;33m:\u001b[0m\u001b[1;33m\u001b[0m\u001b[1;33m\u001b[0m\u001b[0m\n\u001b[0;32m   2732\u001b[0m             \u001b[0mnew_columns\u001b[0m \u001b[1;33m=\u001b[0m \u001b[0mself\u001b[0m\u001b[1;33m.\u001b[0m\u001b[0mcolumns\u001b[0m\u001b[1;33m[\u001b[0m\u001b[0mloc\u001b[0m\u001b[1;33m]\u001b[0m\u001b[1;33m\u001b[0m\u001b[1;33m\u001b[0m\u001b[0m\n",
      "\u001b[1;32m~\\Anaconda3\\lib\\site-packages\\pandas\\core\\indexes\\multi.py\u001b[0m in \u001b[0;36mget_loc\u001b[1;34m(self, key, method)\u001b[0m\n\u001b[0;32m   2235\u001b[0m \u001b[1;33m\u001b[0m\u001b[0m\n\u001b[0;32m   2236\u001b[0m         \u001b[1;32mif\u001b[0m \u001b[1;32mnot\u001b[0m \u001b[0misinstance\u001b[0m\u001b[1;33m(\u001b[0m\u001b[0mkey\u001b[0m\u001b[1;33m,\u001b[0m \u001b[0mtuple\u001b[0m\u001b[1;33m)\u001b[0m\u001b[1;33m:\u001b[0m\u001b[1;33m\u001b[0m\u001b[1;33m\u001b[0m\u001b[0m\n\u001b[1;32m-> 2237\u001b[1;33m             \u001b[0mloc\u001b[0m \u001b[1;33m=\u001b[0m \u001b[0mself\u001b[0m\u001b[1;33m.\u001b[0m\u001b[0m_get_level_indexer\u001b[0m\u001b[1;33m(\u001b[0m\u001b[0mkey\u001b[0m\u001b[1;33m,\u001b[0m \u001b[0mlevel\u001b[0m\u001b[1;33m=\u001b[0m\u001b[1;36m0\u001b[0m\u001b[1;33m)\u001b[0m\u001b[1;33m\u001b[0m\u001b[1;33m\u001b[0m\u001b[0m\n\u001b[0m\u001b[0;32m   2238\u001b[0m \u001b[1;33m\u001b[0m\u001b[0m\n\u001b[0;32m   2239\u001b[0m             \u001b[1;31m# _get_level_indexer returns an empty slice if the key has\u001b[0m\u001b[1;33m\u001b[0m\u001b[1;33m\u001b[0m\u001b[1;33m\u001b[0m\u001b[0m\n",
      "\u001b[1;32m~\\Anaconda3\\lib\\site-packages\\pandas\\core\\indexes\\multi.py\u001b[0m in \u001b[0;36m_get_level_indexer\u001b[1;34m(self, key, level, indexer)\u001b[0m\n\u001b[0;32m   2494\u001b[0m         \u001b[1;32melse\u001b[0m\u001b[1;33m:\u001b[0m\u001b[1;33m\u001b[0m\u001b[1;33m\u001b[0m\u001b[0m\n\u001b[0;32m   2495\u001b[0m \u001b[1;33m\u001b[0m\u001b[0m\n\u001b[1;32m-> 2496\u001b[1;33m             \u001b[0mloc\u001b[0m \u001b[1;33m=\u001b[0m \u001b[0mlevel_index\u001b[0m\u001b[1;33m.\u001b[0m\u001b[0mget_loc\u001b[0m\u001b[1;33m(\u001b[0m\u001b[0mkey\u001b[0m\u001b[1;33m)\u001b[0m\u001b[1;33m\u001b[0m\u001b[1;33m\u001b[0m\u001b[0m\n\u001b[0m\u001b[0;32m   2497\u001b[0m             \u001b[1;32mif\u001b[0m \u001b[0misinstance\u001b[0m\u001b[1;33m(\u001b[0m\u001b[0mloc\u001b[0m\u001b[1;33m,\u001b[0m \u001b[0mslice\u001b[0m\u001b[1;33m)\u001b[0m\u001b[1;33m:\u001b[0m\u001b[1;33m\u001b[0m\u001b[1;33m\u001b[0m\u001b[0m\n\u001b[0;32m   2498\u001b[0m                 \u001b[1;32mreturn\u001b[0m \u001b[0mloc\u001b[0m\u001b[1;33m\u001b[0m\u001b[1;33m\u001b[0m\u001b[0m\n",
      "\u001b[1;32m~\\Anaconda3\\lib\\site-packages\\pandas\\core\\indexes\\base.py\u001b[0m in \u001b[0;36mget_loc\u001b[1;34m(self, key, method, tolerance)\u001b[0m\n\u001b[0;32m   3078\u001b[0m                 \u001b[1;32mreturn\u001b[0m \u001b[0mself\u001b[0m\u001b[1;33m.\u001b[0m\u001b[0m_engine\u001b[0m\u001b[1;33m.\u001b[0m\u001b[0mget_loc\u001b[0m\u001b[1;33m(\u001b[0m\u001b[0mkey\u001b[0m\u001b[1;33m)\u001b[0m\u001b[1;33m\u001b[0m\u001b[1;33m\u001b[0m\u001b[0m\n\u001b[0;32m   3079\u001b[0m             \u001b[1;32mexcept\u001b[0m \u001b[0mKeyError\u001b[0m\u001b[1;33m:\u001b[0m\u001b[1;33m\u001b[0m\u001b[1;33m\u001b[0m\u001b[0m\n\u001b[1;32m-> 3080\u001b[1;33m                 \u001b[1;32mreturn\u001b[0m \u001b[0mself\u001b[0m\u001b[1;33m.\u001b[0m\u001b[0m_engine\u001b[0m\u001b[1;33m.\u001b[0m\u001b[0mget_loc\u001b[0m\u001b[1;33m(\u001b[0m\u001b[0mself\u001b[0m\u001b[1;33m.\u001b[0m\u001b[0m_maybe_cast_indexer\u001b[0m\u001b[1;33m(\u001b[0m\u001b[0mkey\u001b[0m\u001b[1;33m)\u001b[0m\u001b[1;33m)\u001b[0m\u001b[1;33m\u001b[0m\u001b[1;33m\u001b[0m\u001b[0m\n\u001b[0m\u001b[0;32m   3081\u001b[0m \u001b[1;33m\u001b[0m\u001b[0m\n\u001b[0;32m   3082\u001b[0m         \u001b[0mindexer\u001b[0m \u001b[1;33m=\u001b[0m \u001b[0mself\u001b[0m\u001b[1;33m.\u001b[0m\u001b[0mget_indexer\u001b[0m\u001b[1;33m(\u001b[0m\u001b[1;33m[\u001b[0m\u001b[0mkey\u001b[0m\u001b[1;33m]\u001b[0m\u001b[1;33m,\u001b[0m \u001b[0mmethod\u001b[0m\u001b[1;33m=\u001b[0m\u001b[0mmethod\u001b[0m\u001b[1;33m,\u001b[0m \u001b[0mtolerance\u001b[0m\u001b[1;33m=\u001b[0m\u001b[0mtolerance\u001b[0m\u001b[1;33m)\u001b[0m\u001b[1;33m\u001b[0m\u001b[1;33m\u001b[0m\u001b[0m\n",
      "\u001b[1;32mpandas\\_libs\\index.pyx\u001b[0m in \u001b[0;36mpandas._libs.index.IndexEngine.get_loc\u001b[1;34m()\u001b[0m\n",
      "\u001b[1;32mpandas\\_libs\\index.pyx\u001b[0m in \u001b[0;36mpandas._libs.index.IndexEngine.get_loc\u001b[1;34m()\u001b[0m\n",
      "\u001b[1;32mpandas\\_libs\\hashtable_class_helper.pxi\u001b[0m in \u001b[0;36mpandas._libs.hashtable.PyObjectHashTable.get_item\u001b[1;34m()\u001b[0m\n",
      "\u001b[1;32mpandas\\_libs\\hashtable_class_helper.pxi\u001b[0m in \u001b[0;36mpandas._libs.hashtable.PyObjectHashTable.get_item\u001b[1;34m()\u001b[0m\n",
      "\u001b[1;31mKeyError\u001b[0m: 'm12'"
     ]
    }
   ],
   "source": [
    "for col_ in list(test_data.drop(columns=drop_cols)):\n",
    "    print(col_)\n",
    "    print(\"Test\")\n",
    "    print(test_describe[col_])\n",
    "    print(\"\\nVal\")\n",
    "    print(val_describe[col_])\n",
    "    print(\"\\n\\n\")"
   ]
  },
  {
   "cell_type": "code",
   "execution_count": 91,
   "metadata": {},
   "outputs": [],
   "source": [
    "val_explore[\"m1_m12\"] = val_explore.apply(lambda row:1 if row[\"m1\"] + row[\"m12\"]>0 else 0, axis=1)"
   ]
  },
  {
   "cell_type": "code",
   "execution_count": 95,
   "metadata": {},
   "outputs": [
    {
     "data": {
      "text/plain": [
       "0.47486033519553067"
      ]
     },
     "execution_count": 95,
     "metadata": {},
     "output_type": "execute_result"
    }
   ],
   "source": [
    "f1_score(val_explore[\"m13\"], val_explore[\"m1_m12\"])"
   ]
  },
  {
   "cell_type": "code",
   "execution_count": 94,
   "metadata": {},
   "outputs": [
    {
     "data": {
      "text/plain": [
       "0.5614035087719299"
      ]
     },
     "execution_count": 94,
     "metadata": {},
     "output_type": "execute_result"
    }
   ],
   "source": [
    "f1_score(val_explore[\"m13\"], val_explore[\"m12\"].apply(lambda row:1 if row>0 else 0))"
   ]
  },
  {
   "cell_type": "code",
   "execution_count": 96,
   "metadata": {},
   "outputs": [
    {
     "data": {
      "text/plain": [
       "array([[28742,   114],\n",
       "       [   74,    85]], dtype=int64)"
      ]
     },
     "execution_count": 96,
     "metadata": {},
     "output_type": "execute_result"
    }
   ],
   "source": [
    "confusion_matrix(val_explore[\"m13\"], val_explore[\"m1_m12\"])"
   ]
  },
  {
   "cell_type": "code",
   "execution_count": 97,
   "metadata": {},
   "outputs": [
    {
     "data": {
      "text/plain": [
       "array([[28810,    46],\n",
       "       [   79,    80]], dtype=int64)"
      ]
     },
     "execution_count": 97,
     "metadata": {},
     "output_type": "execute_result"
    }
   ],
   "source": [
    "confusion_matrix(val_explore[\"m13\"], val_explore[\"m12\"].apply(lambda row:1 if row>0 else 0))"
   ]
  },
  {
   "cell_type": "code",
   "execution_count": null,
   "metadata": {},
   "outputs": [],
   "source": [
    "print df.groupby('name').describe().unstack(1)\n"
   ]
  },
  {
   "cell_type": "code",
   "execution_count": 78,
   "metadata": {},
   "outputs": [
    {
     "data": {
      "text/html": [
       "<div>\n",
       "<style scoped>\n",
       "    .dataframe tbody tr th:only-of-type {\n",
       "        vertical-align: middle;\n",
       "    }\n",
       "\n",
       "    .dataframe tbody tr th {\n",
       "        vertical-align: top;\n",
       "    }\n",
       "\n",
       "    .dataframe thead th {\n",
       "        text-align: right;\n",
       "    }\n",
       "</style>\n",
       "<table border=\"1\" class=\"dataframe\">\n",
       "  <thead>\n",
       "    <tr style=\"text-align: right;\">\n",
       "      <th></th>\n",
       "      <th>loan_id</th>\n",
       "      <th>interest_rate</th>\n",
       "      <th>unpaid_principal_bal</th>\n",
       "      <th>loan_term</th>\n",
       "      <th>origination_date</th>\n",
       "      <th>first_payment_date</th>\n",
       "      <th>loan_to_value</th>\n",
       "      <th>number_of_borrowers</th>\n",
       "      <th>debt_to_income_ratio</th>\n",
       "      <th>borrower_credit_score</th>\n",
       "      <th>...</th>\n",
       "      <th>financial_institution_Turner, Baldwin and Rhodes</th>\n",
       "      <th>loan_purpose_B12</th>\n",
       "      <th>loan_purpose_C86</th>\n",
       "      <th>insurance_type_1.0</th>\n",
       "      <th>total_delinquencies</th>\n",
       "      <th>max_delinquencies</th>\n",
       "      <th>delinquency_cnt</th>\n",
       "      <th>m13</th>\n",
       "      <th>m13_pred</th>\n",
       "      <th>m13_ensemble</th>\n",
       "    </tr>\n",
       "  </thead>\n",
       "  <tbody>\n",
       "    <tr>\n",
       "      <th>626</th>\n",
       "      <td>331675090018</td>\n",
       "      <td>3.875</td>\n",
       "      <td>308000</td>\n",
       "      <td>360</td>\n",
       "      <td>2012-02-01</td>\n",
       "      <td>04/2012</td>\n",
       "      <td>87</td>\n",
       "      <td>2.0</td>\n",
       "      <td>30.0</td>\n",
       "      <td>770.0</td>\n",
       "      <td>...</td>\n",
       "      <td>0</td>\n",
       "      <td>0</td>\n",
       "      <td>0</td>\n",
       "      <td>0</td>\n",
       "      <td>0</td>\n",
       "      <td>0</td>\n",
       "      <td>0</td>\n",
       "      <td>1</td>\n",
       "      <td>0</td>\n",
       "      <td>0</td>\n",
       "    </tr>\n",
       "    <tr>\n",
       "      <th>338</th>\n",
       "      <td>399834804185</td>\n",
       "      <td>4.000</td>\n",
       "      <td>306000</td>\n",
       "      <td>360</td>\n",
       "      <td>2012-01-01</td>\n",
       "      <td>03/2012</td>\n",
       "      <td>60</td>\n",
       "      <td>1.0</td>\n",
       "      <td>17.0</td>\n",
       "      <td>778.0</td>\n",
       "      <td>...</td>\n",
       "      <td>0</td>\n",
       "      <td>0</td>\n",
       "      <td>0</td>\n",
       "      <td>0</td>\n",
       "      <td>0</td>\n",
       "      <td>0</td>\n",
       "      <td>0</td>\n",
       "      <td>1</td>\n",
       "      <td>0</td>\n",
       "      <td>0</td>\n",
       "    </tr>\n",
       "    <tr>\n",
       "      <th>156</th>\n",
       "      <td>403146472400</td>\n",
       "      <td>3.875</td>\n",
       "      <td>70000</td>\n",
       "      <td>360</td>\n",
       "      <td>2012-02-01</td>\n",
       "      <td>04/2012</td>\n",
       "      <td>90</td>\n",
       "      <td>1.0</td>\n",
       "      <td>26.0</td>\n",
       "      <td>780.0</td>\n",
       "      <td>...</td>\n",
       "      <td>0</td>\n",
       "      <td>0</td>\n",
       "      <td>0</td>\n",
       "      <td>0</td>\n",
       "      <td>2</td>\n",
       "      <td>1</td>\n",
       "      <td>2</td>\n",
       "      <td>1</td>\n",
       "      <td>0</td>\n",
       "      <td>0</td>\n",
       "    </tr>\n",
       "    <tr>\n",
       "      <th>344</th>\n",
       "      <td>770262399158</td>\n",
       "      <td>4.125</td>\n",
       "      <td>75000</td>\n",
       "      <td>360</td>\n",
       "      <td>2012-01-01</td>\n",
       "      <td>02/2012</td>\n",
       "      <td>32</td>\n",
       "      <td>1.0</td>\n",
       "      <td>35.0</td>\n",
       "      <td>645.0</td>\n",
       "      <td>...</td>\n",
       "      <td>0</td>\n",
       "      <td>1</td>\n",
       "      <td>0</td>\n",
       "      <td>0</td>\n",
       "      <td>6</td>\n",
       "      <td>2</td>\n",
       "      <td>5</td>\n",
       "      <td>1</td>\n",
       "      <td>1</td>\n",
       "      <td>1</td>\n",
       "    </tr>\n",
       "    <tr>\n",
       "      <th>71</th>\n",
       "      <td>791387598450</td>\n",
       "      <td>3.625</td>\n",
       "      <td>220000</td>\n",
       "      <td>240</td>\n",
       "      <td>2012-02-01</td>\n",
       "      <td>04/2012</td>\n",
       "      <td>54</td>\n",
       "      <td>1.0</td>\n",
       "      <td>31.0</td>\n",
       "      <td>764.0</td>\n",
       "      <td>...</td>\n",
       "      <td>0</td>\n",
       "      <td>0</td>\n",
       "      <td>0</td>\n",
       "      <td>0</td>\n",
       "      <td>0</td>\n",
       "      <td>0</td>\n",
       "      <td>0</td>\n",
       "      <td>1</td>\n",
       "      <td>0</td>\n",
       "      <td>0</td>\n",
       "    </tr>\n",
       "    <tr>\n",
       "      <th>298</th>\n",
       "      <td>359965906598</td>\n",
       "      <td>3.875</td>\n",
       "      <td>136000</td>\n",
       "      <td>360</td>\n",
       "      <td>2012-02-01</td>\n",
       "      <td>05/2012</td>\n",
       "      <td>58</td>\n",
       "      <td>1.0</td>\n",
       "      <td>28.0</td>\n",
       "      <td>753.0</td>\n",
       "      <td>...</td>\n",
       "      <td>0</td>\n",
       "      <td>1</td>\n",
       "      <td>0</td>\n",
       "      <td>0</td>\n",
       "      <td>0</td>\n",
       "      <td>0</td>\n",
       "      <td>0</td>\n",
       "      <td>1</td>\n",
       "      <td>0</td>\n",
       "      <td>0</td>\n",
       "    </tr>\n",
       "    <tr>\n",
       "      <th>594</th>\n",
       "      <td>700963557467</td>\n",
       "      <td>4.750</td>\n",
       "      <td>84000</td>\n",
       "      <td>360</td>\n",
       "      <td>2012-02-01</td>\n",
       "      <td>04/2012</td>\n",
       "      <td>75</td>\n",
       "      <td>1.0</td>\n",
       "      <td>11.0</td>\n",
       "      <td>754.0</td>\n",
       "      <td>...</td>\n",
       "      <td>0</td>\n",
       "      <td>0</td>\n",
       "      <td>1</td>\n",
       "      <td>0</td>\n",
       "      <td>1</td>\n",
       "      <td>1</td>\n",
       "      <td>1</td>\n",
       "      <td>1</td>\n",
       "      <td>0</td>\n",
       "      <td>0</td>\n",
       "    </tr>\n",
       "    <tr>\n",
       "      <th>564</th>\n",
       "      <td>475947968920</td>\n",
       "      <td>4.625</td>\n",
       "      <td>29000</td>\n",
       "      <td>360</td>\n",
       "      <td>2012-01-01</td>\n",
       "      <td>03/2012</td>\n",
       "      <td>75</td>\n",
       "      <td>1.0</td>\n",
       "      <td>42.0</td>\n",
       "      <td>734.0</td>\n",
       "      <td>...</td>\n",
       "      <td>0</td>\n",
       "      <td>0</td>\n",
       "      <td>1</td>\n",
       "      <td>0</td>\n",
       "      <td>0</td>\n",
       "      <td>0</td>\n",
       "      <td>0</td>\n",
       "      <td>1</td>\n",
       "      <td>0</td>\n",
       "      <td>0</td>\n",
       "    </tr>\n",
       "    <tr>\n",
       "      <th>74</th>\n",
       "      <td>179639561446</td>\n",
       "      <td>4.125</td>\n",
       "      <td>224000</td>\n",
       "      <td>360</td>\n",
       "      <td>2012-03-01</td>\n",
       "      <td>05/2012</td>\n",
       "      <td>76</td>\n",
       "      <td>1.0</td>\n",
       "      <td>44.0</td>\n",
       "      <td>733.0</td>\n",
       "      <td>...</td>\n",
       "      <td>0</td>\n",
       "      <td>1</td>\n",
       "      <td>0</td>\n",
       "      <td>0</td>\n",
       "      <td>5</td>\n",
       "      <td>2</td>\n",
       "      <td>4</td>\n",
       "      <td>1</td>\n",
       "      <td>1</td>\n",
       "      <td>1</td>\n",
       "    </tr>\n",
       "    <tr>\n",
       "      <th>452</th>\n",
       "      <td>592107049418</td>\n",
       "      <td>4.125</td>\n",
       "      <td>65000</td>\n",
       "      <td>360</td>\n",
       "      <td>2012-02-01</td>\n",
       "      <td>04/2012</td>\n",
       "      <td>77</td>\n",
       "      <td>1.0</td>\n",
       "      <td>43.0</td>\n",
       "      <td>718.0</td>\n",
       "      <td>...</td>\n",
       "      <td>0</td>\n",
       "      <td>0</td>\n",
       "      <td>1</td>\n",
       "      <td>0</td>\n",
       "      <td>3</td>\n",
       "      <td>1</td>\n",
       "      <td>3</td>\n",
       "      <td>1</td>\n",
       "      <td>1</td>\n",
       "      <td>1</td>\n",
       "    </tr>\n",
       "  </tbody>\n",
       "</table>\n",
       "<p>10 rows × 53 columns</p>\n",
       "</div>"
      ],
      "text/plain": [
       "          loan_id  interest_rate  unpaid_principal_bal  loan_term  \\\n",
       "626  331675090018          3.875                308000        360   \n",
       "338  399834804185          4.000                306000        360   \n",
       "156  403146472400          3.875                 70000        360   \n",
       "344  770262399158          4.125                 75000        360   \n",
       "71   791387598450          3.625                220000        240   \n",
       "298  359965906598          3.875                136000        360   \n",
       "594  700963557467          4.750                 84000        360   \n",
       "564  475947968920          4.625                 29000        360   \n",
       "74   179639561446          4.125                224000        360   \n",
       "452  592107049418          4.125                 65000        360   \n",
       "\n",
       "    origination_date first_payment_date  loan_to_value  number_of_borrowers  \\\n",
       "626       2012-02-01            04/2012             87                  2.0   \n",
       "338       2012-01-01            03/2012             60                  1.0   \n",
       "156       2012-02-01            04/2012             90                  1.0   \n",
       "344       2012-01-01            02/2012             32                  1.0   \n",
       "71        2012-02-01            04/2012             54                  1.0   \n",
       "298       2012-02-01            05/2012             58                  1.0   \n",
       "594       2012-02-01            04/2012             75                  1.0   \n",
       "564       2012-01-01            03/2012             75                  1.0   \n",
       "74        2012-03-01            05/2012             76                  1.0   \n",
       "452       2012-02-01            04/2012             77                  1.0   \n",
       "\n",
       "     debt_to_income_ratio  borrower_credit_score      ...       \\\n",
       "626                  30.0                  770.0      ...        \n",
       "338                  17.0                  778.0      ...        \n",
       "156                  26.0                  780.0      ...        \n",
       "344                  35.0                  645.0      ...        \n",
       "71                   31.0                  764.0      ...        \n",
       "298                  28.0                  753.0      ...        \n",
       "594                  11.0                  754.0      ...        \n",
       "564                  42.0                  734.0      ...        \n",
       "74                   44.0                  733.0      ...        \n",
       "452                  43.0                  718.0      ...        \n",
       "\n",
       "     financial_institution_Turner, Baldwin and Rhodes  loan_purpose_B12  \\\n",
       "626                                                 0                 0   \n",
       "338                                                 0                 0   \n",
       "156                                                 0                 0   \n",
       "344                                                 0                 1   \n",
       "71                                                  0                 0   \n",
       "298                                                 0                 1   \n",
       "594                                                 0                 0   \n",
       "564                                                 0                 0   \n",
       "74                                                  0                 1   \n",
       "452                                                 0                 0   \n",
       "\n",
       "     loan_purpose_C86  insurance_type_1.0  total_delinquencies  \\\n",
       "626                 0                   0                    0   \n",
       "338                 0                   0                    0   \n",
       "156                 0                   0                    2   \n",
       "344                 0                   0                    6   \n",
       "71                  0                   0                    0   \n",
       "298                 0                   0                    0   \n",
       "594                 1                   0                    1   \n",
       "564                 1                   0                    0   \n",
       "74                  0                   0                    5   \n",
       "452                 1                   0                    3   \n",
       "\n",
       "     max_delinquencies  delinquency_cnt  m13  m13_pred  m13_ensemble  \n",
       "626                  0                0    1         0             0  \n",
       "338                  0                0    1         0             0  \n",
       "156                  1                2    1         0             0  \n",
       "344                  2                5    1         1             1  \n",
       "71                   0                0    1         0             0  \n",
       "298                  0                0    1         0             0  \n",
       "594                  1                1    1         0             0  \n",
       "564                  0                0    1         0             0  \n",
       "74                   2                4    1         1             1  \n",
       "452                  1                3    1         1             1  \n",
       "\n",
       "[10 rows x 53 columns]"
      ]
     },
     "execution_count": 78,
     "metadata": {},
     "output_type": "execute_result"
    }
   ],
   "source": [
    "val_explore[(val_explore[\"m13\"]==1)&(val_explore[\"m12\"]==0)].head(10)"
   ]
  },
  {
   "cell_type": "code",
   "execution_count": 22,
   "metadata": {},
   "outputs": [],
   "source": [
    "drop_cols = [\"loan_id\",\"first_payment_date\", \"origination_date\"]"
   ]
  },
  {
   "cell_type": "code",
   "execution_count": 26,
   "metadata": {},
   "outputs": [],
   "source": [
    "clf = xgb.XGBClassifier(max_depth=5, n_estimators=100, learning_rate=0.05, scale_pos_weight=scale_var/20)"
   ]
  },
  {
   "cell_type": "code",
   "execution_count": 27,
   "metadata": {},
   "outputs": [
    {
     "name": "stderr",
     "output_type": "stream",
     "text": [
      "C:\\Users\\dilee\\Anaconda3\\lib\\site-packages\\sklearn\\preprocessing\\label.py:219: DataConversionWarning: A column-vector y was passed when a 1d array was expected. Please change the shape of y to (n_samples, ), for example using ravel().\n",
      "  y = column_or_1d(y, warn=True)\n",
      "C:\\Users\\dilee\\Anaconda3\\lib\\site-packages\\sklearn\\preprocessing\\label.py:252: DataConversionWarning: A column-vector y was passed when a 1d array was expected. Please change the shape of y to (n_samples, ), for example using ravel().\n",
      "  y = column_or_1d(y, warn=True)\n"
     ]
    },
    {
     "name": "stdout",
     "output_type": "stream",
     "text": [
      "Wall time: 17.7 s\n"
     ]
    },
    {
     "data": {
      "text/plain": [
       "XGBClassifier(base_score=0.5, booster='gbtree', colsample_bylevel=1,\n",
       "       colsample_bytree=1, gamma=0, learning_rate=0.05, max_delta_step=0,\n",
       "       max_depth=5, min_child_weight=1, missing=None, n_estimators=100,\n",
       "       n_jobs=1, nthread=None, objective='binary:logistic', random_state=0,\n",
       "       reg_alpha=0, reg_lambda=1, scale_pos_weight=9.124004192872118,\n",
       "       seed=None, silent=True, subsample=1)"
      ]
     },
     "execution_count": 27,
     "metadata": {},
     "output_type": "execute_result"
    }
   ],
   "source": [
    "%%time\n",
    "clf.fit(train_data.drop(columns=drop_cols), train_labels)"
   ]
  },
  {
   "cell_type": "code",
   "execution_count": 28,
   "metadata": {},
   "outputs": [],
   "source": [
    "val_predict = clf.predict(val_data.drop(columns=drop_cols))"
   ]
  },
  {
   "cell_type": "code",
   "execution_count": 36,
   "metadata": {},
   "outputs": [
    {
     "data": {
      "text/plain": [
       "0.5212121212121212"
      ]
     },
     "execution_count": 36,
     "metadata": {},
     "output_type": "execute_result"
    }
   ],
   "source": [
    "f1_score(val_labels, val_predict)"
   ]
  },
  {
   "cell_type": "code",
   "execution_count": 31,
   "metadata": {},
   "outputs": [
    {
     "name": "stdout",
     "output_type": "stream",
     "text": [
      "              precision    recall  f1-score   support\n",
      "\n",
      "           0       1.00      1.00      1.00     28856\n",
      "           1       0.50      0.54      0.52       159\n",
      "\n",
      "   micro avg       0.99      0.99      0.99     29015\n",
      "   macro avg       0.75      0.77      0.76     29015\n",
      "weighted avg       0.99      0.99      0.99     29015\n",
      "\n"
     ]
    }
   ],
   "source": [
    "print(classification_report(val_labels, val_predict))"
   ]
  },
  {
   "cell_type": "code",
   "execution_count": 29,
   "metadata": {},
   "outputs": [
    {
     "data": {
      "text/plain": [
       "array([[28771,    85],\n",
       "       [   73,    86]], dtype=int64)"
      ]
     },
     "execution_count": 29,
     "metadata": {},
     "output_type": "execute_result"
    }
   ],
   "source": [
    "confusion_matrix(val_labels, val_predict)"
   ]
  },
  {
   "cell_type": "code",
   "execution_count": 45,
   "metadata": {},
   "outputs": [],
   "source": [
    "test_predict = clf.predict(test_data.drop(columns=drop_cols))"
   ]
  },
  {
   "cell_type": "code",
   "execution_count": 46,
   "metadata": {},
   "outputs": [
    {
     "data": {
      "text/plain": [
       "array([0, 0, 0, ..., 0, 0, 0], dtype=int64)"
      ]
     },
     "execution_count": 46,
     "metadata": {},
     "output_type": "execute_result"
    }
   ],
   "source": [
    "test_predict"
   ]
  },
  {
   "cell_type": "code",
   "execution_count": 47,
   "metadata": {},
   "outputs": [
    {
     "data": {
      "text/html": [
       "<div>\n",
       "<style scoped>\n",
       "    .dataframe tbody tr th:only-of-type {\n",
       "        vertical-align: middle;\n",
       "    }\n",
       "\n",
       "    .dataframe tbody tr th {\n",
       "        vertical-align: top;\n",
       "    }\n",
       "\n",
       "    .dataframe thead th {\n",
       "        text-align: right;\n",
       "    }\n",
       "</style>\n",
       "<table border=\"1\" class=\"dataframe\">\n",
       "  <thead>\n",
       "    <tr style=\"text-align: right;\">\n",
       "      <th></th>\n",
       "      <th>loan_id</th>\n",
       "      <th>interest_rate</th>\n",
       "      <th>unpaid_principal_bal</th>\n",
       "      <th>loan_term</th>\n",
       "      <th>origination_date</th>\n",
       "      <th>first_payment_date</th>\n",
       "      <th>loan_to_value</th>\n",
       "      <th>number_of_borrowers</th>\n",
       "      <th>debt_to_income_ratio</th>\n",
       "      <th>borrower_credit_score</th>\n",
       "      <th>...</th>\n",
       "      <th>financial_institution_Swanson, Newton and Miller</th>\n",
       "      <th>financial_institution_Taylor, Hunt and Rodriguez</th>\n",
       "      <th>financial_institution_Thornton-Davis</th>\n",
       "      <th>financial_institution_Turner, Baldwin and Rhodes</th>\n",
       "      <th>loan_purpose_B12</th>\n",
       "      <th>loan_purpose_C86</th>\n",
       "      <th>insurance_type_1.0</th>\n",
       "      <th>total_delinquencies</th>\n",
       "      <th>max_delinquencies</th>\n",
       "      <th>delinquency_cnt</th>\n",
       "    </tr>\n",
       "  </thead>\n",
       "  <tbody>\n",
       "    <tr>\n",
       "      <th>0</th>\n",
       "      <td>1</td>\n",
       "      <td>3.875</td>\n",
       "      <td>417000</td>\n",
       "      <td>360</td>\n",
       "      <td>01/02/12</td>\n",
       "      <td>Apr-12</td>\n",
       "      <td>75</td>\n",
       "      <td>1.0</td>\n",
       "      <td>20.0</td>\n",
       "      <td>790.0</td>\n",
       "      <td>...</td>\n",
       "      <td>0</td>\n",
       "      <td>0</td>\n",
       "      <td>0</td>\n",
       "      <td>0</td>\n",
       "      <td>0</td>\n",
       "      <td>0</td>\n",
       "      <td>0</td>\n",
       "      <td>0</td>\n",
       "      <td>0</td>\n",
       "      <td>0</td>\n",
       "    </tr>\n",
       "    <tr>\n",
       "      <th>1</th>\n",
       "      <td>2</td>\n",
       "      <td>4.500</td>\n",
       "      <td>113000</td>\n",
       "      <td>360</td>\n",
       "      <td>01/02/12</td>\n",
       "      <td>Apr-12</td>\n",
       "      <td>80</td>\n",
       "      <td>2.0</td>\n",
       "      <td>33.0</td>\n",
       "      <td>793.0</td>\n",
       "      <td>...</td>\n",
       "      <td>0</td>\n",
       "      <td>0</td>\n",
       "      <td>0</td>\n",
       "      <td>0</td>\n",
       "      <td>0</td>\n",
       "      <td>1</td>\n",
       "      <td>0</td>\n",
       "      <td>0</td>\n",
       "      <td>0</td>\n",
       "      <td>0</td>\n",
       "    </tr>\n",
       "    <tr>\n",
       "      <th>2</th>\n",
       "      <td>3</td>\n",
       "      <td>4.500</td>\n",
       "      <td>72000</td>\n",
       "      <td>360</td>\n",
       "      <td>01/01/12</td>\n",
       "      <td>Mar-12</td>\n",
       "      <td>75</td>\n",
       "      <td>1.0</td>\n",
       "      <td>34.0</td>\n",
       "      <td>710.0</td>\n",
       "      <td>...</td>\n",
       "      <td>0</td>\n",
       "      <td>0</td>\n",
       "      <td>0</td>\n",
       "      <td>0</td>\n",
       "      <td>0</td>\n",
       "      <td>1</td>\n",
       "      <td>0</td>\n",
       "      <td>0</td>\n",
       "      <td>0</td>\n",
       "      <td>0</td>\n",
       "    </tr>\n",
       "    <tr>\n",
       "      <th>3</th>\n",
       "      <td>4</td>\n",
       "      <td>4.125</td>\n",
       "      <td>123000</td>\n",
       "      <td>180</td>\n",
       "      <td>01/02/12</td>\n",
       "      <td>Apr-12</td>\n",
       "      <td>41</td>\n",
       "      <td>2.0</td>\n",
       "      <td>24.0</td>\n",
       "      <td>798.0</td>\n",
       "      <td>...</td>\n",
       "      <td>0</td>\n",
       "      <td>0</td>\n",
       "      <td>0</td>\n",
       "      <td>0</td>\n",
       "      <td>0</td>\n",
       "      <td>0</td>\n",
       "      <td>0</td>\n",
       "      <td>0</td>\n",
       "      <td>0</td>\n",
       "      <td>0</td>\n",
       "    </tr>\n",
       "    <tr>\n",
       "      <th>4</th>\n",
       "      <td>5</td>\n",
       "      <td>3.250</td>\n",
       "      <td>166000</td>\n",
       "      <td>180</td>\n",
       "      <td>01/02/12</td>\n",
       "      <td>Apr-12</td>\n",
       "      <td>53</td>\n",
       "      <td>2.0</td>\n",
       "      <td>12.0</td>\n",
       "      <td>767.0</td>\n",
       "      <td>...</td>\n",
       "      <td>0</td>\n",
       "      <td>0</td>\n",
       "      <td>0</td>\n",
       "      <td>0</td>\n",
       "      <td>0</td>\n",
       "      <td>0</td>\n",
       "      <td>0</td>\n",
       "      <td>0</td>\n",
       "      <td>0</td>\n",
       "      <td>0</td>\n",
       "    </tr>\n",
       "  </tbody>\n",
       "</table>\n",
       "<p>5 rows × 50 columns</p>\n",
       "</div>"
      ],
      "text/plain": [
       "   loan_id  interest_rate  unpaid_principal_bal  loan_term origination_date  \\\n",
       "0        1          3.875                417000        360         01/02/12   \n",
       "1        2          4.500                113000        360         01/02/12   \n",
       "2        3          4.500                 72000        360         01/01/12   \n",
       "3        4          4.125                123000        180         01/02/12   \n",
       "4        5          3.250                166000        180         01/02/12   \n",
       "\n",
       "  first_payment_date  loan_to_value  number_of_borrowers  \\\n",
       "0             Apr-12             75                  1.0   \n",
       "1             Apr-12             80                  2.0   \n",
       "2             Mar-12             75                  1.0   \n",
       "3             Apr-12             41                  2.0   \n",
       "4             Apr-12             53                  2.0   \n",
       "\n",
       "   debt_to_income_ratio  borrower_credit_score       ...         \\\n",
       "0                  20.0                  790.0       ...          \n",
       "1                  33.0                  793.0       ...          \n",
       "2                  34.0                  710.0       ...          \n",
       "3                  24.0                  798.0       ...          \n",
       "4                  12.0                  767.0       ...          \n",
       "\n",
       "   financial_institution_Swanson, Newton and Miller  \\\n",
       "0                                                 0   \n",
       "1                                                 0   \n",
       "2                                                 0   \n",
       "3                                                 0   \n",
       "4                                                 0   \n",
       "\n",
       "   financial_institution_Taylor, Hunt and Rodriguez  \\\n",
       "0                                                 0   \n",
       "1                                                 0   \n",
       "2                                                 0   \n",
       "3                                                 0   \n",
       "4                                                 0   \n",
       "\n",
       "   financial_institution_Thornton-Davis  \\\n",
       "0                                     0   \n",
       "1                                     0   \n",
       "2                                     0   \n",
       "3                                     0   \n",
       "4                                     0   \n",
       "\n",
       "   financial_institution_Turner, Baldwin and Rhodes  loan_purpose_B12  \\\n",
       "0                                                 0                 0   \n",
       "1                                                 0                 0   \n",
       "2                                                 0                 0   \n",
       "3                                                 0                 0   \n",
       "4                                                 0                 0   \n",
       "\n",
       "   loan_purpose_C86  insurance_type_1.0  total_delinquencies  \\\n",
       "0                 0                   0                    0   \n",
       "1                 1                   0                    0   \n",
       "2                 1                   0                    0   \n",
       "3                 0                   0                    0   \n",
       "4                 0                   0                    0   \n",
       "\n",
       "   max_delinquencies  delinquency_cnt  \n",
       "0                  0                0  \n",
       "1                  0                0  \n",
       "2                  0                0  \n",
       "3                  0                0  \n",
       "4                  0                0  \n",
       "\n",
       "[5 rows x 50 columns]"
      ]
     },
     "execution_count": 47,
     "metadata": {},
     "output_type": "execute_result"
    }
   ],
   "source": [
    "test_data.head()"
   ]
  },
  {
   "cell_type": "code",
   "execution_count": 48,
   "metadata": {},
   "outputs": [],
   "source": [
    "test_data['m13'] = test_predict"
   ]
  },
  {
   "cell_type": "code",
   "execution_count": null,
   "metadata": {},
   "outputs": [],
   "source": [
    "test_data[[\"loan_id\", \"m13\"]].to_csv(\"xgb_submission.csv\", index=None)"
   ]
  },
  {
   "cell_type": "markdown",
   "metadata": {},
   "source": [
    "Above submission got a LB score of 0.215 :("
   ]
  },
  {
   "cell_type": "markdown",
   "metadata": {},
   "source": [
    "# Simple logic of carrying m12 bool flag"
   ]
  },
  {
   "cell_type": "code",
   "execution_count": 20,
   "metadata": {},
   "outputs": [
    {
     "data": {
      "text/html": [
       "<div>\n",
       "<style scoped>\n",
       "    .dataframe tbody tr th:only-of-type {\n",
       "        vertical-align: middle;\n",
       "    }\n",
       "\n",
       "    .dataframe tbody tr th {\n",
       "        vertical-align: top;\n",
       "    }\n",
       "\n",
       "    .dataframe thead th {\n",
       "        text-align: right;\n",
       "    }\n",
       "</style>\n",
       "<table border=\"1\" class=\"dataframe\">\n",
       "  <thead>\n",
       "    <tr style=\"text-align: right;\">\n",
       "      <th></th>\n",
       "      <th>loan_id</th>\n",
       "      <th>interest_rate</th>\n",
       "      <th>unpaid_principal_bal</th>\n",
       "      <th>loan_term</th>\n",
       "      <th>origination_date</th>\n",
       "      <th>first_payment_date</th>\n",
       "      <th>loan_to_value</th>\n",
       "      <th>number_of_borrowers</th>\n",
       "      <th>debt_to_income_ratio</th>\n",
       "      <th>borrower_credit_score</th>\n",
       "      <th>...</th>\n",
       "      <th>financial_institution_Swanson, Newton and Miller</th>\n",
       "      <th>financial_institution_Taylor, Hunt and Rodriguez</th>\n",
       "      <th>financial_institution_Thornton-Davis</th>\n",
       "      <th>financial_institution_Turner, Baldwin and Rhodes</th>\n",
       "      <th>loan_purpose_B12</th>\n",
       "      <th>loan_purpose_C86</th>\n",
       "      <th>insurance_type_1.0</th>\n",
       "      <th>total_delinquencies</th>\n",
       "      <th>max_delinquencies</th>\n",
       "      <th>delinquency_cnt</th>\n",
       "    </tr>\n",
       "  </thead>\n",
       "  <tbody>\n",
       "    <tr>\n",
       "      <th>0</th>\n",
       "      <td>1</td>\n",
       "      <td>3.875</td>\n",
       "      <td>417000</td>\n",
       "      <td>360</td>\n",
       "      <td>01/02/12</td>\n",
       "      <td>Apr-12</td>\n",
       "      <td>75</td>\n",
       "      <td>1.0</td>\n",
       "      <td>20.0</td>\n",
       "      <td>790.0</td>\n",
       "      <td>...</td>\n",
       "      <td>0</td>\n",
       "      <td>0</td>\n",
       "      <td>0</td>\n",
       "      <td>0</td>\n",
       "      <td>0</td>\n",
       "      <td>0</td>\n",
       "      <td>0</td>\n",
       "      <td>0</td>\n",
       "      <td>0</td>\n",
       "      <td>0</td>\n",
       "    </tr>\n",
       "    <tr>\n",
       "      <th>1</th>\n",
       "      <td>2</td>\n",
       "      <td>4.500</td>\n",
       "      <td>113000</td>\n",
       "      <td>360</td>\n",
       "      <td>01/02/12</td>\n",
       "      <td>Apr-12</td>\n",
       "      <td>80</td>\n",
       "      <td>2.0</td>\n",
       "      <td>33.0</td>\n",
       "      <td>793.0</td>\n",
       "      <td>...</td>\n",
       "      <td>0</td>\n",
       "      <td>0</td>\n",
       "      <td>0</td>\n",
       "      <td>0</td>\n",
       "      <td>0</td>\n",
       "      <td>1</td>\n",
       "      <td>0</td>\n",
       "      <td>0</td>\n",
       "      <td>0</td>\n",
       "      <td>0</td>\n",
       "    </tr>\n",
       "    <tr>\n",
       "      <th>2</th>\n",
       "      <td>3</td>\n",
       "      <td>4.500</td>\n",
       "      <td>72000</td>\n",
       "      <td>360</td>\n",
       "      <td>01/01/12</td>\n",
       "      <td>Mar-12</td>\n",
       "      <td>75</td>\n",
       "      <td>1.0</td>\n",
       "      <td>34.0</td>\n",
       "      <td>710.0</td>\n",
       "      <td>...</td>\n",
       "      <td>0</td>\n",
       "      <td>0</td>\n",
       "      <td>0</td>\n",
       "      <td>0</td>\n",
       "      <td>0</td>\n",
       "      <td>1</td>\n",
       "      <td>0</td>\n",
       "      <td>0</td>\n",
       "      <td>0</td>\n",
       "      <td>0</td>\n",
       "    </tr>\n",
       "    <tr>\n",
       "      <th>3</th>\n",
       "      <td>4</td>\n",
       "      <td>4.125</td>\n",
       "      <td>123000</td>\n",
       "      <td>180</td>\n",
       "      <td>01/02/12</td>\n",
       "      <td>Apr-12</td>\n",
       "      <td>41</td>\n",
       "      <td>2.0</td>\n",
       "      <td>24.0</td>\n",
       "      <td>798.0</td>\n",
       "      <td>...</td>\n",
       "      <td>0</td>\n",
       "      <td>0</td>\n",
       "      <td>0</td>\n",
       "      <td>0</td>\n",
       "      <td>0</td>\n",
       "      <td>0</td>\n",
       "      <td>0</td>\n",
       "      <td>0</td>\n",
       "      <td>0</td>\n",
       "      <td>0</td>\n",
       "    </tr>\n",
       "    <tr>\n",
       "      <th>4</th>\n",
       "      <td>5</td>\n",
       "      <td>3.250</td>\n",
       "      <td>166000</td>\n",
       "      <td>180</td>\n",
       "      <td>01/02/12</td>\n",
       "      <td>Apr-12</td>\n",
       "      <td>53</td>\n",
       "      <td>2.0</td>\n",
       "      <td>12.0</td>\n",
       "      <td>767.0</td>\n",
       "      <td>...</td>\n",
       "      <td>0</td>\n",
       "      <td>0</td>\n",
       "      <td>0</td>\n",
       "      <td>0</td>\n",
       "      <td>0</td>\n",
       "      <td>0</td>\n",
       "      <td>0</td>\n",
       "      <td>0</td>\n",
       "      <td>0</td>\n",
       "      <td>0</td>\n",
       "    </tr>\n",
       "  </tbody>\n",
       "</table>\n",
       "<p>5 rows × 50 columns</p>\n",
       "</div>"
      ],
      "text/plain": [
       "   loan_id  interest_rate  unpaid_principal_bal  loan_term origination_date  \\\n",
       "0        1          3.875                417000        360         01/02/12   \n",
       "1        2          4.500                113000        360         01/02/12   \n",
       "2        3          4.500                 72000        360         01/01/12   \n",
       "3        4          4.125                123000        180         01/02/12   \n",
       "4        5          3.250                166000        180         01/02/12   \n",
       "\n",
       "  first_payment_date  loan_to_value  number_of_borrowers  \\\n",
       "0             Apr-12             75                  1.0   \n",
       "1             Apr-12             80                  2.0   \n",
       "2             Mar-12             75                  1.0   \n",
       "3             Apr-12             41                  2.0   \n",
       "4             Apr-12             53                  2.0   \n",
       "\n",
       "   debt_to_income_ratio  borrower_credit_score       ...         \\\n",
       "0                  20.0                  790.0       ...          \n",
       "1                  33.0                  793.0       ...          \n",
       "2                  34.0                  710.0       ...          \n",
       "3                  24.0                  798.0       ...          \n",
       "4                  12.0                  767.0       ...          \n",
       "\n",
       "   financial_institution_Swanson, Newton and Miller  \\\n",
       "0                                                 0   \n",
       "1                                                 0   \n",
       "2                                                 0   \n",
       "3                                                 0   \n",
       "4                                                 0   \n",
       "\n",
       "   financial_institution_Taylor, Hunt and Rodriguez  \\\n",
       "0                                                 0   \n",
       "1                                                 0   \n",
       "2                                                 0   \n",
       "3                                                 0   \n",
       "4                                                 0   \n",
       "\n",
       "   financial_institution_Thornton-Davis  \\\n",
       "0                                     0   \n",
       "1                                     0   \n",
       "2                                     0   \n",
       "3                                     0   \n",
       "4                                     0   \n",
       "\n",
       "   financial_institution_Turner, Baldwin and Rhodes  loan_purpose_B12  \\\n",
       "0                                                 0                 0   \n",
       "1                                                 0                 0   \n",
       "2                                                 0                 0   \n",
       "3                                                 0                 0   \n",
       "4                                                 0                 0   \n",
       "\n",
       "   loan_purpose_C86  insurance_type_1.0  total_delinquencies  \\\n",
       "0                 0                   0                    0   \n",
       "1                 1                   0                    0   \n",
       "2                 1                   0                    0   \n",
       "3                 0                   0                    0   \n",
       "4                 0                   0                    0   \n",
       "\n",
       "   max_delinquencies  delinquency_cnt  \n",
       "0                  0                0  \n",
       "1                  0                0  \n",
       "2                  0                0  \n",
       "3                  0                0  \n",
       "4                  0                0  \n",
       "\n",
       "[5 rows x 50 columns]"
      ]
     },
     "execution_count": 20,
     "metadata": {},
     "output_type": "execute_result"
    }
   ],
   "source": [
    "test_data.head()"
   ]
  },
  {
   "cell_type": "code",
   "execution_count": 21,
   "metadata": {},
   "outputs": [],
   "source": [
    "test_data[\"m13\"] = test_data[\"m12\"].astype(bool).astype(int)"
   ]
  },
  {
   "cell_type": "code",
   "execution_count": 23,
   "metadata": {},
   "outputs": [],
   "source": [
    "test_data[[\"loan_id\", \"m13\"]].to_csv(\"m12_based.csv\", index=None)"
   ]
  },
  {
   "cell_type": "markdown",
   "metadata": {},
   "source": [
    "This gave a score of 0.30"
   ]
  },
  {
   "cell_type": "markdown",
   "metadata": {},
   "source": [
    "## Building a model excluding the Positives predicted by m12 variable"
   ]
  },
  {
   "cell_type": "code",
   "execution_count": 121,
   "metadata": {},
   "outputs": [],
   "source": [
    "data_filtered = data[data[\"m12\"]==0]"
   ]
  },
  {
   "cell_type": "code",
   "execution_count": 123,
   "metadata": {},
   "outputs": [],
   "source": [
    "train_data, val_data, train_labels, val_labels = train_test_split(data_filtered.drop(columns=\"m13\"),data_filtered[[\"m13\"]], test_size=0.25, stratify=data_filtered[\"m13\"])"
   ]
  },
  {
   "cell_type": "code",
   "execution_count": 133,
   "metadata": {},
   "outputs": [],
   "source": [
    "clf = xgb.XGBClassifier(max_depth=5, n_estimators=100, learning_rate=0.05, scale_pos_weight=5)"
   ]
  },
  {
   "cell_type": "code",
   "execution_count": 134,
   "metadata": {},
   "outputs": [
    {
     "name": "stderr",
     "output_type": "stream",
     "text": [
      "C:\\Users\\dilee\\Anaconda3\\lib\\site-packages\\sklearn\\preprocessing\\label.py:219: DataConversionWarning: A column-vector y was passed when a 1d array was expected. Please change the shape of y to (n_samples, ), for example using ravel().\n",
      "  y = column_or_1d(y, warn=True)\n",
      "C:\\Users\\dilee\\Anaconda3\\lib\\site-packages\\sklearn\\preprocessing\\label.py:252: DataConversionWarning: A column-vector y was passed when a 1d array was expected. Please change the shape of y to (n_samples, ), for example using ravel().\n",
      "  y = column_or_1d(y, warn=True)\n"
     ]
    },
    {
     "name": "stdout",
     "output_type": "stream",
     "text": [
      "Wall time: 49.9 s\n"
     ]
    },
    {
     "data": {
      "text/plain": [
       "XGBClassifier(base_score=0.5, booster='gbtree', colsample_bylevel=1,\n",
       "       colsample_bytree=1, gamma=0, learning_rate=0.05, max_delta_step=0,\n",
       "       max_depth=5, min_child_weight=1, missing=None, n_estimators=100,\n",
       "       n_jobs=1, nthread=None, objective='binary:logistic', random_state=0,\n",
       "       reg_alpha=0, reg_lambda=1, scale_pos_weight=5, seed=None,\n",
       "       silent=True, subsample=1)"
      ]
     },
     "execution_count": 134,
     "metadata": {},
     "output_type": "execute_result"
    }
   ],
   "source": [
    "%%time\n",
    "clf.fit(train_data.drop(columns=drop_cols), train_labels)"
   ]
  },
  {
   "cell_type": "code",
   "execution_count": 128,
   "metadata": {},
   "outputs": [],
   "source": [
    "val_predict = clf.predict(val_data.drop(columns=drop_cols))"
   ]
  },
  {
   "cell_type": "code",
   "execution_count": 129,
   "metadata": {},
   "outputs": [
    {
     "data": {
      "text/plain": [
       "0.11214953271028034"
      ]
     },
     "execution_count": 129,
     "metadata": {},
     "output_type": "execute_result"
    }
   ],
   "source": [
    "f1_score(val_labels, val_predict)"
   ]
  },
  {
   "cell_type": "code",
   "execution_count": 31,
   "metadata": {},
   "outputs": [
    {
     "name": "stdout",
     "output_type": "stream",
     "text": [
      "              precision    recall  f1-score   support\n",
      "\n",
      "           0       1.00      1.00      1.00     28856\n",
      "           1       0.50      0.54      0.52       159\n",
      "\n",
      "   micro avg       0.99      0.99      0.99     29015\n",
      "   macro avg       0.75      0.77      0.76     29015\n",
      "weighted avg       0.99      0.99      0.99     29015\n",
      "\n"
     ]
    }
   ],
   "source": [
    "print(classification_report(val_labels, val_predict))"
   ]
  },
  {
   "cell_type": "code",
   "execution_count": 132,
   "metadata": {},
   "outputs": [
    {
     "data": {
      "text/plain": [
       "78"
      ]
     },
     "execution_count": 132,
     "metadata": {},
     "output_type": "execute_result"
    }
   ],
   "source": [
    "confusion_matrix(val_labels, val_predict)[1,0]"
   ]
  },
  {
   "cell_type": "code",
   "execution_count": 130,
   "metadata": {},
   "outputs": [
    {
     "data": {
      "text/plain": [
       "array([[28789,    17],\n",
       "       [   78,     6]], dtype=int64)"
      ]
     },
     "execution_count": 130,
     "metadata": {},
     "output_type": "execute_result"
    }
   ],
   "source": [
    "confusion_matrix(val_labels, val_predict)"
   ]
  },
  {
   "cell_type": "code",
   "execution_count": 45,
   "metadata": {},
   "outputs": [],
   "source": [
    "test_predict = clf.predict(test_data.drop(columns=drop_cols))"
   ]
  },
  {
   "cell_type": "code",
   "execution_count": 46,
   "metadata": {},
   "outputs": [
    {
     "data": {
      "text/plain": [
       "array([0, 0, 0, ..., 0, 0, 0], dtype=int64)"
      ]
     },
     "execution_count": 46,
     "metadata": {},
     "output_type": "execute_result"
    }
   ],
   "source": [
    "test_predict"
   ]
  },
  {
   "cell_type": "markdown",
   "metadata": {},
   "source": [
    "IsolationForest and LocalOutlierFactor"
   ]
  },
  {
   "cell_type": "code",
   "execution_count": 136,
   "metadata": {},
   "outputs": [],
   "source": [
    "from sklearn.ensemble import IsolationForest\n",
    "\n",
    "from sklearn.neighbors import LocalOutlierFactor"
   ]
  },
  {
   "cell_type": "code",
   "execution_count": 147,
   "metadata": {},
   "outputs": [
    {
     "name": "stderr",
     "output_type": "stream",
     "text": [
      "C:\\Users\\dilee\\Anaconda3\\lib\\site-packages\\sklearn\\ensemble\\iforest.py:223: FutureWarning: behaviour=\"old\" is deprecated and will be removed in version 0.22. Please use behaviour=\"new\", which makes the decision_function change to match other anomaly detection algorithm API.\n",
      "  FutureWarning)\n",
      "C:\\Users\\dilee\\Anaconda3\\lib\\site-packages\\sklearn\\ensemble\\iforest.py:417: DeprecationWarning: threshold_ attribute is deprecated in 0.20 and will be removed in 0.22.\n",
      "  \" be removed in 0.22.\", DeprecationWarning)\n"
     ]
    },
    {
     "name": "stdout",
     "output_type": "stream",
     "text": [
      "Isolation Forest: 434\n",
      "Accuracy Score :\n",
      "0.9949923269525887\n",
      "Classification Report :\n",
      "              precision    recall  f1-score   support\n",
      "\n",
      "           0       1.00      1.00      1.00     86415\n",
      "           1       0.14      0.14      0.14       252\n",
      "\n",
      "   micro avg       0.99      0.99      0.99     86667\n",
      "   macro avg       0.57      0.57      0.57     86667\n",
      "weighted avg       0.99      0.99      0.99     86667\n",
      "\n",
      "Local Outlier Factor: 502\n",
      "Accuracy Score :\n",
      "0.9942077145857131\n",
      "Classification Report :\n",
      "              precision    recall  f1-score   support\n",
      "\n",
      "           0       1.00      1.00      1.00     86415\n",
      "           1       0.00      0.00      0.00       252\n",
      "\n",
      "   micro avg       0.99      0.99      0.99     86667\n",
      "   macro avg       0.50      0.50      0.50     86667\n",
      "weighted avg       0.99      0.99      0.99     86667\n",
      "\n"
     ]
    }
   ],
   "source": [
    "outlier_fraction = train_labels[\"m13\"].sum()/len(train_labels)\n",
    "\n",
    "classifiers = {\n",
    "    \"Isolation Forest\":IsolationForest(n_estimators=100, max_samples=len(train_data.drop(columns=drop_cols)), \n",
    "                                       contamination=outlier_fraction,random_state=42, verbose=0),\n",
    "    \"Local Outlier Factor\":LocalOutlierFactor(n_neighbors=20, algorithm='auto', \n",
    "                                              leaf_size=30, metric='minkowski',\n",
    "                                              p=2, metric_params=None, contamination=outlier_fraction)}\n",
    "\n",
    "n_outliers = train_labels[\"m13\"].sum()\n",
    "for i, (clf_name,clf) in enumerate(classifiers.items()):\n",
    "    #Fit the data and tag outliers\n",
    "    if clf_name == \"Local Outlier Factor\":\n",
    "        y_pred = clf.fit_predict(train_data.drop(columns=drop_cols))\n",
    "        scores_prediction = clf.negative_outlier_factor_\n",
    "    else:    \n",
    "        clf.fit(train_data.drop(columns=drop_cols))\n",
    "        scores_prediction = clf.decision_function(train_data.drop(columns=drop_cols))\n",
    "        y_pred = clf.predict(train_data.drop(columns=drop_cols))\n",
    "    #Reshape the prediction values to 0 for Valid transactions , 1 for Fraud transactions\n",
    "    y_pred[y_pred == 1] = 0\n",
    "    y_pred[y_pred == -1] = 1\n",
    "    n_errors = (y_pred != train_labels[\"m13\"]).sum()\n",
    "    # Run Classification Metrics\n",
    "    print(\"{}: {}\".format(clf_name,n_errors))\n",
    "    print(\"Accuracy Score :\")\n",
    "    print(accuracy_score(train_labels[\"m13\"],y_pred))\n",
    "    print(\"Classification Report :\")\n",
    "    print(classification_report(train_labels[\"m13\"],y_pred))"
   ]
  },
  {
   "cell_type": "code",
   "execution_count": 144,
   "metadata": {},
   "outputs": [],
   "source": [
    "from sklearn.metrics import accuracy_score"
   ]
  },
  {
   "cell_type": "code",
   "execution_count": 150,
   "metadata": {},
   "outputs": [
    {
     "data": {
      "text/plain": [
       "['loan_id', 'first_payment_date', 'origination_date', 'm13']"
      ]
     },
     "execution_count": 150,
     "metadata": {},
     "output_type": "execute_result"
    }
   ],
   "source": [
    "drop_cols + [\"m13\"]"
   ]
  },
  {
   "cell_type": "code",
   "execution_count": 157,
   "metadata": {},
   "outputs": [],
   "source": [
    "train_data, val_data, train_labels, val_labels = train_test_split(data.drop(columns=\"m13\"),data[[\"m13\"]], test_size=0.25, stratify=data[\"m13\"])\n",
    "\n",
    "train_data = train_data.drop(columns=drop_cols)\n",
    "val_data = val_data.drop(columns=drop_cols)"
   ]
  },
  {
   "cell_type": "code",
   "execution_count": 158,
   "metadata": {},
   "outputs": [
    {
     "name": "stderr",
     "output_type": "stream",
     "text": [
      "C:\\Users\\dilee\\Anaconda3\\lib\\site-packages\\sklearn\\ensemble\\iforest.py:223: FutureWarning: behaviour=\"old\" is deprecated and will be removed in version 0.22. Please use behaviour=\"new\", which makes the decision_function change to match other anomaly detection algorithm API.\n",
      "  FutureWarning)\n",
      "C:\\Users\\dilee\\Anaconda3\\lib\\site-packages\\sklearn\\ensemble\\iforest.py:417: DeprecationWarning: threshold_ attribute is deprecated in 0.20 and will be removed in 0.22.\n",
      "  \" be removed in 0.22.\", DeprecationWarning)\n"
     ]
    },
    {
     "name": "stdout",
     "output_type": "stream",
     "text": [
      "Isolation Forest: 584\n",
      "Accuracy Score :\n",
      "0.9932906724262721\n",
      "Classification Report :\n",
      "              precision    recall  f1-score   support\n",
      "\n",
      "           0       1.00      1.00      1.00     86566\n",
      "           1       0.39      0.39      0.39       477\n",
      "\n",
      "   micro avg       0.99      0.99      0.99     87043\n",
      "   macro avg       0.69      0.69      0.69     87043\n",
      "weighted avg       0.99      0.99      0.99     87043\n",
      "\n",
      "Local Outlier Factor: 954\n",
      "Accuracy Score :\n",
      "0.9890398998196294\n",
      "Classification Report :\n",
      "              precision    recall  f1-score   support\n",
      "\n",
      "           0       0.99      0.99      0.99     86566\n",
      "           1       0.00      0.00      0.00       477\n",
      "\n",
      "   micro avg       0.99      0.99      0.99     87043\n",
      "   macro avg       0.50      0.50      0.50     87043\n",
      "weighted avg       0.99      0.99      0.99     87043\n",
      "\n"
     ]
    }
   ],
   "source": [
    "outlier_fraction = train_labels[\"m13\"].sum()/len(train_labels)\n",
    "\n",
    "classifiers = {\n",
    "    \"Isolation Forest\":IsolationForest(n_estimators=100, max_samples=len(train_data), \n",
    "                                       contamination=outlier_fraction,random_state=42, verbose=0),\n",
    "    \"Local Outlier Factor\":LocalOutlierFactor(n_neighbors=20, algorithm='auto', \n",
    "                                              leaf_size=30, metric='minkowski',\n",
    "                                              p=2, metric_params=None, contamination=outlier_fraction)}\n",
    "\n",
    "n_outliers = train_labels[\"m13\"].sum()\n",
    "for i, (clf_name,clf) in enumerate(classifiers.items()):\n",
    "    #Fit the data and tag outliers\n",
    "    if clf_name == \"Local Outlier Factor\":\n",
    "        y_pred = clf.fit_predict(train_data)\n",
    "        scores_prediction = clf.negative_outlier_factor_\n",
    "    else:    \n",
    "        clf.fit(train_data)\n",
    "        scores_prediction = clf.decision_function(train_data)\n",
    "        y_pred = clf.predict(train_data)\n",
    "    #Reshape the prediction values to 0 for Valid transactions , 1 for Fraud transactions\n",
    "    y_pred[y_pred == 1] = 0\n",
    "    y_pred[y_pred == -1] = 1\n",
    "    n_errors = (y_pred != train_labels[\"m13\"]).sum()\n",
    "    # Run Classification Metrics\n",
    "    print(\"{}: {}\".format(clf_name,n_errors))\n",
    "    print(\"Accuracy Score :\")\n",
    "    print(accuracy_score(train_labels[\"m13\"],y_pred))\n",
    "    print(\"Classification Report :\")\n",
    "    print(classification_report(train_labels[\"m13\"],y_pred))"
   ]
  },
  {
   "cell_type": "code",
   "execution_count": 160,
   "metadata": {},
   "outputs": [
    {
     "name": "stderr",
     "output_type": "stream",
     "text": [
      "C:\\Users\\dilee\\Anaconda3\\lib\\site-packages\\sklearn\\ensemble\\iforest.py:417: DeprecationWarning: threshold_ attribute is deprecated in 0.20 and will be removed in 0.22.\n",
      "  \" be removed in 0.22.\", DeprecationWarning)\n"
     ]
    }
   ],
   "source": [
    "val_pred = classifiers[\"Isolation Forest\"].predict(val_data)"
   ]
  },
  {
   "cell_type": "code",
   "execution_count": 161,
   "metadata": {},
   "outputs": [],
   "source": [
    "val_pred[val_pred==1]=0\n",
    "val_pred[val_pred==-1]=1"
   ]
  },
  {
   "cell_type": "code",
   "execution_count": 163,
   "metadata": {},
   "outputs": [
    {
     "data": {
      "text/plain": [
       "0.4131147540983606"
      ]
     },
     "execution_count": 163,
     "metadata": {},
     "output_type": "execute_result"
    }
   ],
   "source": [
    "f1_score(val_labels[\"m13\"], val_pred)"
   ]
  },
  {
   "cell_type": "code",
   "execution_count": 164,
   "metadata": {},
   "outputs": [
    {
     "data": {
      "text/plain": [
       "array([[28773,    83],\n",
       "       [   96,    63]], dtype=int64)"
      ]
     },
     "execution_count": 164,
     "metadata": {},
     "output_type": "execute_result"
    }
   ],
   "source": [
    "confusion_matrix(val_labels[\"m13\"], val_pred)"
   ]
  },
  {
   "cell_type": "code",
   "execution_count": 166,
   "metadata": {},
   "outputs": [],
   "source": [
    "val_explore = val_data\n",
    "val_explore[\"m13\"] =  val_labels[\"m13\"]\n",
    "val_explore[\"pred\"] = val_pred"
   ]
  },
  {
   "cell_type": "code",
   "execution_count": 167,
   "metadata": {},
   "outputs": [
    {
     "data": {
      "text/plain": [
       "array([[28773,    83],\n",
       "       [   96,    63]], dtype=int64)"
      ]
     },
     "execution_count": 167,
     "metadata": {},
     "output_type": "execute_result"
    }
   ],
   "source": [
    "confusion_matrix(val_explore[\"m13\"], val_explore[\"pred\"])"
   ]
  },
  {
   "cell_type": "code",
   "execution_count": 213,
   "metadata": {},
   "outputs": [],
   "source": [
    "val_explore[\"ensemble1\"] = val_explore.apply(lambda x: 1 if x[\"m12\"]>0 or x[\"pred\"]>0 else 0 , axis=1)\n",
    "val_explore[\"ensemble2\"] = val_explore.apply(lambda x: 0 if x[\"m12\"]==1 and x[\"pred\"]==0 else  int(bool(x[\"m12\"])), axis=1)\n",
    "val_explore[\"ensemble3\"] = val_explore.apply(lambda x: 1 if x[\"m12\"]==0 and x[\"total_delinquencies\"]>10 else  int(bool(x[\"m12\"])), axis=1)"
   ]
  },
  {
   "cell_type": "code",
   "execution_count": 177,
   "metadata": {},
   "outputs": [
    {
     "data": {
      "text/plain": [
       "0.5187713310580205"
      ]
     },
     "execution_count": 177,
     "metadata": {},
     "output_type": "execute_result"
    }
   ],
   "source": [
    "f1_score(val_explore[\"m13\"], val_explore[\"m12\"].apply(lambda x:1 if x >0 else 0))"
   ]
  },
  {
   "cell_type": "code",
   "execution_count": 178,
   "metadata": {},
   "outputs": [
    {
     "data": {
      "text/plain": [
       "0.4131147540983606"
      ]
     },
     "execution_count": 178,
     "metadata": {},
     "output_type": "execute_result"
    }
   ],
   "source": [
    "f1_score(val_explore[\"m13\"], val_explore[\"pred\"])"
   ]
  },
  {
   "cell_type": "code",
   "execution_count": 179,
   "metadata": {},
   "outputs": [
    {
     "data": {
      "text/plain": [
       "0.47150259067357514"
      ]
     },
     "execution_count": 179,
     "metadata": {},
     "output_type": "execute_result"
    }
   ],
   "source": [
    "f1_score(val_explore[\"m13\"], val_explore[\"ensemble1\"])"
   ]
  },
  {
   "cell_type": "code",
   "execution_count": 180,
   "metadata": {},
   "outputs": [
    {
     "data": {
      "text/plain": [
       "0.47222222222222215"
      ]
     },
     "execution_count": 180,
     "metadata": {},
     "output_type": "execute_result"
    }
   ],
   "source": [
    "f1_score(val_explore[\"m13\"], val_explore[\"ensemble2\"])"
   ]
  },
  {
   "cell_type": "code",
   "execution_count": 214,
   "metadata": {},
   "outputs": [
    {
     "data": {
      "text/plain": [
       "0.531986531986532"
      ]
     },
     "execution_count": 214,
     "metadata": {},
     "output_type": "execute_result"
    }
   ],
   "source": [
    "f1_score(val_explore[\"m13\"], val_explore[\"ensemble3\"])"
   ]
  },
  {
   "cell_type": "code",
   "execution_count": 215,
   "metadata": {},
   "outputs": [],
   "source": [
    "test_data[\"m13\"] = test_data.apply(lambda x: 1 if x[\"m12\"]==0 and x[\"total_delinquencies\"]>10 else  int(bool(x[\"m12\"])), axis=1)"
   ]
  },
  {
   "cell_type": "code",
   "execution_count": 216,
   "metadata": {},
   "outputs": [],
   "source": [
    "test_data[[\"loan_id\", \"m13\"]].to_csv(\"total_delinquencies_submission.csv\", index=None)"
   ]
  },
  {
   "cell_type": "code",
   "execution_count": 169,
   "metadata": {},
   "outputs": [
    {
     "data": {
      "text/plain": [
       "0    78\n",
       "1    15\n",
       "Name: m13, dtype: int64"
      ]
     },
     "execution_count": 169,
     "metadata": {},
     "output_type": "execute_result"
    }
   ],
   "source": [
    "val_explore[(val_explore[\"m12\"]==0)&(val_explore[\"pred\"]==1)][\"m13\"].value_counts()"
   ]
  },
  {
   "cell_type": "code",
   "execution_count": 184,
   "metadata": {},
   "outputs": [
    {
     "data": {
      "text/plain": [
       "count    28788.000000\n",
       "mean       770.805926\n",
       "std         38.463062\n",
       "min        559.000000\n",
       "25%        752.000000\n",
       "50%        782.000000\n",
       "75%        799.000000\n",
       "max        840.000000\n",
       "Name: borrower_credit_score, dtype: float64"
      ]
     },
     "execution_count": 184,
     "metadata": {},
     "output_type": "execute_result"
    }
   ],
   "source": [
    "val_explore[(val_explore[\"m12\"]==0)&(val_explore[\"m13\"]==0)&(val_explore[\"borrower_credit_score\"]>0)][\"borrower_credit_score\"].describe()"
   ]
  },
  {
   "cell_type": "code",
   "execution_count": 183,
   "metadata": {},
   "outputs": [
    {
     "data": {
      "text/plain": [
       "count     83.000000\n",
       "mean     725.927711\n",
       "std       53.172931\n",
       "min      627.000000\n",
       "25%      679.500000\n",
       "50%      728.000000\n",
       "75%      772.000000\n",
       "max      818.000000\n",
       "Name: borrower_credit_score, dtype: float64"
      ]
     },
     "execution_count": 183,
     "metadata": {},
     "output_type": "execute_result"
    }
   ],
   "source": [
    "val_explore[(val_explore[\"m12\"]==0)&(val_explore[\"m13\"]==1)][\"borrower_credit_score\"].describe()"
   ]
  },
  {
   "cell_type": "code",
   "execution_count": 188,
   "metadata": {},
   "outputs": [
    {
     "data": {
      "text/plain": [
       "0    11\n",
       "1     7\n",
       "Name: m13, dtype: int64"
      ]
     },
     "execution_count": 188,
     "metadata": {},
     "output_type": "execute_result"
    }
   ],
   "source": [
    "val_explore[(val_explore[\"m12\"]==1)&(val_explore[\"borrower_credit_score\"]>0)&(val_explore[\"borrower_credit_score\"]>780)][\"m13\"].value_counts()"
   ]
  },
  {
   "cell_type": "code",
   "execution_count": 236,
   "metadata": {},
   "outputs": [
    {
     "data": {
      "text/plain": [
       "0    10\n",
       "1     6\n",
       "Name: m13, dtype: int64"
      ]
     },
     "execution_count": 236,
     "metadata": {},
     "output_type": "execute_result"
    }
   ],
   "source": [
    "val_explore[(val_explore[\"m12\"]==1)&(val_explore[\"total_delinquencies\"]==1)][\"m13\"].value_counts()"
   ]
  },
  {
   "cell_type": "code",
   "execution_count": 170,
   "metadata": {},
   "outputs": [
    {
     "data": {
      "text/plain": [
       "0    52\n",
       "1    25\n",
       "Name: m13, dtype: int64"
      ]
     },
     "execution_count": 170,
     "metadata": {},
     "output_type": "execute_result"
    }
   ],
   "source": [
    "val_explore[(val_explore[\"m12\"]==1)&(val_explore[\"pred\"]==0)][\"m13\"].value_counts()"
   ]
  },
  {
   "cell_type": "code",
   "execution_count": 168,
   "metadata": {},
   "outputs": [
    {
     "data": {
      "text/html": [
       "<div>\n",
       "<style scoped>\n",
       "    .dataframe tbody tr th:only-of-type {\n",
       "        vertical-align: middle;\n",
       "    }\n",
       "\n",
       "    .dataframe tbody tr th {\n",
       "        vertical-align: top;\n",
       "    }\n",
       "\n",
       "    .dataframe thead th {\n",
       "        text-align: right;\n",
       "    }\n",
       "</style>\n",
       "<table border=\"1\" class=\"dataframe\">\n",
       "  <thead>\n",
       "    <tr style=\"text-align: right;\">\n",
       "      <th>pred</th>\n",
       "      <th>0</th>\n",
       "      <th>1</th>\n",
       "    </tr>\n",
       "    <tr>\n",
       "      <th>m12</th>\n",
       "      <th></th>\n",
       "      <th></th>\n",
       "    </tr>\n",
       "  </thead>\n",
       "  <tbody>\n",
       "    <tr>\n",
       "      <th>0</th>\n",
       "      <td>28788</td>\n",
       "      <td>93</td>\n",
       "    </tr>\n",
       "    <tr>\n",
       "      <th>1</th>\n",
       "      <td>77</td>\n",
       "      <td>21</td>\n",
       "    </tr>\n",
       "    <tr>\n",
       "      <th>2</th>\n",
       "      <td>4</td>\n",
       "      <td>7</td>\n",
       "    </tr>\n",
       "    <tr>\n",
       "      <th>3</th>\n",
       "      <td>0</td>\n",
       "      <td>10</td>\n",
       "    </tr>\n",
       "    <tr>\n",
       "      <th>4</th>\n",
       "      <td>0</td>\n",
       "      <td>3</td>\n",
       "    </tr>\n",
       "    <tr>\n",
       "      <th>5</th>\n",
       "      <td>0</td>\n",
       "      <td>3</td>\n",
       "    </tr>\n",
       "    <tr>\n",
       "      <th>6</th>\n",
       "      <td>0</td>\n",
       "      <td>4</td>\n",
       "    </tr>\n",
       "    <tr>\n",
       "      <th>7</th>\n",
       "      <td>0</td>\n",
       "      <td>2</td>\n",
       "    </tr>\n",
       "    <tr>\n",
       "      <th>9</th>\n",
       "      <td>0</td>\n",
       "      <td>1</td>\n",
       "    </tr>\n",
       "    <tr>\n",
       "      <th>10</th>\n",
       "      <td>0</td>\n",
       "      <td>1</td>\n",
       "    </tr>\n",
       "    <tr>\n",
       "      <th>14</th>\n",
       "      <td>0</td>\n",
       "      <td>1</td>\n",
       "    </tr>\n",
       "  </tbody>\n",
       "</table>\n",
       "</div>"
      ],
      "text/plain": [
       "pred      0   1\n",
       "m12            \n",
       "0     28788  93\n",
       "1        77  21\n",
       "2         4   7\n",
       "3         0  10\n",
       "4         0   3\n",
       "5         0   3\n",
       "6         0   4\n",
       "7         0   2\n",
       "9         0   1\n",
       "10        0   1\n",
       "14        0   1"
      ]
     },
     "execution_count": 168,
     "metadata": {},
     "output_type": "execute_result"
    }
   ],
   "source": [
    "pd.crosstab(val_explore[\"m12\"], val_explore[\"pred\"])"
   ]
  },
  {
   "cell_type": "code",
   "execution_count": 193,
   "metadata": {},
   "outputs": [
    {
     "data": {
      "text/plain": [
       "['loan_id', 'first_payment_date', 'origination_date']"
      ]
     },
     "execution_count": 193,
     "metadata": {},
     "output_type": "execute_result"
    }
   ],
   "source": [
    "drop_cols"
   ]
  },
  {
   "cell_type": "code",
   "execution_count": 208,
   "metadata": {},
   "outputs": [
    {
     "data": {
      "text/plain": [
       "count    42.000000\n",
       "mean      3.452381\n",
       "std       7.228677\n",
       "min       0.000000\n",
       "25%       0.000000\n",
       "50%       1.000000\n",
       "75%       4.000000\n",
       "max      33.000000\n",
       "Name: total_delinquencies, dtype: float64"
      ]
     },
     "execution_count": 208,
     "metadata": {},
     "output_type": "execute_result"
    }
   ],
   "source": [
    "val_explore[(val_explore[\"m13\"]==1)&(val_explore[\"m12\"]==1)][\"total_delinquencies\"].describe()"
   ]
  },
  {
   "cell_type": "code",
   "execution_count": 210,
   "metadata": {},
   "outputs": [
    {
     "data": {
      "text/plain": [
       "count    28798.000000\n",
       "mean         0.016494\n",
       "std          0.201839\n",
       "min          0.000000\n",
       "25%          0.000000\n",
       "50%          0.000000\n",
       "75%          0.000000\n",
       "max         16.000000\n",
       "Name: total_delinquencies, dtype: float64"
      ]
     },
     "execution_count": 210,
     "metadata": {},
     "output_type": "execute_result"
    }
   ],
   "source": [
    "val_explore[(val_explore[\"m13\"]==0)&(val_explore[\"m12\"]==0)][\"total_delinquencies\"].describe()"
   ]
  },
  {
   "cell_type": "code",
   "execution_count": 206,
   "metadata": {},
   "outputs": [
    {
     "data": {
      "text/plain": [
       "count    83.000000\n",
       "mean      1.457831\n",
       "std       4.058419\n",
       "min       0.000000\n",
       "25%       0.000000\n",
       "50%       0.000000\n",
       "75%       1.000000\n",
       "max      29.000000\n",
       "Name: total_delinquencies, dtype: float64"
      ]
     },
     "execution_count": 206,
     "metadata": {},
     "output_type": "execute_result"
    }
   ],
   "source": [
    "val_explore[(val_explore[\"m13\"]==1)&(val_explore[\"m12\"]==0)][\"total_delinquencies\"].describe()"
   ]
  },
  {
   "cell_type": "code",
   "execution_count": 212,
   "metadata": {},
   "outputs": [
    {
     "data": {
      "text/plain": [
       "1    3\n",
       "0    1\n",
       "Name: m13, dtype: int64"
      ]
     },
     "execution_count": 212,
     "metadata": {},
     "output_type": "execute_result"
    }
   ],
   "source": [
    "val_explore[(val_explore[\"total_delinquencies\"]>10)&(val_explore[\"m12\"]==0)][\"m13\"].value_counts()"
   ]
  },
  {
   "cell_type": "code",
   "execution_count": 194,
   "metadata": {},
   "outputs": [
    {
     "data": {
      "text/html": [
       "<div>\n",
       "<style scoped>\n",
       "    .dataframe tbody tr th:only-of-type {\n",
       "        vertical-align: middle;\n",
       "    }\n",
       "\n",
       "    .dataframe tbody tr th {\n",
       "        vertical-align: top;\n",
       "    }\n",
       "\n",
       "    .dataframe thead th {\n",
       "        text-align: right;\n",
       "    }\n",
       "</style>\n",
       "<table border=\"1\" class=\"dataframe\">\n",
       "  <thead>\n",
       "    <tr style=\"text-align: right;\">\n",
       "      <th>origination_date</th>\n",
       "      <th>2012-01-01</th>\n",
       "      <th>2012-02-01</th>\n",
       "      <th>2012-03-01</th>\n",
       "    </tr>\n",
       "    <tr>\n",
       "      <th>first_payment_date</th>\n",
       "      <th></th>\n",
       "      <th></th>\n",
       "      <th></th>\n",
       "    </tr>\n",
       "  </thead>\n",
       "  <tbody>\n",
       "    <tr>\n",
       "      <th>02/2012</th>\n",
       "      <td>524</td>\n",
       "      <td>0</td>\n",
       "      <td>0</td>\n",
       "    </tr>\n",
       "    <tr>\n",
       "      <th>03/2012</th>\n",
       "      <td>46401</td>\n",
       "      <td>1279</td>\n",
       "      <td>0</td>\n",
       "    </tr>\n",
       "    <tr>\n",
       "      <th>04/2012</th>\n",
       "      <td>2168</td>\n",
       "      <td>49482</td>\n",
       "      <td>1190</td>\n",
       "    </tr>\n",
       "    <tr>\n",
       "      <th>05/2012</th>\n",
       "      <td>0</td>\n",
       "      <td>1573</td>\n",
       "      <td>13441</td>\n",
       "    </tr>\n",
       "  </tbody>\n",
       "</table>\n",
       "</div>"
      ],
      "text/plain": [
       "origination_date    2012-01-01  2012-02-01  2012-03-01\n",
       "first_payment_date                                    \n",
       "02/2012                    524           0           0\n",
       "03/2012                  46401        1279           0\n",
       "04/2012                   2168       49482        1190\n",
       "05/2012                      0        1573       13441"
      ]
     },
     "execution_count": 194,
     "metadata": {},
     "output_type": "execute_result"
    }
   ],
   "source": [
    "pd.crosstab(data[\"first_payment_date\"], data[\"origination_date\"])"
   ]
  },
  {
   "cell_type": "code",
   "execution_count": 196,
   "metadata": {},
   "outputs": [
    {
     "data": {
      "text/html": [
       "<div>\n",
       "<style scoped>\n",
       "    .dataframe tbody tr th:only-of-type {\n",
       "        vertical-align: middle;\n",
       "    }\n",
       "\n",
       "    .dataframe tbody tr th {\n",
       "        vertical-align: top;\n",
       "    }\n",
       "\n",
       "    .dataframe thead th {\n",
       "        text-align: right;\n",
       "    }\n",
       "</style>\n",
       "<table border=\"1\" class=\"dataframe\">\n",
       "  <thead>\n",
       "    <tr style=\"text-align: right;\">\n",
       "      <th>origination_date</th>\n",
       "      <th>2012-01-01</th>\n",
       "      <th>2012-02-01</th>\n",
       "      <th>2012-03-01</th>\n",
       "    </tr>\n",
       "    <tr>\n",
       "      <th>first_payment_date</th>\n",
       "      <th></th>\n",
       "      <th></th>\n",
       "      <th></th>\n",
       "    </tr>\n",
       "  </thead>\n",
       "  <tbody>\n",
       "    <tr>\n",
       "      <th>02/2012</th>\n",
       "      <td>0.01145</td>\n",
       "      <td>NaN</td>\n",
       "      <td>NaN</td>\n",
       "    </tr>\n",
       "    <tr>\n",
       "      <th>03/2012</th>\n",
       "      <td>0.00625</td>\n",
       "      <td>0.004691</td>\n",
       "      <td>NaN</td>\n",
       "    </tr>\n",
       "    <tr>\n",
       "      <th>04/2012</th>\n",
       "      <td>0.00369</td>\n",
       "      <td>0.005396</td>\n",
       "      <td>0.004202</td>\n",
       "    </tr>\n",
       "    <tr>\n",
       "      <th>05/2012</th>\n",
       "      <td>NaN</td>\n",
       "      <td>0.003814</td>\n",
       "      <td>0.003571</td>\n",
       "    </tr>\n",
       "  </tbody>\n",
       "</table>\n",
       "</div>"
      ],
      "text/plain": [
       "origination_date    2012-01-01  2012-02-01  2012-03-01\n",
       "first_payment_date                                    \n",
       "02/2012                0.01145         NaN         NaN\n",
       "03/2012                0.00625    0.004691         NaN\n",
       "04/2012                0.00369    0.005396    0.004202\n",
       "05/2012                    NaN    0.003814    0.003571"
      ]
     },
     "execution_count": 196,
     "metadata": {},
     "output_type": "execute_result"
    }
   ],
   "source": [
    "pd.crosstab(data[\"first_payment_date\"], data[\"origination_date\"], data[\"m13\"], aggfunc=\"mean\")"
   ]
  },
  {
   "cell_type": "markdown",
   "metadata": {},
   "source": [
    "# Scaling the data"
   ]
  },
  {
   "cell_type": "code",
   "execution_count": 237,
   "metadata": {},
   "outputs": [],
   "source": [
    "from sklearn.preprocessing import StandardScaler"
   ]
  },
  {
   "cell_type": "code",
   "execution_count": 255,
   "metadata": {},
   "outputs": [
    {
     "name": "stderr",
     "output_type": "stream",
     "text": [
      "C:\\Users\\dilee\\Anaconda3\\lib\\site-packages\\sklearn\\preprocessing\\data.py:625: DataConversionWarning: Data with input dtype uint8, int64, float64 were all converted to float64 by StandardScaler.\n",
      "  return self.partial_fit(X, y)\n",
      "C:\\Users\\dilee\\Anaconda3\\lib\\site-packages\\sklearn\\base.py:462: DataConversionWarning: Data with input dtype uint8, int64, float64 were all converted to float64 by StandardScaler.\n",
      "  return self.fit(X, **fit_params).transform(X)\n",
      "C:\\Users\\dilee\\Anaconda3\\lib\\site-packages\\ipykernel_launcher.py:8: DataConversionWarning: Data with input dtype uint8, int64, float64 were all converted to float64 by StandardScaler.\n",
      "  \n"
     ]
    }
   ],
   "source": [
    "train_data, val_data, train_labels, val_labels = train_test_split(data.drop(columns=\"m13\"),data[[\"m13\"]], test_size=0.25, stratify=data[\"m13\"])\n",
    "train_data = train_data.drop(columns=drop_cols)\n",
    "val_data = val_data.drop(columns=drop_cols)\n",
    "\n",
    "sc= StandardScaler()\n",
    "train_data_z = sc.fit_transform(train_data)\n",
    "\n",
    "val_data_z = sc.transform(val_data)"
   ]
  },
  {
   "cell_type": "code",
   "execution_count": 261,
   "metadata": {},
   "outputs": [],
   "source": [
    "train_data_z = pd.DataFrame(train_data_z, columns=list(train_data))\n",
    "val_data_z = pd.DataFrame(val_data_z, columns=list(train_data))"
   ]
  },
  {
   "cell_type": "code",
   "execution_count": 242,
   "metadata": {},
   "outputs": [
    {
     "name": "stderr",
     "output_type": "stream",
     "text": [
      "C:\\Users\\dilee\\Anaconda3\\lib\\site-packages\\sklearn\\ensemble\\iforest.py:223: FutureWarning: behaviour=\"old\" is deprecated and will be removed in version 0.22. Please use behaviour=\"new\", which makes the decision_function change to match other anomaly detection algorithm API.\n",
      "  FutureWarning)\n",
      "C:\\Users\\dilee\\Anaconda3\\lib\\site-packages\\sklearn\\ensemble\\iforest.py:417: DeprecationWarning: threshold_ attribute is deprecated in 0.20 and will be removed in 0.22.\n",
      "  \" be removed in 0.22.\", DeprecationWarning)\n"
     ]
    },
    {
     "name": "stdout",
     "output_type": "stream",
     "text": [
      "Isolation Forest: 592\n",
      "Accuracy Score :\n",
      "0.9931987638293717\n",
      "Classification Report :\n",
      "              precision    recall  f1-score   support\n",
      "\n",
      "           0       1.00      1.00      1.00     86566\n",
      "           1       0.38      0.38      0.38       477\n",
      "\n",
      "   micro avg       0.99      0.99      0.99     87043\n",
      "   macro avg       0.69      0.69      0.69     87043\n",
      "weighted avg       0.99      0.99      0.99     87043\n",
      "\n",
      "Local Outlier Factor: 950\n",
      "Accuracy Score :\n",
      "0.9890858541180796\n",
      "Classification Report :\n",
      "              precision    recall  f1-score   support\n",
      "\n",
      "           0       0.99      0.99      0.99     86566\n",
      "           1       0.00      0.00      0.00       477\n",
      "\n",
      "   micro avg       0.99      0.99      0.99     87043\n",
      "   macro avg       0.50      0.50      0.50     87043\n",
      "weighted avg       0.99      0.99      0.99     87043\n",
      "\n"
     ]
    }
   ],
   "source": [
    "outlier_fraction = train_labels[\"m13\"].sum()/len(train_labels)\n",
    "\n",
    "classifiers = {\n",
    "    \"Isolation Forest\":IsolationForest(n_estimators=100, max_samples=len(train_data), \n",
    "                                       contamination=outlier_fraction,random_state=42, verbose=0),\n",
    "    \"Local Outlier Factor\":LocalOutlierFactor(n_neighbors=20, algorithm='auto', \n",
    "                                              leaf_size=30, metric='minkowski',\n",
    "                                              p=2, metric_params=None, contamination=outlier_fraction)}\n",
    "\n",
    "n_outliers = train_labels[\"m13\"].sum()\n",
    "for i, (clf_name,clf) in enumerate(classifiers.items()):\n",
    "    #Fit the data and tag outliers\n",
    "    if clf_name == \"Local Outlier Factor\":\n",
    "        y_pred = clf.fit_predict(train_data)\n",
    "        scores_prediction = clf.negative_outlier_factor_\n",
    "    else:    \n",
    "        clf.fit(train_data)\n",
    "        scores_prediction = clf.decision_function(train_data)\n",
    "        y_pred = clf.predict(train_data)\n",
    "    #Reshape the prediction values to 0 for Valid transactions , 1 for Fraud transactions\n",
    "    y_pred[y_pred == 1] = 0\n",
    "    y_pred[y_pred == -1] = 1\n",
    "    n_errors = (y_pred != train_labels[\"m13\"]).sum()\n",
    "    # Run Classification Metrics\n",
    "    print(\"{}: {}\".format(clf_name,n_errors))\n",
    "    print(\"Accuracy Score :\")\n",
    "    print(accuracy_score(train_labels[\"m13\"],y_pred))\n",
    "    print(\"Classification Report :\")\n",
    "    print(classification_report(train_labels[\"m13\"],y_pred))"
   ]
  },
  {
   "cell_type": "code",
   "execution_count": 227,
   "metadata": {},
   "outputs": [
    {
     "data": {
      "text/html": [
       "<div>\n",
       "<style scoped>\n",
       "    .dataframe tbody tr th:only-of-type {\n",
       "        vertical-align: middle;\n",
       "    }\n",
       "\n",
       "    .dataframe tbody tr th {\n",
       "        vertical-align: top;\n",
       "    }\n",
       "\n",
       "    .dataframe thead th {\n",
       "        text-align: right;\n",
       "    }\n",
       "</style>\n",
       "<table border=\"1\" class=\"dataframe\">\n",
       "  <thead>\n",
       "    <tr style=\"text-align: right;\">\n",
       "      <th></th>\n",
       "      <th>loan_id</th>\n",
       "      <th>first_payment_date</th>\n",
       "      <th>origination_date</th>\n",
       "    </tr>\n",
       "  </thead>\n",
       "  <tbody>\n",
       "    <tr>\n",
       "      <th>0</th>\n",
       "      <td>1</td>\n",
       "      <td>Apr-12</td>\n",
       "      <td>01/02/12</td>\n",
       "    </tr>\n",
       "    <tr>\n",
       "      <th>1</th>\n",
       "      <td>2</td>\n",
       "      <td>Apr-12</td>\n",
       "      <td>01/02/12</td>\n",
       "    </tr>\n",
       "    <tr>\n",
       "      <th>2</th>\n",
       "      <td>3</td>\n",
       "      <td>Mar-12</td>\n",
       "      <td>01/01/12</td>\n",
       "    </tr>\n",
       "    <tr>\n",
       "      <th>3</th>\n",
       "      <td>4</td>\n",
       "      <td>Apr-12</td>\n",
       "      <td>01/02/12</td>\n",
       "    </tr>\n",
       "    <tr>\n",
       "      <th>4</th>\n",
       "      <td>5</td>\n",
       "      <td>Apr-12</td>\n",
       "      <td>01/02/12</td>\n",
       "    </tr>\n",
       "  </tbody>\n",
       "</table>\n",
       "</div>"
      ],
      "text/plain": [
       "   loan_id first_payment_date origination_date\n",
       "0        1             Apr-12         01/02/12\n",
       "1        2             Apr-12         01/02/12\n",
       "2        3             Mar-12         01/01/12\n",
       "3        4             Apr-12         01/02/12\n",
       "4        5             Apr-12         01/02/12"
      ]
     },
     "execution_count": 227,
     "metadata": {},
     "output_type": "execute_result"
    }
   ],
   "source": [
    "test_data[drop_cols].head()"
   ]
  },
  {
   "cell_type": "code",
   "execution_count": 231,
   "metadata": {},
   "outputs": [
    {
     "data": {
      "text/plain": [
       "2012-01-02    16423\n",
       "2012-01-01    15051\n",
       "2012-01-03     4392\n",
       "Name: origination_date, dtype: int64"
      ]
     },
     "execution_count": 231,
     "metadata": {},
     "output_type": "execute_result"
    }
   ],
   "source": [
    "pd.to_datetime(test_data[\"origination_date\"]).value_counts()"
   ]
  },
  {
   "cell_type": "markdown",
   "metadata": {},
   "source": [
    "# Undersampling"
   ]
  },
  {
   "cell_type": "code",
   "execution_count": 245,
   "metadata": {},
   "outputs": [
    {
     "data": {
      "text/plain": [
       "0    86566\n",
       "1      477\n",
       "Name: m13, dtype: int64"
      ]
     },
     "execution_count": 245,
     "metadata": {},
     "output_type": "execute_result"
    }
   ],
   "source": [
    "train_labels[\"m13\"].value_counts()"
   ]
  },
  {
   "cell_type": "markdown",
   "metadata": {},
   "source": [
    "Total 477 delinqeuncy cases in training dataset. Will create random undersampling from this. First shuffle and then create"
   ]
  },
  {
   "cell_type": "code",
   "execution_count": null,
   "metadata": {},
   "outputs": [],
   "source": [
    "clfs=[]\n",
    "for i in range(20):\n",
    "    train_labels_resampled = train_labels.sample(frac=1).reset_index(drop=True)\n",
    "    fraud_df = train_data_z.loc[train_labels_resampled['m13'] == 1]\n",
    "    non_fraud_df = train_data_z.loc[train_labels_resampled['m13'] == 0][:sum(train_labels[\"m13\"])]\n",
    "    normal_distributed_df = pd.concat([fraud_df, non_fraud_df])\n",
    "    train_data_sampled = normal_distributed_df.sample(frac=1, random_state=42)\n",
    "    train_labels_sampled = train_labels_resampled.loc[train_data_sampled.index]\n",
    "    clf = xgb.XGBClassifier(max_depth=5, n_estimators=100, learning_rate=0.05)\n",
    "    clf.fit(train_data_sampled, train_labels_sampled)\n",
    "    clfs.append(clf)"
   ]
  },
  {
   "cell_type": "code",
   "execution_count": 287,
   "metadata": {},
   "outputs": [],
   "source": [
    "train_labels_resampled = train_labels.sample(frac=1).reset_index(drop=True)\n",
    "\n",
    "# amount of fraud classes 492 rows.\n",
    "fraud_df = train_data_z.loc[train_labels_resampled['m13'] == 1]\n",
    "non_fraud_df = train_data_z.loc[train_labels_resampled['m13'] == 0][:10*sum(train_labels[\"m13\"])]\n",
    "\n",
    "normal_distributed_df = pd.concat([fraud_df, non_fraud_df])\n",
    "\n",
    "# Shuffle dataframe rows\n",
    "train_data_sampled = normal_distributed_df.sample(frac=1, random_state=42)\n",
    "\n",
    "#new_df.head()\n",
    "\n",
    "\n",
    "train_labels_sampled = train_labels_resampled.loc[train_data_sampled.index]"
   ]
  },
  {
   "cell_type": "code",
   "execution_count": 293,
   "metadata": {},
   "outputs": [],
   "source": [
    "clf = xgb.XGBClassifier(max_depth=5, n_estimators=100, learning_rate=0.05, scale_pos_weight=5)"
   ]
  },
  {
   "cell_type": "code",
   "execution_count": 294,
   "metadata": {},
   "outputs": [
    {
     "name": "stderr",
     "output_type": "stream",
     "text": [
      "C:\\Users\\dilee\\Anaconda3\\lib\\site-packages\\sklearn\\preprocessing\\label.py:219: DataConversionWarning: A column-vector y was passed when a 1d array was expected. Please change the shape of y to (n_samples, ), for example using ravel().\n",
      "  y = column_or_1d(y, warn=True)\n",
      "C:\\Users\\dilee\\Anaconda3\\lib\\site-packages\\sklearn\\preprocessing\\label.py:252: DataConversionWarning: A column-vector y was passed when a 1d array was expected. Please change the shape of y to (n_samples, ), for example using ravel().\n",
      "  y = column_or_1d(y, warn=True)\n"
     ]
    },
    {
     "name": "stdout",
     "output_type": "stream",
     "text": [
      "Wall time: 2.88 s\n"
     ]
    },
    {
     "data": {
      "text/plain": [
       "XGBClassifier(base_score=0.5, booster='gbtree', colsample_bylevel=1,\n",
       "       colsample_bytree=1, gamma=0, learning_rate=0.05, max_delta_step=0,\n",
       "       max_depth=5, min_child_weight=1, missing=None, n_estimators=100,\n",
       "       n_jobs=1, nthread=None, objective='binary:logistic', random_state=0,\n",
       "       reg_alpha=0, reg_lambda=1, scale_pos_weight=5, seed=None,\n",
       "       silent=True, subsample=1)"
      ]
     },
     "execution_count": 294,
     "metadata": {},
     "output_type": "execute_result"
    }
   ],
   "source": [
    "%%time\n",
    "clf.fit(train_data_sampled, train_labels_sampled)"
   ]
  },
  {
   "cell_type": "code",
   "execution_count": 295,
   "metadata": {},
   "outputs": [],
   "source": [
    "val_predict = clf.predict(val_data_z)"
   ]
  },
  {
   "cell_type": "code",
   "execution_count": 296,
   "metadata": {},
   "outputs": [
    {
     "data": {
      "text/plain": [
       "0.01584158415841584"
      ]
     },
     "execution_count": 296,
     "metadata": {},
     "output_type": "execute_result"
    }
   ],
   "source": [
    "f1_score(val_labels, val_predict)"
   ]
  },
  {
   "cell_type": "code",
   "execution_count": 297,
   "metadata": {},
   "outputs": [
    {
     "name": "stdout",
     "output_type": "stream",
     "text": [
      "              precision    recall  f1-score   support\n",
      "\n",
      "           0       0.99      0.99      0.99     28856\n",
      "           1       0.01      0.03      0.02       159\n",
      "\n",
      "   micro avg       0.98      0.98      0.98     29015\n",
      "   macro avg       0.50      0.51      0.50     29015\n",
      "weighted avg       0.99      0.98      0.99     29015\n",
      "\n"
     ]
    }
   ],
   "source": [
    "print(classification_report(val_labels, val_predict))"
   ]
  },
  {
   "cell_type": "code",
   "execution_count": 298,
   "metadata": {},
   "outputs": [
    {
     "data": {
      "text/plain": [
       "array([[28514,   342],\n",
       "       [  155,     4]], dtype=int64)"
      ]
     },
     "execution_count": 298,
     "metadata": {},
     "output_type": "execute_result"
    }
   ],
   "source": [
    "confusion_matrix(val_labels, val_predict)"
   ]
  },
  {
   "cell_type": "code",
   "execution_count": 279,
   "metadata": {},
   "outputs": [],
   "source": [
    "from sklearn.manifold import TSNE"
   ]
  },
  {
   "cell_type": "code",
   "execution_count": 299,
   "metadata": {},
   "outputs": [
    {
     "name": "stdout",
     "output_type": "stream",
     "text": [
      "Wall time: 1min 42s\n"
     ]
    }
   ],
   "source": [
    "%%time\n",
    "# T-SNE Implementation\n",
    "\n",
    "X_reduced_tsne = TSNE(n_components=2, random_state=42).fit_transform(train_data_sampled.values)\n"
   ]
  },
  {
   "cell_type": "code",
   "execution_count": 284,
   "metadata": {},
   "outputs": [],
   "source": [
    "from sklearn.decomposition import PCA, TruncatedSVD"
   ]
  },
  {
   "cell_type": "code",
   "execution_count": 300,
   "metadata": {},
   "outputs": [],
   "source": [
    "\n",
    "X_reduced_pca = PCA(n_components=2, random_state=42).fit_transform(train_data_sampled.values)\n",
    "\n",
    "# TruncatedSVD\n",
    "X_reduced_svd = TruncatedSVD(n_components=2, algorithm='randomized', random_state=42).fit_transform(train_data_sampled.values)\n"
   ]
  },
  {
   "cell_type": "code",
   "execution_count": 282,
   "metadata": {},
   "outputs": [],
   "source": [
    "import matplotlib.patches as mpatches"
   ]
  },
  {
   "cell_type": "code",
   "execution_count": 301,
   "metadata": {},
   "outputs": [
    {
     "data": {
      "image/png": "[encoded data removed]",
      "text/plain": [
       "<Figure size 1728x432 with 3 Axes>"
      ]
     },
     "metadata": {
      "needs_background": "light"
     },
     "output_type": "display_data"
    }
   ],
   "source": [
    "f, (ax1, ax2, ax3) = plt.subplots(1, 3, figsize=(24,6))\n",
    "# labels = ['No Fraud', 'Fraud']\n",
    "f.suptitle('Clusters using Dimensionality Reduction', fontsize=14)\n",
    "\n",
    "blue_patch = mpatches.Patch(color='#0A0AFF', label='No Delinqeuncy')\n",
    "red_patch = mpatches.Patch(color='#AF0000', label='Delinqeuncy')\n",
    "\n",
    "ax1.scatter(X_reduced_tsne[:, 0], X_reduced_tsne[:, 1], c=(train_labels_sampled[\"m13\"]==0), cmap=\"coolwarm\", label=\"No delinqeuncy\", linewidth=2)\n",
    "ax1.scatter(X_reduced_tsne[:, 0], X_reduced_tsne[:, 1], c=(train_labels_sampled[\"m13\"]==1), cmap=\"coolwarm\", label=\"delinqeuncy\", linewidth=2)\n",
    "ax1.legend(handles=[blue_patch, red_patch])\n",
    "ax1.set_title(\"t-SNE\", fontsize=14)\n",
    "ax1.grid(True)\n",
    "\n",
    "# PCA scatter plot\n",
    "ax2.scatter(X_reduced_pca[:,0], X_reduced_pca[:,1], c=(train_labels_sampled[\"m13\"]==0), cmap='coolwarm', label='No Fraud', linewidths=2)\n",
    "ax2.scatter(X_reduced_pca[:,0], X_reduced_pca[:,1], c=(train_labels_sampled[\"m13\"]==1), cmap='coolwarm', label='Fraud', linewidths=2)\n",
    "ax2.set_title('PCA', fontsize=14)\n",
    "\n",
    "ax2.grid(True)\n",
    "\n",
    "ax2.legend(handles=[blue_patch, red_patch])\n",
    "\n",
    "# TruncatedSVD scatter plot\n",
    "ax3.scatter(X_reduced_svd[:,0], X_reduced_svd[:,1], c=(train_labels_sampled[\"m13\"]==0), cmap='coolwarm', label='No Fraud', linewidths=2)\n",
    "ax3.scatter(X_reduced_svd[:,0], X_reduced_svd[:,1], c=(train_labels_sampled[\"m13\"]==1), cmap='coolwarm', label='Fraud', linewidths=2)\n",
    "ax3.set_title('Truncated SVD', fontsize=14)\n",
    "\n",
    "ax3.grid(True)\n",
    "\n",
    "ax3.legend(handles=[blue_patch, red_patch])\n",
    "\n",
    "plt.show()\n",
    "\n"
   ]
  }
 ],
 "metadata": {
  "kernelspec": {
   "display_name": "Python 3",
   "language": "python",
   "name": "python3"
  },
  "language_info": {
   "codemirror_mode": {
    "name": "ipython",
    "version": 3
   },
   "file_extension": ".py",
   "mimetype": "text/x-python",
   "name": "python",
   "nbconvert_exporter": "python",
   "pygments_lexer": "ipython3",
   "version": "3.7.1"
  }
 },
 "nbformat": 4,
 "nbformat_minor": 2
}
